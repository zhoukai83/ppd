{
 "cells": [
  {
   "cell_type": "code",
   "execution_count": 44,
   "metadata": {},
   "outputs": [],
   "source": [
    "import json\n",
    "from IPython.display import display"
   ]
  },
  {
   "cell_type": "code",
   "execution_count": 38,
   "metadata": {},
   "outputs": [],
   "source": [
    "    def change_key(item):\n",
    "        key_dict = {}\n",
    "        key_dict[\"listingId\"] = \"listingId\"\n",
    "        key_dict[\"creationDate\"] = \"creationDate\"\n",
    "        key_dict[\"User\"] = \"User\"\n",
    "        \n",
    "\n",
    "\n",
    "        key_dict[\"amount\"] = \"借款金额\"\n",
    "        key_dict[\"creditCode\"] = \"级别\"\n",
    "        key_dict[\"showRate\"] = \"协议利率\"   # currentRate\n",
    "        key_dict[\"months\"] = \"期限\"\n",
    "        key_dict[\"loanUse\"] = \"借款用途\"\n",
    "        \n",
    "        key_dict[\"gender\"] = \"性别\"\n",
    "        key_dict[\"age\"] = \"年龄\"\n",
    "        key_dict[\"income\"] = \"收入情况\"\n",
    "        key_dict[\"repaymentSourceType\"] = \"还款来源\"\n",
    "        key_dict[\"workInfo\"] = \"工作信息\"\n",
    "        key_dict[\"registerDateStr\"] = \"注册时间\"\n",
    "        key_dict[\"graduate\"] = \"毕业院校\"\n",
    "        key_dict[\"educationDegree\"] = \"文化程度\"\n",
    "        key_dict[\"studyStyle\"] = \"学习形式\" \n",
    "\n",
    "        key_dict[\"owingAmount\"] = \"待还金额\"\n",
    "        key_dict[\"overdueLessNum\"] = \"逾期（0-15天）还清次数\"\n",
    "        key_dict[\"overdueMoreNum\"] = \"逾期（15天以上）还清次数\"\n",
    "        \n",
    "        key_dict[\"firstSuccessDate\"] =  \"第一次成功借款时间\"\n",
    "        key_dict[\"totalPrincipal\"] =  \"累计借款金额\"\n",
    "        \n",
    "        key_dict[\"successNum\"] = \"成功借款次数\"\n",
    "        key_dict[\"normalNum\"] = \"正常还清次数\"\n",
    "        \n",
    "        key_dict[\"debtAmountMax\"] = \"历史最高负债\"\n",
    "        key_dict[\"loanAmountMax\"] = \"单笔最高借款金额\"\n",
    "        \n",
    "        key_dict[\"EducationDegree\"] = \"文化程度\"\n",
    "        key_dict[\"GraduateSchool\"] = \"毕业院校\"\n",
    "        key_dict[\"StudyStyle\"] = \"学习形式\"\n",
    "        new_item = {}\n",
    "        for key, value in key_dict.items():\n",
    "            if key not in item:\n",
    "                continue\n",
    "\n",
    "            new_item[value] = item[key]\n",
    "            # if key == \"Gender\":\n",
    "            #     if item[value] == 2:\n",
    "            #         item[value] = \"女\"\n",
    "            #     elif item[value] == 1:\n",
    "            #         item[value] = \"男\"\n",
    "            #     else:\n",
    "            #         raise ValueError(f\"does not know geder value {item}\")\n",
    "            # elif key == \"EducationDegree\":\n",
    "            #     if item[value] is None:\n",
    "            #         item[value] = \"无\"\n",
    "        \n",
    "        if \"正常还清次数\" in new_item and \"逾期（0-15天）还清次数\" in new_item and \"逾期（15天以上）还清次数\" in new_item:\n",
    "            new_item[\"成功还款次数\"] = new_item[\"正常还清次数\"] + new_item[\"逾期（0-15天）还清次数\"] + new_item[\"逾期（15天以上）还清次数\"]\n",
    "        return new_item"
   ]
  },
  {
   "cell_type": "code",
   "execution_count": 45,
   "metadata": {},
   "outputs": [
    {
     "data": {
      "text/plain": [
       "{'listingId': 127064996,\n",
       " 'creationDate': '2018-09-03 15:42:27',\n",
       " 'User': 'pdu2****06048',\n",
       " '借款金额': 2000.0,\n",
       " '级别': 'B',\n",
       " '协议利率': 20.0,\n",
       " '期限': 6,\n",
       " '借款用途': '日常消费'}"
      ]
     },
     "metadata": {},
     "output_type": "display_data"
    }
   ],
   "source": [
    "#listing_base_info\n",
    "\n",
    "listing_id = 127064996\n",
    "\n",
    "\n",
    "with open(f\"..\\\\data\\\\showListingBaseInfo\\\\showListingBaseInfo_{listing_id}.json\", encoding=\"utf-8\") as f:\n",
    "    base_info = f.read()\n",
    "    json_data = json.loads(base_info)\n",
    "    \n",
    "    base_info = json_data[\"resultContent\"][\"listing\"]\n",
    "    base_info[\"loanUse\"] = json_data[\"resultContent\"][\"loanUse\"]\n",
    "    base_info[\"User\"] = json_data[\"resultContent\"][\"userInfo\"][\"userName\"]\n",
    "base_info = change_key(base_info)        \n",
    "display(base_info)"
   ]
  },
  {
   "cell_type": "code",
   "execution_count": null,
   "metadata": {},
   "outputs": [],
   "source": []
  },
  {
   "cell_type": "code",
   "execution_count": 47,
   "metadata": {},
   "outputs": [
    {
     "data": {
      "text/plain": [
       "{'listingId': 127064996,\n",
       " '性别': '女',\n",
       " '年龄': '30',\n",
       " '收入情况': '15000及以上',\n",
       " '还款来源': '薪资收入',\n",
       " '工作信息': '暂未提供',\n",
       " '注册时间': '2016-12-05',\n",
       " '文化程度': '无',\n",
       " '毕业院校': '无',\n",
       " '学习形式': '无'}"
      ]
     },
     "metadata": {},
     "output_type": "display_data"
    }
   ],
   "source": [
    "with open(f\"..\\\\data\\\\showBorrowerInfo\\\\showBorrowerInfo_{listing_id}.json\", encoding=\"utf-8\") as f:\n",
    "    borrower_info = f.read()\n",
    "    json_data = json.loads(borrower_info)\n",
    "    \n",
    "\n",
    "    if json_data.get(\"result\", -999) != 1:\n",
    "        logger.warning(f\"get_show_borrower_info f{listing_id}: return f{json_data}\")\n",
    "\n",
    "    borrower_info = json_data[\"resultContent\"]\n",
    "    borrower_info[\"listingId\"] = listing_id\n",
    "\n",
    "    if \"userAuthsList\" in borrower_info:\n",
    "        for item in borrower_info[\"userAuthsList\"]:\n",
    "            borrower_info[item[\"name\"]] = True\n",
    "            \n",
    "    if \"educationInfo\" in borrower_info:\n",
    "        for edu_name, edu_value in borrower_info[\"educationInfo\"].items():\n",
    "            borrower_info[edu_name] = edu_value\n",
    "    else:\n",
    "        borrower_info[\"EducationDegree\"] = \"无\"\n",
    "        borrower_info[\"GraduateSchool\"] = \"无\"\n",
    "        borrower_info[\"StudyStyle\"] = \"无\"\n",
    "    \n",
    "\n",
    "borrower_info = change_key(borrower_info)\n",
    "display(borrower_info)"
   ]
  },
  {
   "cell_type": "code",
   "execution_count": 48,
   "metadata": {},
   "outputs": [
    {
     "data": {
      "text/plain": [
       "{'listingId': 127064996,\n",
       " '待还金额': 11845.89,\n",
       " '逾期（0-15天）还清次数': 0,\n",
       " '逾期（15天以上）还清次数': 0,\n",
       " '第一次成功借款时间': '2016-12-06 11:16:55',\n",
       " '累计借款金额': 69079.0,\n",
       " '成功借款次数': 21,\n",
       " '正常还清次数': 145,\n",
       " '历史最高负债': 23859.34,\n",
       " '单笔最高借款金额': 11934.0,\n",
       " '成功还款次数': 145}"
      ]
     },
     "metadata": {},
     "output_type": "display_data"
    }
   ],
   "source": [
    "with open(f\"..\\\\data\\\\showBorrowerStatistics\\\\showBorrowerStatistics_{listing_id}.json\", encoding=\"utf-8\") as f:\n",
    "    borrower_statistics = f.read()\n",
    "    json_data = json.loads(borrower_statistics)\n",
    "\n",
    "    if json_data.get(\"result\", -999) != 1:\n",
    "        logger.warning(f\"get_show_borrower_info f{listing_id}: return f{json_data}\")\n",
    "\n",
    "    borrower_statistics = json_data[\"resultContent\"][\"loanerStatistics\"]\n",
    "    borrower_statistics[\"successNum\"] = json_data[\"resultContent\"][\"loanerStatistics\"][\"listingStatics\"][\"successNum\"]\n",
    "    borrower_statistics[\"firstSuccessDate\"] = json_data[\"resultContent\"][\"loanerStatistics\"][\"listingStatics\"][\"firstSuccessDate\"]\n",
    "    borrower_statistics[\"listingId\"] = listing_id\n",
    "    \n",
    "\n",
    "borrower_statistics = change_key(borrower_statistics)\n",
    "display(borrower_statistics)"
   ]
  },
  {
   "cell_type": "code",
   "execution_count": 52,
   "metadata": {},
   "outputs": [
    {
     "data": {
      "text/plain": [
       "{'listingId': 127064996,\n",
       " 'creationDate': '2018-09-03 15:42:27',\n",
       " 'User': 'pdu2****06048',\n",
       " '借款金额': 2000.0,\n",
       " '级别': 'B',\n",
       " '协议利率': 20.0,\n",
       " '期限': 6,\n",
       " '借款用途': '日常消费',\n",
       " '性别': '女',\n",
       " '年龄': '30',\n",
       " '收入情况': '15000及以上',\n",
       " '还款来源': '薪资收入',\n",
       " '工作信息': '暂未提供',\n",
       " '注册时间': '2016-12-05',\n",
       " '文化程度': '无',\n",
       " '毕业院校': '无',\n",
       " '学习形式': '无',\n",
       " '待还金额': 11845.89,\n",
       " '逾期（0-15天）还清次数': 0,\n",
       " '逾期（15天以上）还清次数': 0,\n",
       " '第一次成功借款时间': '2016-12-06 11:16:55',\n",
       " '累计借款金额': 69079.0,\n",
       " '成功借款次数': 21,\n",
       " '正常还清次数': 145,\n",
       " '历史最高负债': 23859.34,\n",
       " '单笔最高借款金额': 11934.0,\n",
       " '成功还款次数': 145}"
      ]
     },
     "execution_count": 52,
     "metadata": {},
     "output_type": "execute_result"
    }
   ],
   "source": [
    "{**base_info, **borrower_info, **borrower_statistics}"
   ]
  },
  {
   "cell_type": "code",
   "execution_count": null,
   "metadata": {},
   "outputs": [],
   "source": []
  },
  {
   "cell_type": "code",
   "execution_count": null,
   "metadata": {},
   "outputs": [],
   "source": []
  }
 ],
 "metadata": {
  "kernelspec": {
   "display_name": "Python 3",
   "language": "python",
   "name": "python3"
  },
  "language_info": {
   "codemirror_mode": {
    "name": "ipython",
    "version": 3
   },
   "file_extension": ".py",
   "mimetype": "text/x-python",
   "name": "python",
   "nbconvert_exporter": "python",
   "pygments_lexer": "ipython3",
   "version": "3.7.0"
  }
 },
 "nbformat": 4,
 "nbformat_minor": 2
}
