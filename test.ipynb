{
 "cells": [
  {
   "cell_type": "code",
   "execution_count": 143,
   "metadata": {
    "collapsed": true
   },
   "outputs": [],
   "source": [
    "import os\n",
    "\n",
    "import requests\n",
    "import pymongo\n",
    "import json\n"
   ]
  },
  {
   "cell_type": "code",
   "execution_count": 54,
   "metadata": {
    "collapsed": false
   },
   "outputs": [
    {
     "name": "stdout",
     "output_type": "stream",
     "text": [
      "The slowest run took 7.12 times longer than the fastest. This could mean that an intermediate result is being cached.\n",
      "10000 loops, best of 3: 30.1 µs per loop\n"
     ]
    }
   ],
   "source": [
    "%timeit os.path.exists(\"finishData\\913001.csv\")"
   ]
  },
  {
   "cell_type": "code",
   "execution_count": 55,
   "metadata": {
    "collapsed": false
   },
   "outputs": [
    {
     "name": "stdout",
     "output_type": "stream",
     "text": [
      "The slowest run took 6.66 times longer than the fastest. This could mean that an intermediate result is being cached.\n",
      "10000 loops, best of 3: 30.1 µs per loop\n"
     ]
    }
   ],
   "source": [
    "%timeit os.path.isfile('finishData\\913001.csv')"
   ]
  },
  {
   "cell_type": "code",
   "execution_count": 144,
   "metadata": {
    "collapsed": false
   },
   "outputs": [],
   "source": [
    "conn = pymongo.MongoClient('10.164.120.164', 27017)\n",
    "db = conn.ShieldResult  #连接mydb数据库，没有则自动创建\n",
    "my_set = db.ShieldRun #使用test_set集合，没有则自动创建"
   ]
  },
  {
   "cell_type": "code",
   "execution_count": 145,
   "metadata": {
    "collapsed": false
   },
   "outputs": [
    {
     "name": "stdout",
     "output_type": "stream",
     "text": [
      "{'ptests': ['Authentication\\\\LogInLogOut', 'Browse\\\\BrowseNetworks', 'Browse\\\\BrowseRecommendation', 'Browse\\\\MoviesFilterSort', 'Browse\\\\TVShowsFilterSort', 'DetailsPage\\\\PackageDetailsPage', 'DetailsPage\\\\TVShowsSeriesDetailsPage', 'Dialogs\\\\FeedbackDialog', 'Duplex\\\\DuplexPin', 'Duplex\\\\DuplexPurchaseAndVerify', 'DVR\\\\DvrCapability', 'Favorites\\\\ManageFavoriteMovie', 'Favorites\\\\ManageFavoriteTVShow', 'GoldenThreads\\\\BrowseFilterViewDetailsVOD\\\\BrowseFilterCategoryViewDetailsMovie', 'GoldenThreads\\\\BrowseFilterViewDetailsVOD\\\\BrowseFilterFreeViewDetailsMovie', 'GoldenThreads\\\\BrowseFilterViewDetailsVOD\\\\BrowseFilterLanguageViewDetailsMovie', 'GoldenThreads\\\\BrowseRentPlayVOD\\\\BrowseRentPlayMovie', 'GoldenThreads\\\\BrowseRentPlayVOD\\\\BrowseRentPlayTVShow', 'GoldenThreads\\\\ControlVODPlayback\\\\ControlMoviePlayback', 'GoldenThreads\\\\ControlVODPlayback\\\\ControlTVShowPlayback', 'GoldenThreads\\\\DVR\\\\DvrRecordingDuration', 'GoldenThreads\\\\DVR\\\\ScheduleEditCancelTV2', 'GoldenThreads\\\\DVR\\\\ScheduleEditCancelTV3', 'GoldenThreads\\\\FavoriteUnfavoriteVOD\\\\FavoriteUnfavoriteMovie', 'GoldenThreads\\\\FavoriteUnfavoriteVOD\\\\FavoriteUnfavoriteTVShow', 'GoldenThreads\\\\RentPlayVODPackage\\\\RentPlayMoviePackage', 'GoldenThreads\\\\SearchRentPlayVOD\\\\SearchRentPlayMovie', 'GoldenThreads\\\\SearchRentPlayVOD\\\\SearchRentPlayTVShow', 'GoldenThreads\\\\ViewEPGPlayLiveTVShow\\\\ViewEPGPlayLiveTVShow', 'LiveTV\\\\LiveTVGuideFilter', 'LiveTV\\\\LiveTVGuidePlaybackSplashTitle', 'LiveTV\\\\LiveTVPlayback', 'LiveTV\\\\LiveTVPlaybackGuide', 'Navigation\\\\GoHubPage', 'PurchaseAndPlay\\\\BuyMovieAndPlay', 'PurchaseAndPlay\\\\BuyTVShowsAndPlay', 'Search\\\\Search', 'Search\\\\SearchActor', 'Search\\\\SearchLiveAssets', 'Search\\\\SearchOptions', 'YourTV\\\\Filmstrip', 'YourTV\\\\Hubs'], '_id': ObjectId('5b5ec6efcb0f251360c22617'), 'env': 'ohydra', 'ftests': ['Catchup\\\\CatchupTVPlayback', 'LiveTV\\\\LiveTVPlaybackPlayPause'], 'buildNumber': '20180729-421097c-4-rs', 'tag': 'ci', 'var': ['mockMode=record', 'logToMongoDb=record'], 'etime': 1532937965375.0, 'url': 'http://reachclient.ofunk.mr.tv3cloud.com/?TBN=${BuildNumber}-mr-int', 'runType': 'record', 'stime': 1532937263000.0, 'agent': 'MR-EKAIZHO-01', 'totalCount': 44, 'excluded': ['undefined'], 'dev': 'ieedge', 'runId': '15329372639195340', 'ttests': []}\n",
      "\n",
      "{'ptests': [], '_id': ObjectId('5b5ec407cb0f251360c22616'), 'env': 'ohydra', 'ftests': ['Authentication\\\\LogInLogOut'], 'buildNumber': '20180729-421097c-4-rs', 'tag': 'mongodb', 'var': ['mockMode=ci', 'logToMongoDb=record'], 'etime': 1532937221573.0, 'url': 'http://reachclient.ofunk.mr.tv3cloud.com/?TBN=${BuildNumber}-mr-int', 'runType': 'record', 'stime': 1532937120000.0, 'agent': 'MR-EKAIZHO-01', 'totalCount': 1, 'excluded': ['undefined'], 'dev': 'ieedge', 'runId': '15329371201455718', 'ttests': []}\n",
      "\n",
      "finish\n"
     ]
    }
   ],
   "source": [
    "for i in my_set.find().sort('_id', pymongo.DESCENDING).limit(2):\n",
    "    print(i)\n",
    "    print(\"\")\n",
    "print(\"finish\")"
   ]
  },
  {
   "cell_type": "code",
   "execution_count": 101,
   "metadata": {
    "collapsed": true
   },
   "outputs": [],
   "source": [
    "headers = {\n",
    "    \"Host\": \"invest.ppdai.com\",\n",
    "    \"Connection\": \"keep-alive\",\n",
    "    \"Content-Length\": \"297\",\n",
    "    \"Accept\": \"application/json, text/plain, */*\",\n",
    "    \"Origin\": \"https://invest.ppdai.com\",\n",
    "    \"User-Agent\": \"Mozilla/5.0 (Windows NT 6.3; Win64; x64) AppleWebKit/537.36 (KHTML, like Gecko) Chrome/67.0.3396.99 Safari/537.36\",\n",
    "    \"Content-Type\": \"application/json;charset=UTF-8\",\n",
    "    \"Referer\": \"https://invest.ppdai.com/loan/listpage/?risk=1&mirror=&pageIndex=1&period=&sex=male&money=,&times=&auth=&rate=\",\n",
    "    \"Accept-Encoding\": \"gzip, deflate, br\",\n",
    "    \"Accept-Language\": \"en-US,en;q=0.9\",\n",
    "    \"Cookie\": \"aliyungf_tc=AQAAADy/WAbIdQgAjlD3PFdNL6QHjLf8; sajssdk_2015_cross_new_user=1; sensorsdata2015jssdkcross=%7B%22distinct_id%22%3A%22164f43356d917-044d577ffb8d9d-5b193613-2304000-164f43356db7d4%22%2C%22%24device_id%22%3A%22164f43356d917-044d577ffb8d9d-5b193613-2304000-164f43356db7d4%22%2C%22props%22%3A%7B%22%24latest_traffic_source_type%22%3A%22%E7%9B%B4%E6%8E%A5%E6%B5%81%E9%87%8F%22%2C%22%24latest_referrer%22%3A%22%22%2C%22%24latest_referrer_host%22%3A%22%22%2C%22%24latest_search_keyword%22%3A%22%E6%9C%AA%E5%8F%96%E5%88%B0%E5%80%BC(%E7%9B%B4%E6%8E%A5%E6%89%93%E5%BC%80)%22%7D%7D\",\n",
    "}\n",
    "\n",
    "url = \"https://invest.ppdai.com/api/invapi/ListingListNoAuthService/listingPagerNoAuth\"\n",
    "post_data = '{\"authInfo\":\"\",\"authenticated\":false,\"availableBalance\":0,\"creditCodes\":\"\",\"dataList\":[],\"didIBid\":\"0\",\"maxAmount\":0,\"minAmount\":0,\"months\":\"\",\"needTotalCount\":true,\"pageCount\":0,\"pageIndex\":1,\"pageSize\":99,\"rates\":\"\",\"riskLevelCategory\":\"1\",\"sort\":0,\"source\":1,\"successLoanNum\":\"\",\"totalCount\":0}'\n",
    "\n",
    "session = requests.Session()\n",
    "req = session.post(url, data=post_data, headers=headers)\n",
    "response_text = req.text"
   ]
  },
  {
   "cell_type": "code",
   "execution_count": 102,
   "metadata": {
    "collapsed": false
   },
   "outputs": [
    {
     "data": {
      "text/plain": [
       "'{\"result\":1,\"resultContent\":{\"authInfo\":\"\",\"authenticated\":false,\"availableBalance\":0,\"creditCodes\":\"\",\"dataList\":[{\"amount\":7969.0000,\"bids\":121,\"borrowerName\":\"pdu8****72145\",\"certificateValidate\":1,\"creditCode\":\"B\",\"creditValidate\":0,\"currentRate\":20.0,\"funding\":7756.0000,\"isPay\":false,\"listingId\":123671375,\"mobileRealnameValidate\":1,\"months\":12,\"nCIICIdentityCheck\":0,\"statusId\":1,\"title\":\"pdu8****72145第17次借款\"},{\"amount\":2130.0000,\"bids\":19,\"borrowerName\":\"pdu3****42520\",\"certificateValidate\":0,\"creditCode\":\"C\",\"creditValidate\":0,\"currentRate\":24.0,\"funding\":2031.0000,\"isPay\":false,\"listingId\":123672709,\"mobileRealnameValidate\":1,\"months\":12,\"nCIICIdentityCheck\":0,\"statusId\":1,\"title\":\"pdu3****42520第9次借款\"},{\"amount\":7000.0000,\"bids\":80,\"borrowerName\":\"pdu2****13732\",\"certificateValidate\":0,\"creditCode\":\"C\",\"creditValidate\":0,\"currentRate\":24.0,\"funding\":6386.0000,\"isPay\":false,\"listingId\":123671922,\"mobileRealnameValidate\":1,\"months\":6,\"nCIICIdentityCheck\":0,\"statusId\":1,\"title\":\"pdu2****13732第8次借款\"},{\"amount\":10723.0000,\"bids\":132,\"borrowerName\":\"pdu5****87048\",\"certificateValidate\":1,\"creditCode\":\"C\",\"creditValidate\":0,\"currentRate\":24.0,\"funding\":9333.0000,\"isPay\":false,\"listingId\":123662193,\"mobileRealnameValidate\":1,\"months\":3,\"nCIICIdentityCheck\":0,\"statusId\":1,\"title\":\"手机app用户的借款\"},{\"amount\":1832.0000,\"bids\":16,\"borrowerName\":\"pdu6****37371\",\"certificateValidate\":0,\"creditCode\":\"C\",\"creditValidate\":0,\"currentRate\":24.0,\"funding\":1534.0000,\"isPay\":false,\"listingId\":123669465,\"mobileRealnameValidate\":1,\"months\":6,\"nCIICIdentityCheck\":0,\"statusId\":1,\"title\":\"手机app用户的第2次闪电借款\"},{\"amount\":7000.0000,\"bids\":65,\"borrowerName\":\"pdu6****73715\",\"certificateValidate\":0,\"creditCode\":\"B\",\"creditValidate\":0,\"currentRate\":20.0,\"funding\":5842.0000,\"isPay\":false,\"listingId\":123671084,\"mobileRealnameValidate\":1,\"months\":12,\"nCIICIdentityCheck\":0,\"statusId\":1,\"title\":\"手机app用户的第5次闪电借款\"},{\"amount\":1623.0000,\"bids\":23,\"borrowerName\":\"1****d\",\"certificateValidate\":0,\"creditCode\":\"B\",\"creditValidate\":0,\"currentRate\":20.0,\"funding\":1352.0000,\"isPay\":false,\"listingId\":123655885,\"mobileRealnameValidate\":1,\"months\":6,\"nCIICIdentityCheck\":0,\"statusId\":1,\"title\":\"1****d第13次借款\"},{\"amount\":1000.0000,\"bids\":6,\"borrowerName\":\"pdu8****42813\",\"certificateValidate\":0,\"creditCode\":\"C\",\"creditValidate\":0,\"currentRate\":24.0,\"funding\":832.0000,\"isPay\":false,\"listingId\":123672518,\"mobileRealnameValidate\":1,\"months\":6,\"nCIICIdentityCheck\":0,\"statusId\":1,\"title\":\"手机app用户的第4次闪电借款\"},{\"amount\":3390.0000,\"bids\":35,\"borrowerName\":\"pdu4****03365\",\"certificateValidate\":0,\"creditCode\":\"C\",\"creditValidate\":0,\"currentRate\":24.0,\"funding\":2784.0000,\"isPay\":false,\"listingId\":123672320,\"mobileRealnameValidate\":1,\"months\":6,\"nCIICIdentityCheck\":0,\"statusId\":1,\"title\":\"pdu4****03365第3次借款\"},{\"amount\":3500.0000,\"bids\":35,\"borrowerName\":\"pdu4****36760\",\"certificateValidate\":0,\"creditCode\":\"B\",\"creditValidate\":0,\"currentRate\":20.0,\"funding\":2769.0000,\"isPay\":false,\"listingId\":123653845,\"mobileRealnameValidate\":1,\"months\":6,\"nCIICIdentityCheck\":0,\"statusId\":1,\"title\":\"手机app用户的第3次闪电借款\"}],\"didIBid\":\"0\",\"maxAmount\":0,\"minAmount\":0,\"months\":\"\",\"needTotalCount\":true,\"pageCount\":25,\"pageIndex\":1,\"pageSize\":10,\"rates\":\"\",\"riskLevelCategory\":1,\"sort\":0,\"source\":1,\"successLoanNum\":\"\",\"totalCount\":244},\"resultMessage\":\"成功\"}'"
      ]
     },
     "execution_count": 102,
     "metadata": {},
     "output_type": "execute_result"
    }
   ],
   "source": [
    "response_text"
   ]
  },
  {
   "cell_type": "code",
   "execution_count": 104,
   "metadata": {
    "collapsed": false
   },
   "outputs": [
    {
     "name": "stdout",
     "output_type": "stream",
     "text": [
      "{'resultMessage': '成功', 'resultContent': {'authenticated': False, 'creditCodes': '', 'months': '', 'dataList': [{'nCIICIdentityCheck': 0, 'months': 12, 'mobileRealnameValidate': 1, 'certificateValidate': 1, 'currentRate': 20.0, 'funding': 7756.0, 'creditCode': 'B', 'title': 'pdu8****72145第17次借款', 'listingId': 123671375, 'borrowerName': 'pdu8****72145', 'bids': 121, 'amount': 7969.0, 'creditValidate': 0, 'statusId': 1, 'isPay': False}, {'nCIICIdentityCheck': 0, 'months': 12, 'mobileRealnameValidate': 1, 'certificateValidate': 0, 'currentRate': 24.0, 'funding': 2031.0, 'creditCode': 'C', 'title': 'pdu3****42520第9次借款', 'listingId': 123672709, 'borrowerName': 'pdu3****42520', 'bids': 19, 'amount': 2130.0, 'creditValidate': 0, 'statusId': 1, 'isPay': False}, {'nCIICIdentityCheck': 0, 'months': 6, 'mobileRealnameValidate': 1, 'certificateValidate': 0, 'currentRate': 24.0, 'funding': 6386.0, 'creditCode': 'C', 'title': 'pdu2****13732第8次借款', 'listingId': 123671922, 'borrowerName': 'pdu2****13732', 'bids': 80, 'amount': 7000.0, 'creditValidate': 0, 'statusId': 1, 'isPay': False}, {'nCIICIdentityCheck': 0, 'months': 3, 'mobileRealnameValidate': 1, 'certificateValidate': 1, 'currentRate': 24.0, 'funding': 9333.0, 'creditCode': 'C', 'title': '手机app用户的借款', 'listingId': 123662193, 'borrowerName': 'pdu5****87048', 'bids': 132, 'amount': 10723.0, 'creditValidate': 0, 'statusId': 1, 'isPay': False}, {'nCIICIdentityCheck': 0, 'months': 6, 'mobileRealnameValidate': 1, 'certificateValidate': 0, 'currentRate': 24.0, 'funding': 1534.0, 'creditCode': 'C', 'title': '手机app用户的第2次闪电借款', 'listingId': 123669465, 'borrowerName': 'pdu6****37371', 'bids': 16, 'amount': 1832.0, 'creditValidate': 0, 'statusId': 1, 'isPay': False}, {'nCIICIdentityCheck': 0, 'months': 12, 'mobileRealnameValidate': 1, 'certificateValidate': 0, 'currentRate': 20.0, 'funding': 5842.0, 'creditCode': 'B', 'title': '手机app用户的第5次闪电借款', 'listingId': 123671084, 'borrowerName': 'pdu6****73715', 'bids': 65, 'amount': 7000.0, 'creditValidate': 0, 'statusId': 1, 'isPay': False}, {'nCIICIdentityCheck': 0, 'months': 6, 'mobileRealnameValidate': 1, 'certificateValidate': 0, 'currentRate': 20.0, 'funding': 1352.0, 'creditCode': 'B', 'title': '1****d第13次借款', 'listingId': 123655885, 'borrowerName': '1****d', 'bids': 23, 'amount': 1623.0, 'creditValidate': 0, 'statusId': 1, 'isPay': False}, {'nCIICIdentityCheck': 0, 'months': 6, 'mobileRealnameValidate': 1, 'certificateValidate': 0, 'currentRate': 24.0, 'funding': 832.0, 'creditCode': 'C', 'title': '手机app用户的第4次闪电借款', 'listingId': 123672518, 'borrowerName': 'pdu8****42813', 'bids': 6, 'amount': 1000.0, 'creditValidate': 0, 'statusId': 1, 'isPay': False}, {'nCIICIdentityCheck': 0, 'months': 6, 'mobileRealnameValidate': 1, 'certificateValidate': 0, 'currentRate': 24.0, 'funding': 2784.0, 'creditCode': 'C', 'title': 'pdu4****03365第3次借款', 'listingId': 123672320, 'borrowerName': 'pdu4****03365', 'bids': 35, 'amount': 3390.0, 'creditValidate': 0, 'statusId': 1, 'isPay': False}, {'nCIICIdentityCheck': 0, 'months': 6, 'mobileRealnameValidate': 1, 'certificateValidate': 0, 'currentRate': 20.0, 'funding': 2769.0, 'creditCode': 'B', 'title': '手机app用户的第3次闪电借款', 'listingId': 123653845, 'borrowerName': 'pdu4****36760', 'bids': 35, 'amount': 3500.0, 'creditValidate': 0, 'statusId': 1, 'isPay': False}], 'needTotalCount': True, 'totalCount': 244, 'rates': '', 'source': 1, 'availableBalance': 0, 'maxAmount': 0, 'successLoanNum': '', 'didIBid': '0', 'riskLevelCategory': 1, 'pageCount': 25, 'sort': 0, 'minAmount': 0, 'authInfo': '', 'pageSize': 10, 'pageIndex': 1}, 'result': 1}\n"
     ]
    }
   ],
   "source": [
    "json_data = json.loads(response_text)\n",
    "print(json_data)"
   ]
  },
  {
   "cell_type": "code",
   "execution_count": 158,
   "metadata": {
    "collapsed": true
   },
   "outputs": [],
   "source": [
    "def fetch_latest_from_db():\n",
    "    return list(collection_listing.find().sort('_id', pymongo.DESCENDING).limit(300))\n",
    "\n",
    "\n",
    "def listing_exist(listing, db_list):\n",
    "    for item in db_list:\n",
    "        if listing[\"listingId\"] == item[\"listingId\"]:\n",
    "            return True\n",
    "    \n",
    "    return False"
   ]
  },
  {
   "cell_type": "code",
   "execution_count": 159,
   "metadata": {
    "collapsed": false
   },
   "outputs": [
    {
     "name": "stdout",
     "output_type": "stream",
     "text": [
      "244 25\n",
      "<pymongo.results.InsertOneResult object at 0x00000065DA5F9F88>\n",
      "<pymongo.results.InsertOneResult object at 0x00000065DA5F94C8>\n",
      "<pymongo.results.InsertOneResult object at 0x00000065DA5F9EC8>\n",
      "<pymongo.results.InsertOneResult object at 0x00000065DA5F9648>\n"
     ]
    }
   ],
   "source": [
    "conn = pymongo.MongoClient('10.164.120.164', 27017)\n",
    "db_ppd = conn.ppd  #连接mydb数据库，没有则自动创建\n",
    "collection_listing = db_ppd.Listing #使用test_set集合，没有则自动创建\n",
    "\n",
    "listings = fetch_latest_from_db()\n",
    "\n",
    "if \"totalCount\" in json_data[\"resultContent\"]:\n",
    "    total_count = json_data[\"resultContent\"][\"totalCount\"]\n",
    "    page_count = json_data[\"resultContent\"][\"pageCount\"]\n",
    "    print(total_count, page_count)\n",
    "    \n",
    "    for item in json_data[\"resultContent\"][\"dataList\"]:   \n",
    "        if not listing_exist(item, listings):\n",
    "            x = collection_listing.insert_one(item)\n",
    "            print(x)"
   ]
  },
  {
   "cell_type": "code",
   "execution_count": 77,
   "metadata": {
    "collapsed": false
   },
   "outputs": [
    {
     "name": "stdout",
     "output_type": "stream",
     "text": [
      "{'_id': ObjectId('5b615775a6977cb97872786d'), 'nCIICIdentityCheck': 0, 'months': 12, 'mobileRealnameValidate': 1, 'certificateValidate': 0, 'currentRate': 24.0, 'creditValidate': 0, 'creditCode': 'C', 'title': '手机app用户的第2次闪电借款', 'listingId': 123534491, 'borrowerName': 'pdu3****20106', 'bids': 17, 'funding': 1653.0, 'amount': 1918.0, 'statusId': 1, 'isPay': False}\n",
      "{'_id': ObjectId('5b615775a6977cb97872786c'), 'nCIICIdentityCheck': 0, 'months': 6, 'mobileRealnameValidate': 1, 'certificateValidate': 0, 'currentRate': 20.0, 'creditValidate': 0, 'creditCode': 'B', 'title': '手机app用户的第4次闪电借款', 'listingId': 123537493, 'borrowerName': 'pdu7****62287', 'bids': 20, 'funding': 1277.0, 'amount': 1452.0, 'statusId': 1, 'isPay': False}\n"
     ]
    }
   ],
   "source": [
    "for item in collection_listing.find().sort('_id', pymongo.DESCENDING).limit(2):\n",
    "    print(item)"
   ]
  },
  {
   "cell_type": "code",
   "execution_count": 112,
   "metadata": {
    "collapsed": false
   },
   "outputs": [],
   "source": [
    "collection_listing_crawl = db_ppd.ListingCrawl\n",
    "if collection_listing_crawl.find_one({\"listing_listingId\": 98000002}):\n",
    "    print(\"exist\")"
   ]
  },
  {
   "cell_type": "code",
   "execution_count": 125,
   "metadata": {
    "collapsed": true
   },
   "outputs": [],
   "source": [
    "def db_with_retry(func, *args, **kwargs):\n",
    "    print(func)\n",
    "    MAX_RETRY = 5\n",
    "    retry = 0\n",
    "    while retry < MAX_RETRY:\n",
    "        try:\n",
    "            return func(*args, **kwargs)\n",
    "        except Exception as e:\n",
    "            print(e)\n",
    "        retry += 1\n",
    "\n",
    "    return None\n",
    "\n",
    "def db_with_retry_find_one(collection, filter_object):\n",
    "    return db_with_retry(collection.find_one, filter_object)"
   ]
  },
  {
   "cell_type": "code",
   "execution_count": 131,
   "metadata": {
    "collapsed": false
   },
   "outputs": [
    {
     "name": "stdout",
     "output_type": "stream",
     "text": [
      "<bound method Collection.find_one of Collection(Database(MongoClient(host=['10.164.120.164:27017'], document_class=dict, tz_aware=False, connect=True), 'ppd'), 'ListingCrawl')>\n",
      "37\n"
     ]
    }
   ],
   "source": [
    "result = db_with_retry(collection_listing_crawl.find_one, {\"listing_listingId\": 98000001})\n",
    "print(len(result))"
   ]
  },
  {
   "cell_type": "code",
   "execution_count": 142,
   "metadata": {
    "collapsed": false
   },
   "outputs": [
    {
     "name": "stdout",
     "output_type": "stream",
     "text": [
      "<bound method Collection.find of Collection(Database(MongoClient(host=['10.164.120.164:27017'], document_class=dict, tz_aware=False, connect=True), 'ppd'), 'ListingCrawl')>\n",
      "[]\n"
     ]
    }
   ],
   "source": [
    "result = db_with_retry(collection_listing_crawl.find, {\"listing_listingId\":  { \"$gt\": 98000011, \"$lt\": 98000041}})\n",
    "print(list(result))"
   ]
  },
  {
   "cell_type": "code",
   "execution_count": 141,
   "metadata": {
    "collapsed": false
   },
   "outputs": [
    {
     "name": "stdout",
     "output_type": "stream",
     "text": [
      "0\n",
      "1\n",
      "2\n",
      "3\n",
      "4\n"
     ]
    }
   ],
   "source": [
    "for x in range(5):\n",
    "    print(x)"
   ]
  },
  {
   "cell_type": "code",
   "execution_count": 167,
   "metadata": {
    "collapsed": false
   },
   "outputs": [
    {
     "name": "stdout",
     "output_type": "stream",
     "text": [
      "{'_id': ObjectId('5b6aa9d3a6977cb978727885'), 'nCIICIdentityCheck': 0, 'months': 6, 'mobileRealnameValidate': 1, 'certificateValidate': 0, 'currentRate': 20.0, 'creditValidate': 0, 'creditCode': 'B', 'title': '手机app用户的第3次闪电借款', 'listingId': 123653845, 'borrowerName': 'pdu4****36760', 'bids': 35, 'funding': 2769.0, 'amount': 3500.0, 'statusId': 1, 'isPay': False}\n",
      "{'_id': ObjectId('5b6aa9d3a6977cb978727884'), 'nCIICIdentityCheck': 0, 'months': 6, 'mobileRealnameValidate': 1, 'certificateValidate': 0, 'currentRate': 24.0, 'creditValidate': 0, 'creditCode': 'C', 'title': 'pdu4****03365第3次借款', 'listingId': 123672320, 'borrowerName': 'pdu4****03365', 'bids': 35, 'funding': 2784.0, 'amount': 3390.0, 'statusId': 1, 'isPay': False}\n",
      "{'_id': ObjectId('5b6aa9d3a6977cb978727883'), 'nCIICIdentityCheck': 0, 'months': 6, 'mobileRealnameValidate': 1, 'certificateValidate': 0, 'currentRate': 24.0, 'creditValidate': 0, 'creditCode': 'C', 'title': '手机app用户的第4次闪电借款', 'listingId': 123672518, 'borrowerName': 'pdu8****42813', 'bids': 6, 'funding': 832.0, 'amount': 1000.0, 'statusId': 1, 'isPay': False}\n",
      "{'_id': ObjectId('5b6aa9d3a6977cb978727882'), 'nCIICIdentityCheck': 0, 'months': 12, 'mobileRealnameValidate': 1, 'certificateValidate': 0, 'currentRate': 24.0, 'creditValidate': 0, 'creditCode': 'C', 'title': 'pdu3****42520第9次借款', 'listingId': 123672709, 'borrowerName': 'pdu3****42520', 'bids': 19, 'funding': 2031.0, 'amount': 2130.0, 'statusId': 1, 'isPay': False}\n",
      "{'_id': ObjectId('5b62bc9a94e45f1388764344'), 'nCIICIdentityCheck': 0, 'months': 3, 'mobileRealnameValidate': 1, 'certificateValidate': 0, 'currentRate': 24.0, 'funding': 369.0, 'creditCode': 'C', 'title': 'pdu2****48416第2次借款', 'listingId': 123672190, 'borrowerName': 'pdu2****48416', 'bids': 7, 'amount': 10000.0, 'creditValidate': 0, 'statusId': 1, 'isPay': False}\n",
      "{'_id': ObjectId('5b62bc9a94e45f1388764343'), 'nCIICIdentityCheck': 0, 'months': 6, 'mobileRealnameValidate': 1, 'certificateValidate': 0, 'currentRate': 20.0, 'funding': 670.0, 'creditCode': 'B', 'title': 'pdu0****34512第4次借款', 'listingId': 123672179, 'borrowerName': 'pdu0****34512', 'bids': 11, 'amount': 8000.0, 'creditValidate': 0, 'statusId': 1, 'isPay': False}\n",
      "{'_id': ObjectId('5b62bc9a94e45f1388764342'), 'nCIICIdentityCheck': 0, 'months': 12, 'mobileRealnameValidate': 1, 'certificateValidate': 0, 'currentRate': 24.0, 'funding': 1278.0, 'creditCode': 'C', 'title': 'pdu6****22510第4次借款', 'listingId': 123672168, 'borrowerName': 'pdu6****22510', 'bids': 21, 'amount': 7000.0, 'creditValidate': 0, 'statusId': 1, 'isPay': False}\n",
      "{'_id': ObjectId('5b62bc9a94e45f1388764341'), 'nCIICIdentityCheck': 0, 'months': 3, 'mobileRealnameValidate': 1, 'certificateValidate': 0, 'currentRate': 20.0, 'funding': 400.0, 'creditCode': 'B', 'title': 'pdu6****66005第5次借款', 'listingId': 123672324, 'borrowerName': 'pdu6****66005', 'bids': 7, 'amount': 1289.0, 'creditValidate': 0, 'statusId': 1, 'isPay': False}\n",
      "{'_id': ObjectId('5b62bbfd94e45f1388764340'), 'nCIICIdentityCheck': 0, 'months': 3, 'mobileRealnameValidate': 1, 'certificateValidate': 0, 'currentRate': 24.0, 'funding': 535.0, 'creditCode': 'C', 'title': '手机app用户的第2次闪电借款', 'listingId': 123671874, 'borrowerName': 'pdu5****51825', 'bids': 9, 'amount': 2000.0, 'creditValidate': 0, 'statusId': 1, 'isPay': False}\n",
      "{'_id': ObjectId('5b62bbfd94e45f138876433f'), 'nCIICIdentityCheck': 0, 'months': 12, 'mobileRealnameValidate': 1, 'certificateValidate': 0, 'currentRate': 24.0, 'funding': 4218.0, 'creditCode': 'C', 'title': 'pdu8****24048第8次借款', 'listingId': 123672076, 'borrowerName': 'pdu8****24048', 'bids': 25, 'amount': 8000.0, 'creditValidate': 0, 'statusId': 1, 'isPay': False}\n",
      "{'_id': ObjectId('5b62bbd794e45f138876433e'), 'nCIICIdentityCheck': 0, 'months': 12, 'mobileRealnameValidate': 1, 'certificateValidate': 0, 'currentRate': 20.0, 'funding': 0.0, 'creditCode': 'B', 'title': 'pdu8****75230第11次借款', 'listingId': 123672134, 'borrowerName': 'pdu8****75230', 'bids': 0, 'amount': 2195.0, 'creditValidate': 0, 'statusId': 1, 'isPay': False}\n",
      "{'_id': ObjectId('5b62bbd794e45f138876433d'), 'nCIICIdentityCheck': 0, 'months': 6, 'mobileRealnameValidate': 1, 'certificateValidate': 0, 'currentRate': 24.0, 'funding': 0.0, 'creditCode': 'C', 'title': 'pdu1****73866第5次借款', 'listingId': 123672096, 'borrowerName': 'pdu1****73866', 'bids': 0, 'amount': 2240.0, 'creditValidate': 0, 'statusId': 1, 'isPay': False}\n",
      "{'_id': ObjectId('5b62bbd794e45f138876433c'), 'nCIICIdentityCheck': 0, 'months': 6, 'mobileRealnameValidate': 1, 'certificateValidate': 0, 'currentRate': 20.0, 'funding': 0.0, 'creditCode': 'B', 'title': 'pdu0****84602第6次借款', 'listingId': 123672089, 'borrowerName': 'pdu0****84602', 'bids': 0, 'amount': 1705.0, 'creditValidate': 0, 'statusId': 1, 'isPay': False}\n",
      "{'_id': ObjectId('5b62bbd794e45f138876433b'), 'nCIICIdentityCheck': 0, 'months': 12, 'mobileRealnameValidate': 1, 'certificateValidate': 0, 'currentRate': 24.0, 'funding': 0.0, 'creditCode': 'C', 'title': '手机app用户的第15次闪电借款', 'listingId': 123672085, 'borrowerName': 'pdu6****26242', 'bids': 0, 'amount': 6512.0, 'creditValidate': 0, 'statusId': 1, 'isPay': False}\n",
      "{'_id': ObjectId('5b62bbd794e45f138876433a'), 'nCIICIdentityCheck': 0, 'months': 12, 'mobileRealnameValidate': 1, 'certificateValidate': 0, 'currentRate': 20.0, 'funding': 0.0, 'creditCode': 'B', 'title': '手机app用户的第4次闪电借款', 'listingId': 123672025, 'borrowerName': 'pdu0****24742', 'bids': 0, 'amount': 6646.0, 'creditValidate': 0, 'statusId': 1, 'isPay': False}\n",
      "{'_id': ObjectId('5b62bbd794e45f1388764339'), 'nCIICIdentityCheck': 0, 'months': 12, 'mobileRealnameValidate': 1, 'certificateValidate': 0, 'currentRate': 24.0, 'funding': 361.0, 'creditCode': 'C', 'title': '手机app用户的第4次闪电借款', 'listingId': 123672042, 'borrowerName': 'pdu6****12154', 'bids': 7, 'amount': 2000.0, 'creditValidate': 0, 'statusId': 1, 'isPay': False}\n",
      "{'_id': ObjectId('5b62bbd794e45f1388764338'), 'nCIICIdentityCheck': 0, 'months': 6, 'mobileRealnameValidate': 1, 'certificateValidate': 0, 'currentRate': 24.0, 'funding': 456.0, 'creditCode': 'C', 'title': '手机app用户的第4次闪电借款', 'listingId': 123672055, 'borrowerName': 'pdu3****68407', 'bids': 3, 'amount': 700.0, 'creditValidate': 0, 'statusId': 1, 'isPay': False}\n",
      "{'_id': ObjectId('5b62bbb594e45f1388764337'), 'nCIICIdentityCheck': 0, 'months': 3, 'mobileRealnameValidate': 1, 'certificateValidate': 0, 'currentRate': 16.0, 'funding': 0.0, 'creditCode': 'A', 'title': 'pdu7****46042第7次借款', 'listingId': 123671925, 'borrowerName': 'pdu7****46042', 'bids': 0, 'amount': 1619.0, 'creditValidate': 0, 'statusId': 1, 'isPay': False}\n",
      "{'_id': ObjectId('5b62bbb594e45f1388764336'), 'nCIICIdentityCheck': 0, 'months': 6, 'mobileRealnameValidate': 1, 'certificateValidate': 0, 'currentRate': 24.0, 'funding': 0.0, 'creditCode': 'C', 'title': 'pdu2****13732第8次借款', 'listingId': 123671922, 'borrowerName': 'pdu2****13732', 'bids': 0, 'amount': 7000.0, 'creditValidate': 0, 'statusId': 1, 'isPay': False}\n",
      "{'_id': ObjectId('5b62bbb594e45f1388764335'), 'nCIICIdentityCheck': 0, 'months': 6, 'mobileRealnameValidate': 1, 'certificateValidate': 0, 'currentRate': 24.0, 'funding': 0.0, 'creditCode': 'C', 'title': 'pdu4****00283第12次借款', 'listingId': 123671920, 'borrowerName': 'pdu4****00283', 'bids': 0, 'amount': 1800.0, 'creditValidate': 0, 'statusId': 1, 'isPay': False}\n",
      "{'_id': ObjectId('5b62bbb594e45f1388764334'), 'nCIICIdentityCheck': 0, 'months': 12, 'mobileRealnameValidate': 1, 'certificateValidate': 0, 'currentRate': 20.0, 'funding': 0.0, 'creditCode': 'B', 'title': 'pdu3****53501第10次借款', 'listingId': 123671908, 'borrowerName': 'pdu3****53501', 'bids': 0, 'amount': 2900.0, 'creditValidate': 0, 'statusId': 1, 'isPay': False}\n",
      "{'_id': ObjectId('5b62bbb594e45f1388764333'), 'nCIICIdentityCheck': 0, 'months': 6, 'mobileRealnameValidate': 1, 'certificateValidate': 1, 'currentRate': 24.0, 'funding': 0.0, 'creditCode': 'C', 'title': '手机app用户的第11次闪电借款', 'listingId': 123671857, 'borrowerName': 'pdu8****27583', 'bids': 0, 'amount': 7631.0, 'creditValidate': 0, 'statusId': 1, 'isPay': False}\n",
      "{'_id': ObjectId('5b62bbb594e45f1388764332'), 'nCIICIdentityCheck': 0, 'months': 6, 'mobileRealnameValidate': 1, 'certificateValidate': 1, 'currentRate': 24.0, 'funding': 0.0, 'creditCode': 'C', 'title': '手机app用户的第11次闪电借款', 'listingId': 123671857, 'borrowerName': 'pdu8****27583', 'bids': 0, 'amount': 7631.0, 'creditValidate': 0, 'statusId': 1, 'isPay': False}\n",
      "{'_id': ObjectId('5b62bbb594e45f1388764331'), 'nCIICIdentityCheck': 0, 'months': 12, 'mobileRealnameValidate': 1, 'certificateValidate': 0, 'currentRate': 20.0, 'funding': 0.0, 'creditCode': 'B', 'title': '手机app用户的第3次闪电借款', 'listingId': 123671855, 'borrowerName': 'pdu5****56835', 'bids': 0, 'amount': 5000.0, 'creditValidate': 0, 'statusId': 1, 'isPay': False}\n",
      "{'_id': ObjectId('5b62bbb594e45f1388764330'), 'nCIICIdentityCheck': 0, 'months': 12, 'mobileRealnameValidate': 1, 'certificateValidate': 1, 'currentRate': 24.0, 'funding': 0.0, 'creditCode': 'C', 'title': 'pdu0****54134第13次借款', 'listingId': 123671850, 'borrowerName': 'pdu0****54134', 'bids': 0, 'amount': 6162.0, 'creditValidate': 0, 'statusId': 1, 'isPay': False}\n",
      "{'_id': ObjectId('5b62bbb594e45f138876432f'), 'nCIICIdentityCheck': 0, 'months': 3, 'mobileRealnameValidate': 1, 'certificateValidate': 0, 'currentRate': 24.0, 'funding': 0.0, 'creditCode': 'C', 'title': 'pdu1****06468第11次借款', 'listingId': 123671827, 'borrowerName': 'pdu1****06468', 'bids': 0, 'amount': 2000.0, 'creditValidate': 0, 'statusId': 1, 'isPay': False}\n",
      "{'_id': ObjectId('5b62bbb594e45f138876432e'), 'nCIICIdentityCheck': 0, 'months': 6, 'mobileRealnameValidate': 1, 'certificateValidate': 0, 'currentRate': 24.0, 'funding': 100.0, 'creditCode': 'C', 'title': 'pdu8****30522第11次借款', 'listingId': 123671845, 'borrowerName': 'pdu8****30522', 'bids': 2, 'amount': 7000.0, 'creditValidate': 0, 'statusId': 1, 'isPay': False}\n",
      "{'_id': ObjectId('5b62bb9294e45f138876432d'), 'nCIICIdentityCheck': 0, 'months': 3, 'mobileRealnameValidate': 1, 'certificateValidate': 0, 'currentRate': 20.0, 'funding': 0.0, 'creditCode': 'B', 'title': 'pdu6****00372第10次借款', 'listingId': 123671649, 'borrowerName': 'pdu6****00372', 'bids': 0, 'amount': 812.0, 'creditValidate': 0, 'statusId': 1, 'isPay': False}\n",
      "{'_id': ObjectId('5b62bb9294e45f138876432c'), 'nCIICIdentityCheck': 0, 'months': 6, 'mobileRealnameValidate': 1, 'certificateValidate': 1, 'currentRate': 20.0, 'funding': 0.0, 'creditCode': 'B', 'title': '手机app用户的第12次闪电借款', 'listingId': 123671595, 'borrowerName': 'pdu5****83606', 'bids': 0, 'amount': 3666.0, 'creditValidate': 0, 'statusId': 1, 'isPay': False}\n",
      "{'_id': ObjectId('5b62bb9294e45f138876432b'), 'nCIICIdentityCheck': 0, 'months': 3, 'mobileRealnameValidate': 1, 'certificateValidate': 0, 'currentRate': 16.0, 'funding': 0.0, 'creditCode': 'A', 'title': '手机app用户的第2次闪电借款', 'listingId': 123669003, 'borrowerName': 'pdu3****25261', 'bids': 0, 'amount': 9781.0, 'creditValidate': 0, 'statusId': 1, 'isPay': False}\n",
      "{'_id': ObjectId('5b62bb9294e45f138876432a'), 'nCIICIdentityCheck': 0, 'months': 12, 'mobileRealnameValidate': 1, 'certificateValidate': 0, 'currentRate': 24.0, 'funding': 102.0, 'creditCode': 'C', 'title': 'pdu4****75683第5次借款', 'listingId': 123668921, 'borrowerName': 'pdu4****75683', 'bids': 2, 'amount': 12260.0, 'creditValidate': 0, 'statusId': 1, 'isPay': False}\n",
      "{'_id': ObjectId('5b62bb9194e45f1388764329'), 'nCIICIdentityCheck': 0, 'months': 12, 'mobileRealnameValidate': 1, 'certificateValidate': 0, 'currentRate': 24.0, 'funding': 553.0, 'creditCode': 'C', 'title': 'pdu7****08463第4次借款', 'listingId': 123668873, 'borrowerName': 'pdu7****08463', 'bids': 8, 'amount': 17000.0, 'creditValidate': 0, 'statusId': 1, 'isPay': False}\n",
      "{'_id': ObjectId('5b62bb9194e45f1388764328'), 'nCIICIdentityCheck': 0, 'months': 12, 'mobileRealnameValidate': 1, 'certificateValidate': 0, 'currentRate': 20.0, 'funding': 883.0, 'creditCode': 'B', 'title': 'pdu2****762第2次借款', 'listingId': 123668291, 'borrowerName': 'pdu****2762', 'bids': 14, 'amount': 19200.0, 'creditValidate': 0, 'statusId': 1, 'isPay': False}\n",
      "{'_id': ObjectId('5b62bb9194e45f1388764327'), 'nCIICIdentityCheck': 0, 'months': 12, 'mobileRealnameValidate': 1, 'certificateValidate': 0, 'currentRate': 24.0, 'funding': 202.0, 'creditCode': 'C', 'title': 'pdu0****86387第16次借款', 'listingId': 123667310, 'borrowerName': 'pdu0****86387', 'bids': 4, 'amount': 3559.0, 'creditValidate': 0, 'statusId': 1, 'isPay': False}\n",
      "{'_id': ObjectId('5b62bb9194e45f1388764326'), 'nCIICIdentityCheck': 0, 'months': 12, 'mobileRealnameValidate': 1, 'certificateValidate': 0, 'currentRate': 24.0, 'funding': 202.0, 'creditCode': 'C', 'title': '手机app用户的第13次闪电借款', 'listingId': 123668505, 'borrowerName': 'pdu1****68208', 'bids': 4, 'amount': 3000.0, 'creditValidate': 0, 'statusId': 1, 'isPay': False}\n",
      "{'_id': ObjectId('5b62bb9194e45f1388764325'), 'nCIICIdentityCheck': 0, 'months': 6, 'mobileRealnameValidate': 1, 'certificateValidate': 0, 'currentRate': 24.0, 'funding': 252.0, 'creditCode': 'C', 'title': 'pdu6****400第14次借款', 'listingId': 123671453, 'borrowerName': 'pdu****1400', 'bids': 5, 'amount': 3404.0, 'creditValidate': 0, 'statusId': 1, 'isPay': False}\n",
      "{'_id': ObjectId('5b62bb9194e45f1388764324'), 'nCIICIdentityCheck': 0, 'months': 12, 'mobileRealnameValidate': 1, 'certificateValidate': 0, 'currentRate': 24.0, 'funding': 152.0, 'creditCode': 'C', 'title': 'pdu4****37787第10次借款', 'listingId': 123668820, 'borrowerName': 'pdu4****37787', 'bids': 3, 'amount': 2031.0, 'creditValidate': 0, 'statusId': 1, 'isPay': False}\n",
      "{'_id': ObjectId('5b62bb9194e45f1388764323'), 'nCIICIdentityCheck': 0, 'months': 6, 'mobileRealnameValidate': 1, 'certificateValidate': 0, 'currentRate': 24.0, 'funding': 352.0, 'creditCode': 'C', 'title': 'r****21533第2次借款', 'listingId': 123666757, 'borrowerName': 'ron****533', 'bids': 7, 'amount': 4698.0, 'creditValidate': 0, 'statusId': 1, 'isPay': False}\n",
      "{'_id': ObjectId('5b62bb9194e45f1388764322'), 'nCIICIdentityCheck': 0, 'months': 12, 'mobileRealnameValidate': 1, 'certificateValidate': 0, 'currentRate': 20.0, 'funding': 680.0, 'creditCode': 'B', 'title': '手机app用户的第3次闪电借款', 'listingId': 123666473, 'borrowerName': 'pdu2****48348', 'bids': 10, 'amount': 7834.0, 'creditValidate': 0, 'statusId': 1, 'isPay': False}\n",
      "{'_id': ObjectId('5b62bb9194e45f1388764321'), 'nCIICIdentityCheck': 0, 'months': 6, 'mobileRealnameValidate': 1, 'certificateValidate': 0, 'currentRate': 24.0, 'funding': 758.0, 'creditCode': 'C', 'title': 'pdu6****86321第3次借款', 'listingId': 123668233, 'borrowerName': 'pdu6****86321', 'bids': 12, 'amount': 8051.0, 'creditValidate': 0, 'statusId': 1, 'isPay': False}\n",
      "{'_id': ObjectId('5b62bb9194e45f1388764320'), 'nCIICIdentityCheck': 0, 'months': 12, 'mobileRealnameValidate': 1, 'certificateValidate': 0, 'currentRate': 24.0, 'funding': 1048.0, 'creditCode': 'C', 'title': '手机app用户的第5次闪电借款', 'listingId': 123669251, 'borrowerName': 'pdu2****60375', 'bids': 13, 'amount': 10229.0, 'creditValidate': 0, 'statusId': 1, 'isPay': False}\n",
      "{'_id': ObjectId('5b62bb9194e45f138876431f'), 'nCIICIdentityCheck': 0, 'months': 12, 'mobileRealnameValidate': 1, 'certificateValidate': 0, 'currentRate': 24.0, 'funding': 977.0, 'creditCode': 'C', 'title': '手机app用户的第5次闪电借款', 'listingId': 123668230, 'borrowerName': 'pdu8****60528', 'bids': 14, 'amount': 9262.0, 'creditValidate': 0, 'statusId': 1, 'isPay': False}\n",
      "{'_id': ObjectId('5b62bb8d94e45f138876431e'), 'nCIICIdentityCheck': 0, 'months': 12, 'mobileRealnameValidate': 1, 'certificateValidate': 0, 'currentRate': 24.0, 'funding': 2134.0, 'creditCode': 'C', 'title': 'pdu1****67166第2次借款', 'listingId': 123671296, 'borrowerName': 'pdu1****67166', 'bids': 23, 'amount': 17200.0, 'creditValidate': 0, 'statusId': 1, 'isPay': False}\n",
      "{'_id': ObjectId('5b62bb8d94e45f138876431d'), 'nCIICIdentityCheck': 0, 'months': 6, 'mobileRealnameValidate': 1, 'certificateValidate': 0, 'currentRate': 24.0, 'funding': 302.0, 'creditCode': 'C', 'title': 'pdu7****44770第22次借款', 'listingId': 123671651, 'borrowerName': 'pdu7****44770', 'bids': 6, 'amount': 2292.0, 'creditValidate': 0, 'statusId': 1, 'isPay': False}\n",
      "{'_id': ObjectId('5b62bb8d94e45f138876431c'), 'nCIICIdentityCheck': 0, 'months': 6, 'mobileRealnameValidate': 1, 'certificateValidate': 0, 'currentRate': 20.0, 'funding': 1974.0, 'creditCode': 'B', 'title': 'pdu2****70305第2次借款', 'listingId': 123671472, 'borrowerName': 'pdu2****70305', 'bids': 25, 'amount': 14000.0, 'creditValidate': 0, 'statusId': 1, 'isPay': False}\n",
      "{'_id': ObjectId('5b62bb8d94e45f138876431b'), 'nCIICIdentityCheck': 0, 'months': 6, 'mobileRealnameValidate': 1, 'certificateValidate': 0, 'currentRate': 24.0, 'funding': 162.0, 'creditCode': 'C', 'title': '手机app用户的借款', 'listingId': 123671795, 'borrowerName': 'pdu7****81052', 'bids': 3, 'amount': 700.0, 'creditValidate': 0, 'statusId': 1, 'isPay': False}\n",
      "{'_id': ObjectId('5b62bb8d94e45f138876431a'), 'nCIICIdentityCheck': 0, 'months': 6, 'mobileRealnameValidate': 1, 'certificateValidate': 0, 'currentRate': 20.0, 'funding': 834.0, 'creditCode': 'B', 'title': 'pdu4****47513第2次借款', 'listingId': 123671743, 'borrowerName': 'pdu4****47513', 'bids': 12, 'amount': 3500.0, 'creditValidate': 0, 'statusId': 1, 'isPay': False}\n",
      "{'_id': ObjectId('5b62bb8d94e45f1388764319'), 'nCIICIdentityCheck': 0, 'months': 3, 'mobileRealnameValidate': 1, 'certificateValidate': 0, 'currentRate': 20.0, 'funding': 900.0, 'creditCode': 'B', 'title': '手机app用户的第3次闪电借款', 'listingId': 123669012, 'borrowerName': 'pdu5****27323', 'bids': 10, 'amount': 2000.0, 'creditValidate': 0, 'statusId': 1, 'isPay': False}\n",
      "{'_id': ObjectId('5b62bb8d94e45f1388764318'), 'nCIICIdentityCheck': 0, 'months': 3, 'mobileRealnameValidate': 1, 'certificateValidate': 0, 'currentRate': 24.0, 'funding': 1890.0, 'creditCode': 'C', 'title': '手机app用户的第8次闪电借款', 'listingId': 123671722, 'borrowerName': 'pdu3****56045', 'bids': 20, 'amount': 3000.0, 'creditValidate': 0, 'statusId': 1, 'isPay': False}\n",
      "{'_id': ObjectId('5b62bb8d94e45f1388764317'), 'nCIICIdentityCheck': 0, 'months': 6, 'mobileRealnameValidate': 1, 'certificateValidate': 0, 'currentRate': 20.0, 'funding': 950.0, 'creditCode': 'B', 'title': 'pdu4****82546第8次借款', 'listingId': 123670447, 'borrowerName': 'pdu4****82546', 'bids': 12, 'amount': 1396.0, 'creditValidate': 0, 'statusId': 1, 'isPay': False}\n",
      "{'_id': ObjectId('5b62bb8d94e45f1388764316'), 'nCIICIdentityCheck': 0, 'months': 12, 'mobileRealnameValidate': 1, 'certificateValidate': 0, 'currentRate': 20.0, 'funding': 5637.0, 'creditCode': 'B', 'title': '手机app用户的第5次闪电借款', 'listingId': 123671084, 'borrowerName': 'pdu6****73715', 'bids': 61, 'amount': 7000.0, 'creditValidate': 0, 'statusId': 1, 'isPay': False}\n",
      "{'_id': ObjectId('5b62bb8d94e45f1388764315'), 'nCIICIdentityCheck': 0, 'months': 12, 'mobileRealnameValidate': 1, 'certificateValidate': 1, 'currentRate': 20.0, 'funding': 6631.0, 'creditCode': 'B', 'title': 'pdu8****72145第17次借款', 'listingId': 123671375, 'borrowerName': 'pdu8****72145', 'bids': 101, 'amount': 7969.0, 'creditValidate': 0, 'statusId': 1, 'isPay': False}\n",
      "{'_id': ObjectId('5b62bb8d94e45f1388764314'), 'nCIICIdentityCheck': 0, 'months': 12, 'mobileRealnameValidate': 1, 'certificateValidate': 0, 'currentRate': 24.0, 'funding': 1789.0, 'creditCode': 'C', 'title': '手机app用户的第14次闪电借款', 'listingId': 123671623, 'borrowerName': 'pdu1****18007', 'bids': 26, 'amount': 2000.0, 'creditValidate': 0, 'statusId': 1, 'isPay': False}\n",
      "{'_id': ObjectId('5b62ba6594e45f11ccfb5ac2'), 'nCIICIdentityCheck': 0, 'months': 12, 'mobileRealnameValidate': 1, 'certificateValidate': 0, 'currentRate': 24.0, 'funding': 552.0, 'creditCode': 'C', 'title': 'pdu1****18807第11次借款', 'listingId': 123668324, 'borrowerName': 'pdu1****18807', 'bids': 11, 'amount': 5000.0, 'creditValidate': 0, 'statusId': 1, 'isPay': False}\n",
      "{'_id': ObjectId('5b62ba6594e45f11ccfb5ac1'), 'nCIICIdentityCheck': 0, 'months': 12, 'mobileRealnameValidate': 1, 'certificateValidate': 0, 'currentRate': 20.0, 'funding': 455.0, 'creditCode': 'B', 'title': '手机app用户的第13次闪电借款', 'listingId': 123669538, 'borrowerName': 'pdu2****37023', 'bids': 6, 'amount': 4000.0, 'creditValidate': 0, 'statusId': 1, 'isPay': False}\n",
      "{'_id': ObjectId('5b62ba6594e45f11ccfb5ac0'), 'nCIICIdentityCheck': 0, 'months': 12, 'mobileRealnameValidate': 1, 'certificateValidate': 0, 'currentRate': 20.0, 'funding': 657.0, 'creditCode': 'B', 'title': 'pdu3****80701第2次借款', 'listingId': 123670547, 'borrowerName': 'pdu3****80701', 'bids': 9, 'amount': 5608.0, 'creditValidate': 0, 'statusId': 1, 'isPay': False}\n",
      "{'_id': ObjectId('5b62ba6594e45f11ccfb5abf'), 'nCIICIdentityCheck': 0, 'months': 12, 'mobileRealnameValidate': 1, 'certificateValidate': 1, 'currentRate': 24.0, 'funding': 1069.0, 'creditCode': 'C', 'title': 'pdu3****72646第8次借款', 'listingId': 123669399, 'borrowerName': 'pdu3****72646', 'bids': 16, 'amount': 8724.0, 'creditValidate': 0, 'statusId': 1, 'isPay': False}\n",
      "{'_id': ObjectId('5b62ba6594e45f11ccfb5abe'), 'nCIICIdentityCheck': 0, 'months': 12, 'mobileRealnameValidate': 1, 'certificateValidate': 0, 'currentRate': 20.0, 'funding': 1384.0, 'creditCode': 'B', 'title': '手机app用户的第2次闪电借款', 'listingId': 123667686, 'borrowerName': 'pdu3****75081', 'bids': 19, 'amount': 9946.0, 'creditValidate': 0, 'statusId': 1, 'isPay': False}\n",
      "{'_id': ObjectId('5b62ba6594e45f11ccfb5abd'), 'nCIICIdentityCheck': 0, 'months': 12, 'mobileRealnameValidate': 1, 'certificateValidate': 0, 'currentRate': 24.0, 'funding': 202.0, 'creditCode': 'C', 'title': 'pdu6****83074第8次借款', 'listingId': 123668197, 'borrowerName': 'pdu6****83074', 'bids': 4, 'amount': 1259.0, 'creditValidate': 0, 'statusId': 1, 'isPay': False}\n",
      "{'_id': ObjectId('5b62ba6594e45f11ccfb5abc'), 'nCIICIdentityCheck': 0, 'months': 12, 'mobileRealnameValidate': 1, 'certificateValidate': 0, 'currentRate': 20.0, 'funding': 1364.0, 'creditCode': 'B', 'title': 'pdu7****63767第9次借款', 'listingId': 123669357, 'borrowerName': 'pdu7****63767', 'bids': 18, 'amount': 6842.0, 'creditValidate': 0, 'statusId': 1, 'isPay': False}\n",
      "{'_id': ObjectId('5b62ba6594e45f11ccfb5abb'), 'nCIICIdentityCheck': 0, 'months': 6, 'mobileRealnameValidate': 1, 'certificateValidate': 0, 'currentRate': 20.0, 'funding': 955.0, 'creditCode': 'B', 'title': 'pdu4****31255第7次借款', 'listingId': 123669009, 'borrowerName': 'pdu4****31255', 'bids': 13, 'amount': 4500.0, 'creditValidate': 0, 'statusId': 1, 'isPay': False}\n",
      "{'_id': ObjectId('5b62ba6594e45f11ccfb5aba'), 'nCIICIdentityCheck': 0, 'months': 6, 'mobileRealnameValidate': 1, 'certificateValidate': 1, 'currentRate': 24.0, 'funding': 1652.0, 'creditCode': 'C', 'title': 'pdu8****31382第17次借款', 'listingId': 123668156, 'borrowerName': 'pdu8****31382', 'bids': 24, 'amount': 7088.0, 'creditValidate': 0, 'statusId': 1, 'isPay': False}\n",
      "{'_id': ObjectId('5b62ba6594e45f11ccfb5ab9'), 'nCIICIdentityCheck': 0, 'months': 12, 'mobileRealnameValidate': 1, 'certificateValidate': 1, 'currentRate': 24.0, 'funding': 1222.0, 'creditCode': 'C', 'title': '手机app用户的第11次闪电借款', 'listingId': 123668006, 'borrowerName': 'pdu5****27056', 'bids': 17, 'amount': 5070.0, 'creditValidate': 0, 'statusId': 1, 'isPay': False}\n",
      "{'_id': ObjectId('5b62ba5494e45f11ccfb5ab8'), 'nCIICIdentityCheck': 0, 'months': 12, 'mobileRealnameValidate': 1, 'certificateValidate': 0, 'currentRate': 16.0, 'funding': 3063.0, 'creditCode': 'A', 'title': 'pdu7****15308第9次借款', 'listingId': 123669309, 'borrowerName': 'pdu7****15308', 'bids': 38, 'amount': 12000.0, 'creditValidate': 0, 'statusId': 1, 'isPay': False}\n",
      "{'_id': ObjectId('5b62ba5494e45f11ccfb5ab7'), 'nCIICIdentityCheck': 0, 'months': 12, 'mobileRealnameValidate': 1, 'certificateValidate': 0, 'currentRate': 24.0, 'funding': 912.0, 'creditCode': 'C', 'title': '手机app用户的第6次闪电借款', 'listingId': 123667776, 'borrowerName': 'pdu8****37725', 'bids': 11, 'amount': 3442.0, 'creditValidate': 0, 'statusId': 1, 'isPay': False}\n",
      "{'_id': ObjectId('5b62ba5494e45f11ccfb5ab6'), 'nCIICIdentityCheck': 0, 'months': 12, 'mobileRealnameValidate': 1, 'certificateValidate': 0, 'currentRate': 24.0, 'funding': 1741.0, 'creditCode': 'C', 'title': 'pdu3****34352第21次借款', 'listingId': 123667152, 'borrowerName': 'pdu3****34352', 'bids': 22, 'amount': 6382.0, 'creditValidate': 0, 'statusId': 1, 'isPay': False}\n",
      "{'_id': ObjectId('5b62ba5494e45f11ccfb5ab5'), 'nCIICIdentityCheck': 0, 'months': 6, 'mobileRealnameValidate': 1, 'certificateValidate': 1, 'currentRate': 20.0, 'funding': 501.0, 'creditCode': 'B', 'title': 'pdu4****27807第5次借款', 'listingId': 123671239, 'borrowerName': 'pdu4****27807', 'bids': 9, 'amount': 1769.0, 'creditValidate': 0, 'statusId': 1, 'isPay': False}\n",
      "{'_id': ObjectId('5b62ba5494e45f11ccfb5ab4'), 'nCIICIdentityCheck': 0, 'months': 12, 'mobileRealnameValidate': 1, 'certificateValidate': 0, 'currentRate': 20.0, 'funding': 682.0, 'creditCode': 'B', 'title': 'pdu3****45810第15次借款', 'listingId': 123670651, 'borrowerName': 'pdu3****45810', 'bids': 1, 'amount': 2274.0, 'creditValidate': 0, 'statusId': 1, 'isPay': False}\n",
      "{'_id': ObjectId('5b62ba5494e45f11ccfb5ab3'), 'nCIICIdentityCheck': 0, 'months': 12, 'mobileRealnameValidate': 1, 'certificateValidate': 0, 'currentRate': 16.0, 'funding': 3752.0, 'creditCode': 'A', 'title': '手机app用户的第3次闪电借款', 'listingId': 123669555, 'borrowerName': 'pdu5****63137', 'bids': 40, 'amount': 12312.0, 'creditValidate': 0, 'statusId': 1, 'isPay': False}\n",
      "{'_id': ObjectId('5b62ba5494e45f11ccfb5ab2'), 'nCIICIdentityCheck': 0, 'months': 3, 'mobileRealnameValidate': 1, 'certificateValidate': 0, 'currentRate': 24.0, 'funding': 958.0, 'creditCode': 'C', 'title': 'pdu6****27252第17次借款', 'listingId': 123670234, 'borrowerName': 'pdu6****27252', 'bids': 8, 'amount': 2358.0, 'creditValidate': 0, 'statusId': 1, 'isPay': False}\n",
      "{'_id': ObjectId('5b62ba5494e45f11ccfb5ab1'), 'nCIICIdentityCheck': 0, 'months': 3, 'mobileRealnameValidate': 1, 'certificateValidate': 0, 'currentRate': 24.0, 'funding': 4637.0, 'creditCode': 'C', 'title': 'pdu5****76724第4次借款', 'listingId': 123669315, 'borrowerName': 'pdu5****76724', 'bids': 56, 'amount': 11000.0, 'creditValidate': 0, 'statusId': 1, 'isPay': False}\n",
      "{'_id': ObjectId('5b62ba5494e45f11ccfb5ab0'), 'nCIICIdentityCheck': 0, 'months': 12, 'mobileRealnameValidate': 1, 'certificateValidate': 0, 'currentRate': 20.0, 'funding': 2529.0, 'creditCode': 'B', 'title': 'pdu5****76012第9次借款', 'listingId': 123670723, 'borrowerName': 'pdu5****76012', 'bids': 33, 'amount': 5997.0, 'creditValidate': 0, 'statusId': 1, 'isPay': False}\n",
      "{'_id': ObjectId('5b62ba5494e45f11ccfb5aaf'), 'nCIICIdentityCheck': 0, 'months': 6, 'mobileRealnameValidate': 1, 'certificateValidate': 0, 'currentRate': 24.0, 'funding': 4585.0, 'creditCode': 'C', 'title': '手机app用户的借款', 'listingId': 123668392, 'borrowerName': 'pdu5****52432', 'bids': 62, 'amount': 10000.0, 'creditValidate': 0, 'statusId': 1, 'isPay': False}\n",
      "{'_id': ObjectId('5b62ba5494e45f11ccfb5aae'), 'nCIICIdentityCheck': 0, 'months': 6, 'mobileRealnameValidate': 1, 'certificateValidate': 0, 'currentRate': 24.0, 'funding': 508.0, 'creditCode': 'C', 'title': '手机app用户的第5次闪电借款', 'listingId': 123668120, 'borrowerName': 'pdu1****52425', 'bids': 10, 'amount': 1000.0, 'creditValidate': 0, 'statusId': 1, 'isPay': False}\n",
      "{'_id': ObjectId('5b62ba1594e45f11ccfb5aad'), 'nCIICIdentityCheck': 0, 'months': 12, 'mobileRealnameValidate': 1, 'certificateValidate': 0, 'currentRate': 24.0, 'funding': 4320.0, 'creditCode': 'C', 'title': 'pdu0****32043第6次借款', 'listingId': 123667283, 'borrowerName': 'pdu0****32043', 'bids': 46, 'amount': 8000.0, 'creditValidate': 0, 'statusId': 1, 'isPay': False}\n",
      "{'_id': ObjectId('5b62ba1594e45f11ccfb5aac'), 'nCIICIdentityCheck': 0, 'months': 6, 'mobileRealnameValidate': 1, 'certificateValidate': 0, 'currentRate': 24.0, 'funding': 1044.0, 'creditCode': 'C', 'title': '手机app用户的第2次闪电借款', 'listingId': 123669465, 'borrowerName': 'pdu6****37371', 'bids': 11, 'amount': 1832.0, 'creditValidate': 0, 'statusId': 1, 'isPay': False}\n",
      "{'_id': ObjectId('5b62ba1594e45f11ccfb5aab'), 'nCIICIdentityCheck': 0, 'months': 6, 'mobileRealnameValidate': 1, 'certificateValidate': 0, 'currentRate': 24.0, 'funding': 2345.0, 'creditCode': 'C', 'title': 'pdu4****20853第5次借款', 'listingId': 123670305, 'borrowerName': 'pdu4****20853', 'bids': 30, 'amount': 3836.0, 'creditValidate': 0, 'statusId': 1, 'isPay': False}\n",
      "{'_id': ObjectId('5b62ba1594e45f11ccfb5aaa'), 'nCIICIdentityCheck': 0, 'months': 3, 'mobileRealnameValidate': 1, 'certificateValidate': 0, 'currentRate': 20.0, 'funding': 4755.0, 'creditCode': 'B', 'title': 'pdu5****87703第4次借款', 'listingId': 123669431, 'borrowerName': 'pdu5****87703', 'bids': 47, 'amount': 7543.0, 'creditValidate': 0, 'statusId': 1, 'isPay': False}\n",
      "{'_id': ObjectId('5b62ba1594e45f11ccfb5aa9'), 'nCIICIdentityCheck': 0, 'months': 12, 'mobileRealnameValidate': 1, 'certificateValidate': 0, 'currentRate': 24.0, 'funding': 8989.0, 'creditCode': 'C', 'title': 'pdu0****46844第6次借款', 'listingId': 123669283, 'borrowerName': 'pdu0****46844', 'bids': 57, 'amount': 14087.0, 'creditValidate': 0, 'statusId': 1, 'isPay': False}\n",
      "{'_id': ObjectId('5b62ba1594e45f11ccfb5aa8'), 'nCIICIdentityCheck': 0, 'months': 3, 'mobileRealnameValidate': 1, 'certificateValidate': 0, 'currentRate': 24.0, 'funding': 2254.0, 'creditCode': 'C', 'title': 'pdu5****75508第12次借款', 'listingId': 123668242, 'borrowerName': 'pdu5****75508', 'bids': 27, 'amount': 3167.0, 'creditValidate': 0, 'statusId': 1, 'isPay': False}\n",
      "{'_id': ObjectId('5b62ba1594e45f11ccfb5aa7'), 'nCIICIdentityCheck': 0, 'months': 6, 'mobileRealnameValidate': 1, 'certificateValidate': 0, 'currentRate': 20.0, 'funding': 1994.0, 'creditCode': 'B', 'title': 'pdu7****58026第6次借款', 'listingId': 123668735, 'borrowerName': 'pdu7****58026', 'bids': 31, 'amount': 2564.0, 'creditValidate': 0, 'statusId': 1, 'isPay': False}\n",
      "{'_id': ObjectId('5b62ba1594e45f11ccfb5aa6'), 'nCIICIdentityCheck': 0, 'months': 6, 'mobileRealnameValidate': 1, 'certificateValidate': 0, 'currentRate': 24.0, 'funding': 7260.0, 'creditCode': 'C', 'title': '手机app用户的第2次闪电借款', 'listingId': 123670876, 'borrowerName': 'pdu8****66758', 'bids': 86, 'amount': 8500.0, 'creditValidate': 0, 'statusId': 1, 'isPay': False}\n",
      "{'_id': ObjectId('5b62ba1594e45f11ccfb5aa5'), 'nCIICIdentityCheck': 0, 'months': 6, 'mobileRealnameValidate': 1, 'certificateValidate': 0, 'currentRate': 16.0, 'funding': 8965.0, 'creditCode': 'A', 'title': '手机app用户的借款', 'listingId': 123669670, 'borrowerName': 'pdu****2483', 'bids': 104, 'amount': 10000.0, 'creditValidate': 0, 'statusId': 1, 'isPay': False}\n",
      "{'_id': ObjectId('5b62ba1594e45f11ccfb5aa4'), 'nCIICIdentityCheck': 0, 'months': 12, 'mobileRealnameValidate': 1, 'certificateValidate': 0, 'currentRate': 24.0, 'funding': 3969.0, 'creditCode': 'C', 'title': 'pdu1****46835第15次借款', 'listingId': 123670453, 'borrowerName': 'pdu1****46835', 'bids': 53, 'amount': 4000.0, 'creditValidate': 0, 'statusId': 1, 'isPay': False}\n",
      "{'_id': ObjectId('5b62b49994e45f0ef0be4163'), 'nCIICIdentityCheck': 0, 'months': 3, 'mobileRealnameValidate': 1, 'certificateValidate': 0, 'currentRate': 20.0, 'funding': 0.0, 'creditCode': 'B', 'title': '手机app用户的第13次闪电借款', 'listingId': 123667996, 'borrowerName': 'pdu5****43526', 'bids': 0, 'amount': 798.0, 'creditValidate': 0, 'statusId': 1, 'isPay': False}\n",
      "{'_id': ObjectId('5b62b49994e45f0ef0be4162'), 'nCIICIdentityCheck': 0, 'months': 12, 'mobileRealnameValidate': 1, 'certificateValidate': 0, 'currentRate': 20.0, 'funding': 0.0, 'creditCode': 'B', 'title': 'pdu7****68060第4次借款', 'listingId': 123667753, 'borrowerName': 'pdu7****68060', 'bids': 0, 'amount': 1062.0, 'creditValidate': 0, 'statusId': 1, 'isPay': False}\n",
      "{'_id': ObjectId('5b62b49994e45f0ef0be4161'), 'nCIICIdentityCheck': 0, 'months': 12, 'mobileRealnameValidate': 1, 'certificateValidate': 0, 'currentRate': 20.0, 'funding': 0.0, 'creditCode': 'B', 'title': '手机app用户的第11次闪电借款', 'listingId': 123667727, 'borrowerName': 'pdu7****27553', 'bids': 0, 'amount': 1303.0, 'creditValidate': 0, 'statusId': 1, 'isPay': False}\n",
      "{'_id': ObjectId('5b62b49994e45f0ef0be4160'), 'nCIICIdentityCheck': 0, 'months': 6, 'mobileRealnameValidate': 1, 'certificateValidate': 0, 'currentRate': 20.0, 'funding': 0.0, 'creditCode': 'B', 'title': '手机app用户的借款', 'listingId': 123667409, 'borrowerName': 'pdu3****34671', 'bids': 0, 'amount': 1200.0, 'creditValidate': 0, 'statusId': 1, 'isPay': False}\n",
      "{'_id': ObjectId('5b62b49994e45f0ef0be415f'), 'nCIICIdentityCheck': 0, 'months': 12, 'mobileRealnameValidate': 1, 'certificateValidate': 0, 'currentRate': 20.0, 'funding': 0.0, 'creditCode': 'B', 'title': 'pdu2****87834第6次借款', 'listingId': 123667301, 'borrowerName': 'pdu2****87834', 'bids': 0, 'amount': 1065.0, 'creditValidate': 0, 'statusId': 1, 'isPay': False}\n",
      "{'_id': ObjectId('5b62b49994e45f0ef0be415e'), 'nCIICIdentityCheck': 0, 'months': 12, 'mobileRealnameValidate': 1, 'certificateValidate': 0, 'currentRate': 20.0, 'funding': 625.0, 'creditCode': 'B', 'title': '手机app用户的第6次闪电借款', 'listingId': 123667563, 'borrowerName': 'pdu5****28818', 'bids': 11, 'amount': 24000.0, 'creditValidate': 0, 'statusId': 1, 'isPay': False}\n",
      "{'_id': ObjectId('5b62b49994e45f0ef0be415d'), 'nCIICIdentityCheck': 0, 'months': 12, 'mobileRealnameValidate': 1, 'certificateValidate': 0, 'currentRate': 20.0, 'funding': 1001.0, 'creditCode': 'B', 'title': 'pdu8****813第6次借款', 'listingId': 123666764, 'borrowerName': 'pdu****6813', 'bids': 18, 'amount': 30000.0, 'creditValidate': 0, 'statusId': 1, 'isPay': False}\n",
      "{'_id': ObjectId('5b62b49994e45f0ef0be415c'), 'nCIICIdentityCheck': 0, 'months': 12, 'mobileRealnameValidate': 1, 'certificateValidate': 1, 'currentRate': 24.0, 'funding': 698.0, 'creditCode': 'C', 'title': 'pdu6****340第9次借款', 'listingId': 123668026, 'borrowerName': 'pdu****1340', 'bids': 2, 'amount': 17700.0, 'creditValidate': 0, 'statusId': 1, 'isPay': False}\n",
      "{'_id': ObjectId('5b62b49994e45f0ef0be415b'), 'nCIICIdentityCheck': 0, 'months': 12, 'mobileRealnameValidate': 1, 'certificateValidate': 0, 'currentRate': 20.0, 'funding': 1335.0, 'creditCode': 'B', 'title': 'pdu3****37277第8次借款', 'listingId': 123666323, 'borrowerName': 'pdu3****37277', 'bids': 20, 'amount': 17079.0, 'creditValidate': 0, 'statusId': 1, 'isPay': False}\n",
      "{'_id': ObjectId('5b62b49994e45f0ef0be415a'), 'nCIICIdentityCheck': 0, 'months': 12, 'mobileRealnameValidate': 1, 'certificateValidate': 0, 'currentRate': 20.0, 'funding': 4158.0, 'creditCode': 'B', 'title': 'r****281874第6次借款', 'listingId': 123666167, 'borrowerName': 'ron****1874', 'bids': 41, 'amount': 18280.0, 'creditValidate': 0, 'statusId': 1, 'isPay': False}\n",
      "{'_id': ObjectId('5b62b49994e45f0ef0be4159'), 'nCIICIdentityCheck': 0, 'months': 6, 'mobileRealnameValidate': 1, 'certificateValidate': 0, 'currentRate': 24.0, 'funding': 1068.0, 'creditCode': 'C', 'title': 'pdu4****48665第5次借款', 'listingId': 123666789, 'borrowerName': 'pdu4****48665', 'bids': 14, 'amount': 4438.0, 'creditValidate': 0, 'statusId': 1, 'isPay': False}\n",
      "{'_id': ObjectId('5b62b49994e45f0ef0be4158'), 'nCIICIdentityCheck': 0, 'months': 12, 'mobileRealnameValidate': 1, 'certificateValidate': 1, 'currentRate': 24.0, 'funding': 2214.0, 'creditCode': 'C', 'title': 'pdu0****134第18次借款', 'listingId': 123667685, 'borrowerName': 'pdu****8134', 'bids': 23, 'amount': 9153.0, 'creditValidate': 1, 'statusId': 1, 'isPay': False}\n",
      "{'_id': ObjectId('5b62b44e94e45f0ef0be4157'), 'nCIICIdentityCheck': 0, 'months': 12, 'mobileRealnameValidate': 1, 'certificateValidate': 0, 'currentRate': 20.0, 'funding': 2970.0, 'creditCode': 'B', 'title': 'pdu4****31313第5次借款', 'listingId': 123665921, 'borrowerName': 'pdu4****31313', 'bids': 27, 'amount': 11536.0, 'creditValidate': 0, 'statusId': 1, 'isPay': False}\n",
      "{'_id': ObjectId('5b62b44e94e45f0ef0be4156'), 'nCIICIdentityCheck': 0, 'months': 12, 'mobileRealnameValidate': 1, 'certificateValidate': 0, 'currentRate': 20.0, 'funding': 7095.0, 'creditCode': 'B', 'title': 'pdu6****38158第6次借款', 'listingId': 123667160, 'borrowerName': 'pdu6****38158', 'bids': 78, 'amount': 22000.0, 'creditValidate': 0, 'statusId': 1, 'isPay': False}\n",
      "{'_id': ObjectId('5b62b44e94e45f0ef0be4155'), 'nCIICIdentityCheck': 0, 'months': 6, 'mobileRealnameValidate': 1, 'certificateValidate': 1, 'currentRate': 20.0, 'funding': 1226.0, 'creditCode': 'B', 'title': 'pdu8****36023第12次借款', 'listingId': 123666522, 'borrowerName': 'pdu8****36023', 'bids': 19, 'amount': 3072.0, 'creditValidate': 0, 'statusId': 1, 'isPay': False}\n",
      "{'_id': ObjectId('5b62b44e94e45f0ef0be4154'), 'nCIICIdentityCheck': 0, 'months': 12, 'mobileRealnameValidate': 1, 'certificateValidate': 0, 'currentRate': 16.0, 'funding': 2433.0, 'creditCode': 'A', 'title': '手机app用户的第5次闪电借款', 'listingId': 123666956, 'borrowerName': 'pdu8****81885', 'bids': 21, 'amount': 6000.0, 'creditValidate': 0, 'statusId': 1, 'isPay': False}\n",
      "{'_id': ObjectId('5b62b44e94e45f0ef0be4153'), 'nCIICIdentityCheck': 0, 'months': 12, 'mobileRealnameValidate': 1, 'certificateValidate': 0, 'currentRate': 24.0, 'funding': 5328.0, 'creditCode': 'C', 'title': 'pdu5****02524第3次借款', 'listingId': 123667681, 'borrowerName': 'pdu5****02524', 'bids': 19, 'amount': 12866.0, 'creditValidate': 0, 'statusId': 1, 'isPay': False}\n",
      "{'_id': ObjectId('5b62b44e94e45f0ef0be4152'), 'nCIICIdentityCheck': 0, 'months': 6, 'mobileRealnameValidate': 1, 'certificateValidate': 0, 'currentRate': 20.0, 'funding': 4061.0, 'creditCode': 'B', 'title': '手机app用户的第5次闪电借款', 'listingId': 123667388, 'borrowerName': 'pdu4****23638', 'bids': 49, 'amount': 8000.0, 'creditValidate': 0, 'statusId': 1, 'isPay': False}\n",
      "{'_id': ObjectId('5b62b44e94e45f0ef0be4151'), 'nCIICIdentityCheck': 0, 'months': 12, 'mobileRealnameValidate': 1, 'certificateValidate': 1, 'currentRate': 20.0, 'funding': 5116.0, 'creditCode': 'B', 'title': 'pdu8****77507第8次借款', 'listingId': 123666951, 'borrowerName': 'pdu8****77507', 'bids': 39, 'amount': 8000.0, 'creditValidate': 0, 'statusId': 1, 'isPay': False}\n",
      "{'_id': ObjectId('5b62b44e94e45f0ef0be4150'), 'nCIICIdentityCheck': 0, 'months': 3, 'mobileRealnameValidate': 1, 'certificateValidate': 1, 'currentRate': 24.0, 'funding': 978.0, 'creditCode': 'C', 'title': '手机app用户的借款', 'listingId': 123666600, 'borrowerName': 'pdu7****43181', 'bids': 14, 'amount': 1200.0, 'creditValidate': 0, 'statusId': 1, 'isPay': False}\n",
      "{'_id': ObjectId('5b62b44e94e45f0ef0be414f'), 'nCIICIdentityCheck': 0, 'months': 12, 'mobileRealnameValidate': 1, 'certificateValidate': 0, 'currentRate': 20.0, 'funding': 3846.0, 'creditCode': 'B', 'title': 'pdu7****12078第3次借款', 'listingId': 123666412, 'borrowerName': 'pdu7****12078', 'bids': 44, 'amount': 4531.0, 'creditValidate': 0, 'statusId': 1, 'isPay': False}\n",
      "{'_id': ObjectId('5b62b44e94e45f0ef0be414e'), 'nCIICIdentityCheck': 0, 'months': 12, 'mobileRealnameValidate': 1, 'certificateValidate': 1, 'currentRate': 20.0, 'funding': 1854.0, 'creditCode': 'B', 'title': 'pdu1****32313第10次借款', 'listingId': 123667102, 'borrowerName': 'pdu1****32313', 'bids': 21, 'amount': 2170.0, 'creditValidate': 0, 'statusId': 1, 'isPay': False}\n",
      "{'_id': ObjectId('5b62b14d94e45f0b18e848a2'), 'nCIICIdentityCheck': 0, 'months': 3, 'mobileRealnameValidate': 1, 'certificateValidate': 0, 'currentRate': 20.0, 'funding': 0.0, 'creditCode': 'B', 'title': 'pdu8****66100第5次借款', 'listingId': 123666421, 'borrowerName': 'pdu8****66100', 'bids': 0, 'amount': 2284.0, 'creditValidate': 0, 'statusId': 1, 'isPay': False}\n",
      "{'_id': ObjectId('5b62b14d94e45f0b18e848a1'), 'nCIICIdentityCheck': 0, 'months': 12, 'mobileRealnameValidate': 1, 'certificateValidate': 0, 'currentRate': 24.0, 'funding': 0.0, 'creditCode': 'C', 'title': '手机app用户的借款', 'listingId': 123666373, 'borrowerName': 'pdu7****01207', 'bids': 0, 'amount': 700.0, 'creditValidate': 0, 'statusId': 1, 'isPay': False}\n",
      "{'_id': ObjectId('5b62b14d94e45f0b18e848a0'), 'nCIICIdentityCheck': 0, 'months': 3, 'mobileRealnameValidate': 1, 'certificateValidate': 0, 'currentRate': 24.0, 'funding': 0.0, 'creditCode': 'C', 'title': '手机app用户的第2次闪电借款', 'listingId': 123666147, 'borrowerName': 'pdu6****34319', 'bids': 0, 'amount': 3837.0, 'creditValidate': 0, 'statusId': 1, 'isPay': False}\n",
      "{'_id': ObjectId('5b62b14d94e45f0b18e8489f'), 'nCIICIdentityCheck': 0, 'months': 6, 'mobileRealnameValidate': 1, 'certificateValidate': 1, 'currentRate': 16.0, 'funding': 0.0, 'creditCode': 'A', 'title': '手机app用户的第19次闪电借款', 'listingId': 123666129, 'borrowerName': 'pdu0****50362', 'bids': 0, 'amount': 3669.0, 'creditValidate': 0, 'statusId': 1, 'isPay': False}\n",
      "{'_id': ObjectId('5b62b14c94e45f0b18e8489e'), 'nCIICIdentityCheck': 0, 'months': 6, 'mobileRealnameValidate': 1, 'certificateValidate': 0, 'currentRate': 24.0, 'funding': 0.0, 'creditCode': 'C', 'title': '手机app用户的第2次闪电借款', 'listingId': 123666103, 'borrowerName': 'pdu6****25601', 'bids': 0, 'amount': 8100.0, 'creditValidate': 0, 'statusId': 1, 'isPay': False}\n",
      "{'_id': ObjectId('5b62b14694e45f0b18e8489d'), 'nCIICIdentityCheck': 0, 'months': 3, 'mobileRealnameValidate': 1, 'certificateValidate': 0, 'currentRate': 20.0, 'funding': 0.0, 'creditCode': 'B', 'title': '手机app用户的第6次闪电借款', 'listingId': 123665988, 'borrowerName': 'pdu3****23281', 'bids': 0, 'amount': 1091.0, 'creditValidate': 0, 'statusId': 1, 'isPay': False}\n",
      "{'_id': ObjectId('5b62b14594e45f0b18e8489c'), 'nCIICIdentityCheck': 0, 'months': 12, 'mobileRealnameValidate': 1, 'certificateValidate': 0, 'currentRate': 20.0, 'funding': 0.0, 'creditCode': 'B', 'title': 'pdu2****00838第10次借款', 'listingId': 123665972, 'borrowerName': 'pdu2****00838', 'bids': 0, 'amount': 2725.0, 'creditValidate': 0, 'statusId': 1, 'isPay': False}\n",
      "{'_id': ObjectId('5b62b14594e45f0b18e8489b'), 'nCIICIdentityCheck': 0, 'months': 12, 'mobileRealnameValidate': 1, 'certificateValidate': 1, 'currentRate': 24.0, 'funding': 0.0, 'creditCode': 'C', 'title': '手机app用户的第4次闪电借款', 'listingId': 123665894, 'borrowerName': 'pdu0****63376', 'bids': 0, 'amount': 1500.0, 'creditValidate': 0, 'statusId': 1, 'isPay': False}\n",
      "{'_id': ObjectId('5b62b14594e45f0b18e8489a'), 'nCIICIdentityCheck': 0, 'months': 3, 'mobileRealnameValidate': 1, 'certificateValidate': 0, 'currentRate': 20.0, 'funding': 0.0, 'creditCode': 'B', 'title': 'pdu0****74417第9次借款', 'listingId': 123665874, 'borrowerName': 'pdu0****74417', 'bids': 0, 'amount': 500.0, 'creditValidate': 0, 'statusId': 1, 'isPay': False}\n",
      "{'_id': ObjectId('5b62b14594e45f0b18e84899'), 'nCIICIdentityCheck': 0, 'months': 6, 'mobileRealnameValidate': 1, 'certificateValidate': 0, 'currentRate': 20.0, 'funding': 0.0, 'creditCode': 'B', 'title': 'pdu5****76717第10次借款', 'listingId': 123665776, 'borrowerName': 'pdu5****76717', 'bids': 0, 'amount': 600.0, 'creditValidate': 0, 'statusId': 1, 'isPay': False}\n",
      "{'_id': ObjectId('5b62b14594e45f0b18e84898'), 'nCIICIdentityCheck': 0, 'months': 6, 'mobileRealnameValidate': 1, 'certificateValidate': 0, 'currentRate': 24.0, 'funding': 0.0, 'creditCode': 'C', 'title': 'pdu7****36227第4次借款', 'listingId': 123665774, 'borrowerName': 'pdu7****36227', 'bids': 0, 'amount': 3500.0, 'creditValidate': 0, 'statusId': 1, 'isPay': False}\n",
      "{'_id': ObjectId('5b62b14494e45f0b18e84897'), 'nCIICIdentityCheck': 0, 'months': 12, 'mobileRealnameValidate': 1, 'certificateValidate': 0, 'currentRate': 20.0, 'funding': 0.0, 'creditCode': 'B', 'title': '手机app用户的第7次闪电借款', 'listingId': 123665724, 'borrowerName': 'pdu3****20866', 'bids': 0, 'amount': 773.0, 'creditValidate': 0, 'statusId': 1, 'isPay': False}\n",
      "{'_id': ObjectId('5b62b14494e45f0b18e84896'), 'nCIICIdentityCheck': 0, 'months': 6, 'mobileRealnameValidate': 1, 'certificateValidate': 0, 'currentRate': 20.0, 'funding': 0.0, 'creditCode': 'B', 'title': 'pdu5****60161第13次借款', 'listingId': 123665648, 'borrowerName': 'pdu5****60161', 'bids': 0, 'amount': 7000.0, 'creditValidate': 0, 'statusId': 1, 'isPay': False}\n",
      "{'_id': ObjectId('5b62b14494e45f0b18e84895'), 'nCIICIdentityCheck': 0, 'months': 12, 'mobileRealnameValidate': 1, 'certificateValidate': 0, 'currentRate': 24.0, 'funding': 0.0, 'creditCode': 'C', 'title': 'pdu4****10472第2次借款', 'listingId': 123665583, 'borrowerName': 'pdu4****10472', 'bids': 0, 'amount': 2278.0, 'creditValidate': 0, 'statusId': 1, 'isPay': False}\n",
      "{'_id': ObjectId('5b62b13f94e45f0b18e84894'), 'nCIICIdentityCheck': 0, 'months': 12, 'mobileRealnameValidate': 1, 'certificateValidate': 0, 'currentRate': 24.0, 'funding': 0.0, 'creditCode': 'C', 'title': 'pdu8****77576第3次借款', 'listingId': 123665420, 'borrowerName': 'pdu8****77576', 'bids': 0, 'amount': 2000.0, 'creditValidate': 0, 'statusId': 1, 'isPay': False}\n",
      "{'_id': ObjectId('5b62b13e94e45f0b18e84893'), 'nCIICIdentityCheck': 0, 'months': 6, 'mobileRealnameValidate': 1, 'certificateValidate': 0, 'currentRate': 20.0, 'funding': 0.0, 'creditCode': 'B', 'title': 'pdu3****56645第6次借款', 'listingId': 123665387, 'borrowerName': 'pdu3****56645', 'bids': 0, 'amount': 5338.0, 'creditValidate': 0, 'statusId': 1, 'isPay': False}\n",
      "{'_id': ObjectId('5b62b13e94e45f0b18e84892'), 'nCIICIdentityCheck': 0, 'months': 6, 'mobileRealnameValidate': 1, 'certificateValidate': 0, 'currentRate': 20.0, 'funding': 0.0, 'creditCode': 'B', 'title': '手机app用户的借款', 'listingId': 123665290, 'borrowerName': 'pdu8****58822', 'bids': 0, 'amount': 749.0, 'creditValidate': 0, 'statusId': 1, 'isPay': False}\n",
      "{'_id': ObjectId('5b62b13e94e45f0b18e84891'), 'nCIICIdentityCheck': 0, 'months': 12, 'mobileRealnameValidate': 1, 'certificateValidate': 0, 'currentRate': 24.0, 'funding': 0.0, 'creditCode': 'C', 'title': '手机app用户的第10次闪电借款', 'listingId': 123665004, 'borrowerName': 'pdu6****41881', 'bids': 0, 'amount': 1900.0, 'creditValidate': 0, 'statusId': 1, 'isPay': False}\n",
      "{'_id': ObjectId('5b62b13e94e45f0b18e84890'), 'nCIICIdentityCheck': 0, 'months': 3, 'mobileRealnameValidate': 1, 'certificateValidate': 1, 'currentRate': 16.0, 'funding': 0.0, 'creditCode': 'A', 'title': '手机app用户的第11次闪电借款', 'listingId': 123664966, 'borrowerName': 'pdu6****31417', 'bids': 0, 'amount': 3114.0, 'creditValidate': 0, 'statusId': 1, 'isPay': False}\n",
      "{'_id': ObjectId('5b62b13e94e45f0b18e8488f'), 'nCIICIdentityCheck': 0, 'months': 12, 'mobileRealnameValidate': 1, 'certificateValidate': 0, 'currentRate': 20.0, 'funding': 0.0, 'creditCode': 'B', 'title': '手机app用户的第4次闪电借款', 'listingId': 123664933, 'borrowerName': 'pdu1****67567', 'bids': 0, 'amount': 506.0, 'creditValidate': 0, 'statusId': 1, 'isPay': False}\n",
      "{'_id': ObjectId('5b62b12594e45f0b18e8488e'), 'nCIICIdentityCheck': 0, 'months': 12, 'mobileRealnameValidate': 1, 'certificateValidate': 1, 'currentRate': 20.0, 'funding': 50.0, 'creditCode': 'B', 'title': '手机app用户的第3次闪电借款', 'listingId': 123665069, 'borrowerName': 'pdu7****40805', 'bids': 1, 'amount': 16900.0, 'creditValidate': 0, 'statusId': 1, 'isPay': False}\n",
      "{'_id': ObjectId('5b62b12394e45f0b18e8488d'), 'nCIICIdentityCheck': 0, 'months': 12, 'mobileRealnameValidate': 1, 'certificateValidate': 0, 'currentRate': 24.0, 'funding': 50.0, 'creditCode': 'C', 'title': 'pdu8****738第8次借款', 'listingId': 123665275, 'borrowerName': 'pdu****2738', 'bids': 1, 'amount': 7000.0, 'creditValidate': 0, 'statusId': 1, 'isPay': False}\n",
      "{'_id': ObjectId('5b62b12394e45f0b18e8488c'), 'nCIICIdentityCheck': 0, 'months': 12, 'mobileRealnameValidate': 1, 'certificateValidate': 1, 'currentRate': 20.0, 'funding': 198.0, 'creditCode': 'B', 'title': '手机app用户的借款', 'listingId': 123665324, 'borrowerName': 'pdu3****44877', 'bids': 2, 'amount': 25000.0, 'creditValidate': 0, 'statusId': 1, 'isPay': False}\n",
      "{'_id': ObjectId('5b62b11c94e45f0b18e8488b'), 'nCIICIdentityCheck': 0, 'months': 12, 'mobileRealnameValidate': 1, 'certificateValidate': 1, 'currentRate': 24.0, 'funding': 65.0, 'creditCode': 'C', 'title': 'pdu6****253第17次借款', 'listingId': 123666260, 'borrowerName': 'pdu****0253', 'bids': 1, 'amount': 2646.0, 'creditValidate': 0, 'statusId': 1, 'isPay': False}\n",
      "{'_id': ObjectId('5b62b11c94e45f0b18e8488a'), 'nCIICIdentityCheck': 0, 'months': 12, 'mobileRealnameValidate': 1, 'certificateValidate': 1, 'currentRate': 20.0, 'funding': 50.0, 'creditCode': 'B', 'title': '手机app用户的借款', 'listingId': 123665734, 'borrowerName': 'pdu8****64581', 'bids': 1, 'amount': 2000.0, 'creditValidate': 0, 'statusId': 1, 'isPay': False}\n",
      "{'_id': ObjectId('5b62b11a94e45f0b18e84889'), 'nCIICIdentityCheck': 0, 'months': 6, 'mobileRealnameValidate': 1, 'certificateValidate': 0, 'currentRate': 24.0, 'funding': 163.0, 'creditCode': 'C', 'title': 'pdu8****38541第5次借款', 'listingId': 123665840, 'borrowerName': 'pdu8****38541', 'bids': 2, 'amount': 6178.0, 'creditValidate': 0, 'statusId': 1, 'isPay': False}\n",
      "{'_id': ObjectId('5b62b11794e45f0b18e84888'), 'nCIICIdentityCheck': 0, 'months': 12, 'mobileRealnameValidate': 1, 'certificateValidate': 0, 'currentRate': 20.0, 'funding': 386.0, 'creditCode': 'B', 'title': 'pdu4****68485第6次借款', 'listingId': 123664640, 'borrowerName': 'pdu4****68485', 'bids': 7, 'amount': 12483.0, 'creditValidate': 0, 'statusId': 1, 'isPay': False}\n",
      "{'_id': ObjectId('5b62b11794e45f0b18e84887'), 'nCIICIdentityCheck': 0, 'months': 6, 'mobileRealnameValidate': 1, 'certificateValidate': 0, 'currentRate': 24.0, 'funding': 65.0, 'creditCode': 'C', 'title': 'pdu4****06583第14次借款', 'listingId': 123665552, 'borrowerName': 'pdu4****06583', 'bids': 1, 'amount': 2075.0, 'creditValidate': 0, 'statusId': 1, 'isPay': False}\n",
      "{'_id': ObjectId('5b62b11494e45f0b18e84886'), 'nCIICIdentityCheck': 0, 'months': 3, 'mobileRealnameValidate': 1, 'certificateValidate': 0, 'currentRate': 20.0, 'funding': 180.0, 'creditCode': 'B', 'title': 'pdu0****33666第12次借款', 'listingId': 123665654, 'borrowerName': 'pdu0****33666', 'bids': 3, 'amount': 4500.0, 'creditValidate': 0, 'statusId': 1, 'isPay': False}\n",
      "{'_id': ObjectId('5b62b11294e45f0b18e84885'), 'nCIICIdentityCheck': 0, 'months': 12, 'mobileRealnameValidate': 1, 'certificateValidate': 1, 'currentRate': 24.0, 'funding': 200.0, 'creditCode': 'C', 'title': 'pdu6****36335第12次借款', 'listingId': 123661468, 'borrowerName': 'pdu6****36335', 'bids': 1, 'amount': 5000.0, 'creditValidate': 0, 'statusId': 1, 'isPay': False}\n",
      "{'_id': ObjectId('5b62b11294e45f0b18e84884'), 'nCIICIdentityCheck': 0, 'months': 3, 'mobileRealnameValidate': 1, 'certificateValidate': 1, 'currentRate': 20.0, 'funding': 200.0, 'creditCode': 'B', 'title': 'pdu1****27030第12次借款', 'listingId': 123665712, 'borrowerName': 'pdu1****27030', 'bids': 3, 'amount': 4886.0, 'creditValidate': 0, 'statusId': 1, 'isPay': False}\n",
      "{'_id': ObjectId('5b62b10f94e45f0b18e84883'), 'nCIICIdentityCheck': 0, 'months': 6, 'mobileRealnameValidate': 1, 'certificateValidate': 0, 'currentRate': 24.0, 'funding': 200.0, 'creditCode': 'C', 'title': '手机app用户的第7次闪电借款', 'listingId': 123664717, 'borrowerName': 'pdu1****00453', 'bids': 1, 'amount': 4188.0, 'creditValidate': 0, 'statusId': 1, 'isPay': False}\n",
      "{'_id': ObjectId('5b62b10a94e45f0b18e84882'), 'nCIICIdentityCheck': 0, 'months': 12, 'mobileRealnameValidate': 1, 'certificateValidate': 0, 'currentRate': 20.0, 'funding': 51.0, 'creditCode': 'B', 'title': 'pdu6****52125第3次借款', 'listingId': 123666073, 'borrowerName': 'pdu6****52125', 'bids': 1, 'amount': 1000.0, 'creditValidate': 0, 'statusId': 1, 'isPay': False}\n",
      "{'_id': ObjectId('5b62b10394e45f0b18e84881'), 'nCIICIdentityCheck': 0, 'months': 6, 'mobileRealnameValidate': 1, 'certificateValidate': 1, 'currentRate': 24.0, 'funding': 200.0, 'creditCode': 'C', 'title': 'pdu4****16765第17次借款', 'listingId': 123665650, 'borrowerName': 'pdu4****16765', 'bids': 1, 'amount': 3513.0, 'creditValidate': 0, 'statusId': 1, 'isPay': False}\n",
      "{'_id': ObjectId('5b62b0f894e45f0b18e84880'), 'nCIICIdentityCheck': 0, 'months': 12, 'mobileRealnameValidate': 1, 'certificateValidate': 1, 'currentRate': 20.0, 'funding': 150.0, 'creditCode': 'B', 'title': '手机app用户的第10次闪电借款', 'listingId': 123664824, 'borrowerName': 'pdu1****64652', 'bids': 2, 'amount': 2000.0, 'creditValidate': 0, 'statusId': 1, 'isPay': False}\n",
      "{'_id': ObjectId('5b62b0f094e45f0b18e8487f'), 'nCIICIdentityCheck': 0, 'months': 12, 'mobileRealnameValidate': 1, 'certificateValidate': 0, 'currentRate': 20.0, 'funding': 51.0, 'creditCode': 'B', 'title': 'pdu1****02166第15次借款', 'listingId': 123665214, 'borrowerName': 'pdu1****02166', 'bids': 1, 'amount': 500.0, 'creditValidate': 0, 'statusId': 1, 'isPay': False}\n",
      "{'_id': ObjectId('5b62b0f094e45f0b18e8487e'), 'nCIICIdentityCheck': 0, 'months': 3, 'mobileRealnameValidate': 1, 'certificateValidate': 0, 'currentRate': 24.0, 'funding': 65.0, 'creditCode': 'C', 'title': 'pdu0****53434第14次借款', 'listingId': 123665948, 'borrowerName': 'pdu0****53434', 'bids': 1, 'amount': 600.0, 'creditValidate': 1, 'statusId': 1, 'isPay': False}\n",
      "{'_id': ObjectId('5b62b0f094e45f0b18e8487d'), 'nCIICIdentityCheck': 0, 'months': 12, 'mobileRealnameValidate': 1, 'certificateValidate': 0, 'currentRate': 20.0, 'funding': 542.0, 'creditCode': 'B', 'title': '手机app用户的第4次闪电借款', 'listingId': 123664475, 'borrowerName': 'pdu6****43265', 'bids': 8, 'amount': 5000.0, 'creditValidate': 0, 'statusId': 1, 'isPay': False}\n",
      "{'_id': ObjectId('5b62b0ed94e45f0b18e8487c'), 'nCIICIdentityCheck': 0, 'months': 3, 'mobileRealnameValidate': 1, 'certificateValidate': 1, 'currentRate': 20.0, 'funding': 348.0, 'creditCode': 'B', 'title': '手机app用户的第32次闪电借款', 'listingId': 123665339, 'borrowerName': 'pdu0****84837', 'bids': 6, 'amount': 3032.0, 'creditValidate': 0, 'statusId': 1, 'isPay': False}\n",
      "{'_id': ObjectId('5b62b0ec94e45f0b18e8487b'), 'nCIICIdentityCheck': 0, 'months': 3, 'mobileRealnameValidate': 1, 'certificateValidate': 0, 'currentRate': 24.0, 'funding': 150.0, 'creditCode': 'C', 'title': '手机app用户的借款', 'listingId': 123664934, 'borrowerName': 'pdu2****73670', 'bids': 1, 'amount': 1293.0, 'creditValidate': 1, 'statusId': 1, 'isPay': False}\n",
      "{'_id': ObjectId('5b62b0e794e45f0b18e8487a'), 'nCIICIdentityCheck': 0, 'months': 3, 'mobileRealnameValidate': 1, 'certificateValidate': 0, 'currentRate': 20.0, 'funding': 120.0, 'creditCode': 'B', 'title': '手机app用户的借款', 'listingId': 123664854, 'borrowerName': 'pdu8****43077', 'bids': 2, 'amount': 1000.0, 'creditValidate': 0, 'statusId': 1, 'isPay': False}\n",
      "{'_id': ObjectId('5b62b0e094e45f0b18e84879'), 'nCIICIdentityCheck': 0, 'months': 3, 'mobileRealnameValidate': 1, 'certificateValidate': 1, 'currentRate': 16.0, 'funding': 139.0, 'creditCode': 'A', 'title': '手机app用户的借款', 'listingId': 123664754, 'borrowerName': 'pdu0****84788', 'bids': 2, 'amount': 900.0, 'creditValidate': 1, 'statusId': 1, 'isPay': False}\n",
      "{'_id': ObjectId('5b62b0dd94e45f0b18e84878'), 'nCIICIdentityCheck': 0, 'months': 12, 'mobileRealnameValidate': 1, 'certificateValidate': 0, 'currentRate': 24.0, 'funding': 453.0, 'creditCode': 'C', 'title': 'pdu6****20454第2次借款', 'listingId': 123651840, 'borrowerName': 'pdu6****20454', 'bids': 6, 'amount': 2643.0, 'creditValidate': 0, 'statusId': 1, 'isPay': False}\n",
      "{'_id': ObjectId('5b62b0d394e45f0b18e84877'), 'nCIICIdentityCheck': 0, 'months': 3, 'mobileRealnameValidate': 1, 'certificateValidate': 1, 'currentRate': 16.0, 'funding': 1443.0, 'creditCode': 'A', 'title': '手机app用户的第2次闪电借款', 'listingId': 123664907, 'borrowerName': 'pdu2****34501', 'bids': 22, 'amount': 7581.0, 'creditValidate': 0, 'statusId': 1, 'isPay': False}\n",
      "{'_id': ObjectId('5b62b0d394e45f0b18e84876'), 'nCIICIdentityCheck': 0, 'months': 3, 'mobileRealnameValidate': 1, 'certificateValidate': 0, 'currentRate': 24.0, 'funding': 289.0, 'creditCode': 'C', 'title': 'pdu4****00210第2次借款', 'listingId': 123665061, 'borrowerName': 'pdu4****00210', 'bids': 5, 'amount': 1500.0, 'creditValidate': 0, 'statusId': 1, 'isPay': False}\n",
      "{'_id': ObjectId('5b62b0d094e45f0b18e84875'), 'nCIICIdentityCheck': 0, 'months': 12, 'mobileRealnameValidate': 1, 'certificateValidate': 0, 'currentRate': 20.0, 'funding': 2154.0, 'creditCode': 'B', 'title': 'pdu5****02640第4次借款', 'listingId': 123664594, 'borrowerName': 'pdu5****02640', 'bids': 26, 'amount': 10064.0, 'creditValidate': 0, 'statusId': 1, 'isPay': False}\n",
      "{'_id': ObjectId('5b62b0cb94e45f0b18e84874'), 'nCIICIdentityCheck': 0, 'months': 12, 'mobileRealnameValidate': 1, 'certificateValidate': 0, 'currentRate': 20.0, 'funding': 151.0, 'creditCode': 'B', 'title': 'pdu4****51061第5次借款', 'listingId': 123664550, 'borrowerName': 'pdu4****51061', 'bids': 3, 'amount': 630.0, 'creditValidate': 0, 'statusId': 1, 'isPay': False}\n",
      "{'_id': ObjectId('5b62b0c594e45f0b18e84873'), 'nCIICIdentityCheck': 0, 'months': 12, 'mobileRealnameValidate': 1, 'certificateValidate': 1, 'currentRate': 24.0, 'funding': 2089.0, 'creditCode': 'C', 'title': 'pdu3****05813第11次借款', 'listingId': 123662376, 'borrowerName': 'pdu3****05813', 'bids': 24, 'amount': 6378.0, 'creditValidate': 0, 'statusId': 1, 'isPay': False}\n",
      "{'_id': ObjectId('5b62b0be94e45f0b18e84872'), 'nCIICIdentityCheck': 0, 'months': 3, 'mobileRealnameValidate': 1, 'certificateValidate': 0, 'currentRate': 24.0, 'funding': 2500.0, 'creditCode': 'C', 'title': '手机app用户的第12次闪电借款', 'listingId': 123663344, 'borrowerName': 'pdu2****44140', 'bids': 4, 'amount': 6000.0, 'creditValidate': 0, 'statusId': 1, 'isPay': False}\n",
      "{'_id': ObjectId('5b62b0ab94e45f0b18e84871'), 'nCIICIdentityCheck': 0, 'months': 3, 'mobileRealnameValidate': 1, 'certificateValidate': 0, 'currentRate': 20.0, 'funding': 330.0, 'creditCode': 'B', 'title': '手机app用户的第6次闪电借款', 'listingId': 123664672, 'borrowerName': 'pdu5****18851', 'bids': 5, 'amount': 500.0, 'creditValidate': 0, 'statusId': 1, 'isPay': False}\n",
      "{'_id': ObjectId('5b62b0a994e45f0b18e84870'), 'nCIICIdentityCheck': 0, 'months': 12, 'mobileRealnameValidate': 1, 'certificateValidate': 1, 'currentRate': 24.0, 'funding': 2645.0, 'creditCode': 'C', 'title': 'r****157612第12次借款', 'listingId': 123664832, 'borrowerName': 'ron****7612', 'bids': 5, 'amount': 4000.0, 'creditValidate': 0, 'statusId': 1, 'isPay': False}\n",
      "{'_id': ObjectId('5b62b0a994e45f0b18e8486f'), 'nCIICIdentityCheck': 0, 'months': 12, 'mobileRealnameValidate': 1, 'certificateValidate': 0, 'currentRate': 24.0, 'funding': 2722.0, 'creditCode': 'C', 'title': 'pdu3****53735第4次借款', 'listingId': 123665338, 'borrowerName': 'pdu3****53735', 'bids': 29, 'amount': 4000.0, 'creditValidate': 0, 'statusId': 1, 'isPay': False}\n",
      "{'_id': ObjectId('5b62b0a394e45f0b18e8486e'), 'nCIICIdentityCheck': 0, 'months': 12, 'mobileRealnameValidate': 1, 'certificateValidate': 0, 'currentRate': 24.0, 'funding': 1013.0, 'creditCode': 'C', 'title': 'pdu3****23808第11次借款', 'listingId': 123664404, 'borrowerName': 'pdu3****23808', 'bids': 6, 'amount': 1359.0, 'creditValidate': 0, 'statusId': 1, 'isPay': False}\n",
      "{'_id': ObjectId('5b62b09694e45f0b18e8486d'), 'nCIICIdentityCheck': 0, 'months': 6, 'mobileRealnameValidate': 1, 'certificateValidate': 1, 'currentRate': 20.0, 'funding': 2638.0, 'creditCode': 'B', 'title': '手机app用户的借款', 'listingId': 123664539, 'borrowerName': 'pdu3****30635', 'bids': 20, 'amount': 2800.0, 'creditValidate': 0, 'statusId': 1, 'isPay': False}\n",
      "{'_id': ObjectId('5b62b09494e45f0b18e8486c'), 'nCIICIdentityCheck': 0, 'months': 12, 'mobileRealnameValidate': 1, 'certificateValidate': 0, 'currentRate': 24.0, 'funding': 2438.0, 'creditCode': 'C', 'title': '手机app用户的第3次闪电借款', 'listingId': 123664528, 'borrowerName': 'pdu1****58511', 'bids': 22, 'amount': 2500.0, 'creditValidate': 0, 'statusId': 1, 'isPay': False}\n",
      "{'_id': ObjectId('5b62aebf94e45f1194a09e0f'), 'nCIICIdentityCheck': 0, 'months': 12, 'mobileRealnameValidate': 1, 'certificateValidate': 0, 'currentRate': 20.0, 'funding': 0.0, 'creditCode': 'B', 'title': '手机app用户的第11次闪电借款', 'listingId': 123664752, 'borrowerName': 'pdu5****63580', 'bids': 0, 'amount': 2969.0, 'creditValidate': 0, 'statusId': 1, 'isPay': False}\n",
      "{'_id': ObjectId('5b62aebf94e45f1194a09e0e'), 'nCIICIdentityCheck': 0, 'months': 6, 'mobileRealnameValidate': 1, 'certificateValidate': 0, 'currentRate': 24.0, 'funding': 0.0, 'creditCode': 'C', 'title': '手机app用户的第28次闪电借款', 'listingId': 123664724, 'borrowerName': 'pdu4****81324', 'bids': 0, 'amount': 686.0, 'creditValidate': 0, 'statusId': 1, 'isPay': False}\n",
      "{'_id': ObjectId('5b62aebc94e45f1194a09e0d'), 'nCIICIdentityCheck': 0, 'months': 6, 'mobileRealnameValidate': 1, 'certificateValidate': 0, 'currentRate': 16.0, 'funding': 0.0, 'creditCode': 'A', 'title': '手机app用户的第8次闪电借款', 'listingId': 123664660, 'borrowerName': 'pdu2****00285', 'bids': 0, 'amount': 2000.0, 'creditValidate': 0, 'statusId': 1, 'isPay': False}\n",
      "{'_id': ObjectId('5b62aebc94e45f1194a09e0c'), 'nCIICIdentityCheck': 0, 'months': 12, 'mobileRealnameValidate': 1, 'certificateValidate': 0, 'currentRate': 20.0, 'funding': 0.0, 'creditCode': 'B', 'title': '手机app用户的第11次闪电借款', 'listingId': 123664622, 'borrowerName': 'pdu7****25026', 'bids': 0, 'amount': 1300.0, 'creditValidate': 0, 'statusId': 1, 'isPay': False}\n",
      "{'_id': ObjectId('5b62aebc94e45f1194a09e0b'), 'nCIICIdentityCheck': 0, 'months': 6, 'mobileRealnameValidate': 1, 'certificateValidate': 1, 'currentRate': 20.0, 'funding': 0.0, 'creditCode': 'B', 'title': 'pdu4****58285第10次借款', 'listingId': 123664603, 'borrowerName': 'pdu4****58285', 'bids': 0, 'amount': 1331.0, 'creditValidate': 0, 'statusId': 1, 'isPay': False}\n",
      "{'_id': ObjectId('5b62aebc94e45f1194a09e0a'), 'nCIICIdentityCheck': 0, 'months': 3, 'mobileRealnameValidate': 1, 'certificateValidate': 0, 'currentRate': 20.0, 'funding': 0.0, 'creditCode': 'B', 'title': 'pdu5****02525第8次借款', 'listingId': 123664576, 'borrowerName': 'pdu5****02525', 'bids': 0, 'amount': 1000.0, 'creditValidate': 0, 'statusId': 1, 'isPay': False}\n",
      "{'_id': ObjectId('5b62aebc94e45f1194a09e09'), 'nCIICIdentityCheck': 0, 'months': 12, 'mobileRealnameValidate': 1, 'certificateValidate': 0, 'currentRate': 20.0, 'funding': 0.0, 'creditCode': 'B', 'title': 'pdu1****30576第8次借款', 'listingId': 123664512, 'borrowerName': 'pdu1****30576', 'bids': 0, 'amount': 1016.0, 'creditValidate': 0, 'statusId': 1, 'isPay': False}\n",
      "{'_id': ObjectId('5b62aebb94e45f1194a09e08'), 'nCIICIdentityCheck': 0, 'months': 6, 'mobileRealnameValidate': 1, 'certificateValidate': 0, 'currentRate': 24.0, 'funding': 0.0, 'creditCode': 'C', 'title': '手机app用户的第7次闪电借款', 'listingId': 123664499, 'borrowerName': 'pdu0****78665', 'bids': 0, 'amount': 848.0, 'creditValidate': 0, 'statusId': 1, 'isPay': False}\n",
      "{'_id': ObjectId('5b62aebb94e45f1194a09e07'), 'nCIICIdentityCheck': 0, 'months': 6, 'mobileRealnameValidate': 1, 'certificateValidate': 0, 'currentRate': 24.0, 'funding': 0.0, 'creditCode': 'C', 'title': 'pdu4****37712第2次借款', 'listingId': 123664350, 'borrowerName': 'pdu4****37712', 'bids': 0, 'amount': 1000.0, 'creditValidate': 0, 'statusId': 1, 'isPay': False}\n",
      "{'_id': ObjectId('5b62aebb94e45f1194a09e06'), 'nCIICIdentityCheck': 0, 'months': 3, 'mobileRealnameValidate': 1, 'certificateValidate': 0, 'currentRate': 24.0, 'funding': 0.0, 'creditCode': 'C', 'title': 'pdu1****87141第2次借款', 'listingId': 123664327, 'borrowerName': 'pdu1****87141', 'bids': 0, 'amount': 4000.0, 'creditValidate': 0, 'statusId': 1, 'isPay': False}\n",
      "{'_id': ObjectId('5b62aebb94e45f1194a09e05'), 'nCIICIdentityCheck': 0, 'months': 12, 'mobileRealnameValidate': 1, 'certificateValidate': 0, 'currentRate': 20.0, 'funding': 0.0, 'creditCode': 'B', 'title': '手机app用户的第15次闪电借款', 'listingId': 123664325, 'borrowerName': 'pdu1****46755', 'bids': 0, 'amount': 2000.0, 'creditValidate': 0, 'statusId': 1, 'isPay': False}\n",
      "{'_id': ObjectId('5b62aebb94e45f1194a09e04'), 'nCIICIdentityCheck': 0, 'months': 6, 'mobileRealnameValidate': 1, 'certificateValidate': 0, 'currentRate': 20.0, 'funding': 0.0, 'creditCode': 'B', 'title': 'pdu3****87707第12次借款', 'listingId': 123664083, 'borrowerName': 'pdu3****87707', 'bids': 0, 'amount': 2850.0, 'creditValidate': 0, 'statusId': 1, 'isPay': False}\n",
      "{'_id': ObjectId('5b62aeb894e45f1194a09e03'), 'nCIICIdentityCheck': 0, 'months': 12, 'mobileRealnameValidate': 1, 'certificateValidate': 0, 'currentRate': 20.0, 'funding': 0.0, 'creditCode': 'B', 'title': 'pdu5****442第10次借款', 'listingId': 123664036, 'borrowerName': 'pdu****5442', 'bids': 0, 'amount': 5000.0, 'creditValidate': 0, 'statusId': 1, 'isPay': False}\n",
      "{'_id': ObjectId('5b62aeb894e45f1194a09e02'), 'nCIICIdentityCheck': 0, 'months': 6, 'mobileRealnameValidate': 1, 'certificateValidate': 1, 'currentRate': 16.0, 'funding': 0.0, 'creditCode': 'A', 'title': '手机app用户的第26次闪电借款', 'listingId': 123664012, 'borrowerName': 'pdu1****15224', 'bids': 0, 'amount': 1958.0, 'creditValidate': 0, 'statusId': 1, 'isPay': False}\n",
      "{'_id': ObjectId('5b62aeb894e45f1194a09e01'), 'nCIICIdentityCheck': 0, 'months': 3, 'mobileRealnameValidate': 1, 'certificateValidate': 0, 'currentRate': 24.0, 'funding': 0.0, 'creditCode': 'C', 'title': 'pdu8****28746第9次借款', 'listingId': 123663871, 'borrowerName': 'pdu8****28746', 'bids': 0, 'amount': 3630.0, 'creditValidate': 0, 'statusId': 1, 'isPay': False}\n",
      "{'_id': ObjectId('5b62aeb894e45f1194a09e00'), 'nCIICIdentityCheck': 0, 'months': 12, 'mobileRealnameValidate': 1, 'certificateValidate': 0, 'currentRate': 24.0, 'funding': 0.0, 'creditCode': 'C', 'title': 'pdu3****34647第10次借款', 'listingId': 123663750, 'borrowerName': 'pdu3****34647', 'bids': 0, 'amount': 7360.0, 'creditValidate': 0, 'statusId': 1, 'isPay': False}\n",
      "{'_id': ObjectId('5b62aeb894e45f1194a09dff'), 'nCIICIdentityCheck': 0, 'months': 12, 'mobileRealnameValidate': 1, 'certificateValidate': 0, 'currentRate': 24.0, 'funding': 0.0, 'creditCode': 'C', 'title': 'pdu5****78366第20次借款', 'listingId': 123663731, 'borrowerName': 'pdu5****78366', 'bids': 0, 'amount': 13000.0, 'creditValidate': 0, 'statusId': 1, 'isPay': False}\n",
      "{'_id': ObjectId('5b62aeb794e45f1194a09dfe'), 'nCIICIdentityCheck': 0, 'months': 6, 'mobileRealnameValidate': 1, 'certificateValidate': 1, 'currentRate': 24.0, 'funding': 0.0, 'creditCode': 'C', 'title': '手机app用户的第6次闪电借款', 'listingId': 123663653, 'borrowerName': 'pdu5****12471', 'bids': 0, 'amount': 2100.0, 'creditValidate': 0, 'statusId': 1, 'isPay': False}\n",
      "{'_id': ObjectId('5b62aeb794e45f1194a09dfd'), 'nCIICIdentityCheck': 0, 'months': 6, 'mobileRealnameValidate': 1, 'certificateValidate': 1, 'currentRate': 24.0, 'funding': 0.0, 'creditCode': 'C', 'title': 'pdu6****10154第8次借款', 'listingId': 123663651, 'borrowerName': 'pdu6****10154', 'bids': 0, 'amount': 2109.0, 'creditValidate': 0, 'statusId': 1, 'isPay': False}\n",
      "{'_id': ObjectId('5b62aeb794e45f1194a09dfc'), 'nCIICIdentityCheck': 0, 'months': 6, 'mobileRealnameValidate': 1, 'certificateValidate': 1, 'currentRate': 20.0, 'funding': 0.0, 'creditCode': 'B', 'title': '手机app用户的借款', 'listingId': 123663460, 'borrowerName': 'pdu0****83351', 'bids': 0, 'amount': 999.0, 'creditValidate': 0, 'statusId': 1, 'isPay': False}\n",
      "{'_id': ObjectId('5b62aeb794e45f1194a09dfb'), 'nCIICIdentityCheck': 0, 'months': 6, 'mobileRealnameValidate': 1, 'certificateValidate': 0, 'currentRate': 24.0, 'funding': 0.0, 'creditCode': 'C', 'title': '手机app用户的第13次闪电借款', 'listingId': 123663420, 'borrowerName': 'pdu3****33181', 'bids': 0, 'amount': 10533.0, 'creditValidate': 1, 'statusId': 1, 'isPay': False}\n",
      "{'_id': ObjectId('5b62aeb794e45f1194a09dfa'), 'nCIICIdentityCheck': 0, 'months': 6, 'mobileRealnameValidate': 1, 'certificateValidate': 0, 'currentRate': 24.0, 'funding': 0.0, 'creditCode': 'C', 'title': '手机app用户的借款', 'listingId': 123663356, 'borrowerName': 'pdu6****36223', 'bids': 0, 'amount': 2400.0, 'creditValidate': 0, 'statusId': 1, 'isPay': False}\n",
      "{'_id': ObjectId('5b62aeb494e45f1194a09df9'), 'nCIICIdentityCheck': 0, 'months': 6, 'mobileRealnameValidate': 1, 'certificateValidate': 0, 'currentRate': 24.0, 'funding': 0.0, 'creditCode': 'C', 'title': 'pdu1****40742第7次借款', 'listingId': 123663272, 'borrowerName': 'pdu1****40742', 'bids': 0, 'amount': 1672.0, 'creditValidate': 0, 'statusId': 1, 'isPay': False}\n",
      "{'_id': ObjectId('5b62aeb494e45f1194a09df8'), 'nCIICIdentityCheck': 0, 'months': 6, 'mobileRealnameValidate': 1, 'certificateValidate': 0, 'currentRate': 24.0, 'funding': 0.0, 'creditCode': 'C', 'title': 'pdu4****24305第4次借款', 'listingId': 123662769, 'borrowerName': 'pdu4****24305', 'bids': 0, 'amount': 861.0, 'creditValidate': 0, 'statusId': 1, 'isPay': False}\n",
      "{'_id': ObjectId('5b62aeb494e45f1194a09df7'), 'nCIICIdentityCheck': 0, 'months': 12, 'mobileRealnameValidate': 1, 'certificateValidate': 1, 'currentRate': 20.0, 'funding': 0.0, 'creditCode': 'B', 'title': '手机app用户的第17次闪电借款', 'listingId': 123662700, 'borrowerName': 'pdu1****52174', 'bids': 0, 'amount': 2394.0, 'creditValidate': 0, 'statusId': 1, 'isPay': False}\n",
      "{'_id': ObjectId('5b62aeb394e45f1194a09df6'), 'nCIICIdentityCheck': 0, 'months': 6, 'mobileRealnameValidate': 1, 'certificateValidate': 0, 'currentRate': 20.0, 'funding': 0.0, 'creditCode': 'B', 'title': '手机app用户的第6次闪电借款', 'listingId': 123662555, 'borrowerName': 'pdu6****12348', 'bids': 0, 'amount': 1000.0, 'creditValidate': 0, 'statusId': 1, 'isPay': False}\n",
      "{'_id': ObjectId('5b62aeb394e45f1194a09df5'), 'nCIICIdentityCheck': 0, 'months': 12, 'mobileRealnameValidate': 1, 'certificateValidate': 0, 'currentRate': 24.0, 'funding': 0.0, 'creditCode': 'C', 'title': 'pdu7****10550第5次借款', 'listingId': 123662513, 'borrowerName': 'pdu7****10550', 'bids': 0, 'amount': 2201.0, 'creditValidate': 0, 'statusId': 1, 'isPay': False}\n",
      "{'_id': ObjectId('5b62aeb394e45f1194a09df4'), 'nCIICIdentityCheck': 0, 'months': 6, 'mobileRealnameValidate': 1, 'certificateValidate': 0, 'currentRate': 24.0, 'funding': 0.0, 'creditCode': 'C', 'title': '手机app用户的第2次闪电借款', 'listingId': 123662497, 'borrowerName': 'pdu3****42662', 'bids': 0, 'amount': 1287.0, 'creditValidate': 0, 'statusId': 1, 'isPay': False}\n",
      "{'_id': ObjectId('5b62aeb394e45f1194a09df3'), 'nCIICIdentityCheck': 0, 'months': 3, 'mobileRealnameValidate': 1, 'certificateValidate': 0, 'currentRate': 24.0, 'funding': 0.0, 'creditCode': 'C', 'title': '手机app用户的第17次闪电借款', 'listingId': 123662426, 'borrowerName': 'pdu4****81762', 'bids': 0, 'amount': 1900.0, 'creditValidate': 0, 'statusId': 1, 'isPay': False}\n",
      "{'_id': ObjectId('5b62aeb394e45f1194a09df2'), 'nCIICIdentityCheck': 0, 'months': 12, 'mobileRealnameValidate': 1, 'certificateValidate': 0, 'currentRate': 24.0, 'funding': 0.0, 'creditCode': 'C', 'title': 'pdu2****82087第12次借款', 'listingId': 123662189, 'borrowerName': 'pdu2****82087', 'bids': 0, 'amount': 5000.0, 'creditValidate': 0, 'statusId': 1, 'isPay': False}\n",
      "{'_id': ObjectId('5b62aeb294e45f1194a09df1'), 'nCIICIdentityCheck': 0, 'months': 6, 'mobileRealnameValidate': 1, 'certificateValidate': 1, 'currentRate': 24.0, 'funding': 0.0, 'creditCode': 'C', 'title': 'pdu5****74578第15次借款', 'listingId': 123662006, 'borrowerName': 'pdu5****74578', 'bids': 0, 'amount': 1579.0, 'creditValidate': 0, 'statusId': 1, 'isPay': False}\n",
      "{'_id': ObjectId('5b62aeb294e45f1194a09df0'), 'nCIICIdentityCheck': 0, 'months': 6, 'mobileRealnameValidate': 1, 'certificateValidate': 0, 'currentRate': 24.0, 'funding': 0.0, 'creditCode': 'C', 'title': 'pdu8****26782第15次借款', 'listingId': 123661750, 'borrowerName': 'pdu8****26782', 'bids': 0, 'amount': 5000.0, 'creditValidate': 0, 'statusId': 1, 'isPay': False}\n",
      "{'_id': ObjectId('5b62aeb094e45f1194a09def'), 'nCIICIdentityCheck': 0, 'months': 6, 'mobileRealnameValidate': 1, 'certificateValidate': 0, 'currentRate': 24.0, 'funding': 0.0, 'creditCode': 'C', 'title': 'pdu7****18678第10次借款', 'listingId': 123661631, 'borrowerName': 'pdu7****18678', 'bids': 0, 'amount': 2865.0, 'creditValidate': 0, 'statusId': 1, 'isPay': False}\n",
      "{'_id': ObjectId('5b62aeb094e45f1194a09dee'), 'nCIICIdentityCheck': 0, 'months': 3, 'mobileRealnameValidate': 1, 'certificateValidate': 0, 'currentRate': 24.0, 'funding': 0.0, 'creditCode': 'C', 'title': '手机app用户的第9次闪电借款', 'listingId': 123661326, 'borrowerName': 'pdu0****51431', 'bids': 0, 'amount': 728.0, 'creditValidate': 0, 'statusId': 1, 'isPay': False}\n",
      "{'_id': ObjectId('5b62aeb094e45f1194a09ded'), 'nCIICIdentityCheck': 0, 'months': 12, 'mobileRealnameValidate': 1, 'certificateValidate': 0, 'currentRate': 24.0, 'funding': 0.0, 'creditCode': 'C', 'title': 'pdu7****55785第11次借款', 'listingId': 123661301, 'borrowerName': 'pdu7****55785', 'bids': 0, 'amount': 2000.0, 'creditValidate': 0, 'statusId': 1, 'isPay': False}\n",
      "{'_id': ObjectId('5b62aeaf94e45f1194a09dec'), 'nCIICIdentityCheck': 0, 'months': 3, 'mobileRealnameValidate': 1, 'certificateValidate': 0, 'currentRate': 24.0, 'funding': 0.0, 'creditCode': 'C', 'title': '手机app用户的第4次闪电借款', 'listingId': 123661293, 'borrowerName': 'pdu7****42201', 'bids': 0, 'amount': 500.0, 'creditValidate': 0, 'statusId': 1, 'isPay': False}\n",
      "{'_id': ObjectId('5b62aeaf94e45f1194a09deb'), 'nCIICIdentityCheck': 0, 'months': 3, 'mobileRealnameValidate': 1, 'certificateValidate': 0, 'currentRate': 20.0, 'funding': 0.0, 'creditCode': 'B', 'title': '手机app用户的第21次闪电借款', 'listingId': 123661280, 'borrowerName': 'pdu1****15610', 'bids': 0, 'amount': 1204.0, 'creditValidate': 0, 'statusId': 1, 'isPay': False}\n",
      "{'_id': ObjectId('5b62aeaf94e45f1194a09dea'), 'nCIICIdentityCheck': 0, 'months': 3, 'mobileRealnameValidate': 1, 'certificateValidate': 0, 'currentRate': 20.0, 'funding': 0.0, 'creditCode': 'B', 'title': 'pdu4****33718第7次借款', 'listingId': 123661261, 'borrowerName': 'pdu4****33718', 'bids': 0, 'amount': 718.0, 'creditValidate': 0, 'statusId': 1, 'isPay': False}\n",
      "{'_id': ObjectId('5b62aeaf94e45f1194a09de9'), 'nCIICIdentityCheck': 0, 'months': 12, 'mobileRealnameValidate': 1, 'certificateValidate': 0, 'currentRate': 24.0, 'funding': 0.0, 'creditCode': 'C', 'title': 'pdu5****43012第14次借款', 'listingId': 123661232, 'borrowerName': 'pdu5****43012', 'bids': 0, 'amount': 4601.0, 'creditValidate': 0, 'statusId': 1, 'isPay': False}\n",
      "{'_id': ObjectId('5b62aeaf94e45f1194a09de8'), 'nCIICIdentityCheck': 0, 'months': 3, 'mobileRealnameValidate': 1, 'certificateValidate': 0, 'currentRate': 20.0, 'funding': 0.0, 'creditCode': 'B', 'title': '手机app用户的第3次闪电借款', 'listingId': 123660917, 'borrowerName': 'pdu6****03608', 'bids': 0, 'amount': 700.0, 'creditValidate': 0, 'statusId': 1, 'isPay': False}\n",
      "{'_id': ObjectId('5b62aeae94e45f1194a09de7'), 'nCIICIdentityCheck': 0, 'months': 12, 'mobileRealnameValidate': 1, 'certificateValidate': 0, 'currentRate': 20.0, 'funding': 0.0, 'creditCode': 'B', 'title': '手机app用户的第6次闪电借款', 'listingId': 123660604, 'borrowerName': 'pdu3****35742', 'bids': 0, 'amount': 500.0, 'creditValidate': 0, 'statusId': 1, 'isPay': False}\n",
      "{'_id': ObjectId('5b62aeae94e45f1194a09de6'), 'nCIICIdentityCheck': 0, 'months': 12, 'mobileRealnameValidate': 1, 'certificateValidate': 0, 'currentRate': 24.0, 'funding': 0.0, 'creditCode': 'C', 'title': 'pdu7****31824第4次借款', 'listingId': 123659718, 'borrowerName': 'pdu7****31824', 'bids': 0, 'amount': 602.0, 'creditValidate': 0, 'statusId': 1, 'isPay': False}\n",
      "{'_id': ObjectId('5b62aeac94e45f1194a09de5'), 'nCIICIdentityCheck': 0, 'months': 12, 'mobileRealnameValidate': 1, 'certificateValidate': 1, 'currentRate': 24.0, 'funding': 0.0, 'creditCode': 'C', 'title': 'pdu6****37251第15次借款', 'listingId': 123659495, 'borrowerName': 'pdu6****37251', 'bids': 0, 'amount': 3740.0, 'creditValidate': 0, 'statusId': 1, 'isPay': False}\n",
      "{'_id': ObjectId('5b62aeac94e45f1194a09de4'), 'nCIICIdentityCheck': 0, 'months': 12, 'mobileRealnameValidate': 1, 'certificateValidate': 0, 'currentRate': 24.0, 'funding': 0.0, 'creditCode': 'C', 'title': 'pdu1****06745第4次借款', 'listingId': 123659306, 'borrowerName': 'pdu1****06745', 'bids': 0, 'amount': 13897.0, 'creditValidate': 0, 'statusId': 1, 'isPay': False}\n",
      "{'_id': ObjectId('5b62aeab94e45f1194a09de3'), 'nCIICIdentityCheck': 0, 'months': 6, 'mobileRealnameValidate': 1, 'certificateValidate': 0, 'currentRate': 24.0, 'funding': 0.0, 'creditCode': 'C', 'title': 'pdu7****006第13次借款', 'listingId': 123659207, 'borrowerName': 'pdu****3006', 'bids': 0, 'amount': 4125.0, 'creditValidate': 0, 'statusId': 1, 'isPay': False}\n",
      "{'_id': ObjectId('5b62aeab94e45f1194a09de2'), 'nCIICIdentityCheck': 0, 'months': 12, 'mobileRealnameValidate': 1, 'certificateValidate': 1, 'currentRate': 24.0, 'funding': 0.0, 'creditCode': 'C', 'title': '手机app用户的第21次闪电借款', 'listingId': 123659129, 'borrowerName': 'pdu6****50704', 'bids': 0, 'amount': 579.0, 'creditValidate': 0, 'statusId': 1, 'isPay': False}\n",
      "{'_id': ObjectId('5b62aeab94e45f1194a09de1'), 'nCIICIdentityCheck': 0, 'months': 12, 'mobileRealnameValidate': 1, 'certificateValidate': 0, 'currentRate': 24.0, 'funding': 0.0, 'creditCode': 'C', 'title': 'pdu3****75266第3次借款', 'listingId': 123658919, 'borrowerName': 'pdu3****75266', 'bids': 0, 'amount': 1000.0, 'creditValidate': 0, 'statusId': 1, 'isPay': False}\n",
      "{'_id': ObjectId('5b62aeab94e45f1194a09de0'), 'nCIICIdentityCheck': 0, 'months': 6, 'mobileRealnameValidate': 1, 'certificateValidate': 0, 'currentRate': 24.0, 'funding': 0.0, 'creditCode': 'C', 'title': 'pdu6****03375第6次借款', 'listingId': 123658886, 'borrowerName': 'pdu6****03375', 'bids': 0, 'amount': 3400.0, 'creditValidate': 0, 'statusId': 1, 'isPay': False}\n",
      "{'_id': ObjectId('5b62aeab94e45f1194a09ddf'), 'nCIICIdentityCheck': 0, 'months': 3, 'mobileRealnameValidate': 1, 'certificateValidate': 0, 'currentRate': 24.0, 'funding': 0.0, 'creditCode': 'C', 'title': 'pdu0****636第11次借款', 'listingId': 123658735, 'borrowerName': 'pdu****5636', 'bids': 0, 'amount': 4388.0, 'creditValidate': 0, 'statusId': 1, 'isPay': False}\n",
      "{'_id': ObjectId('5b62aeaa94e45f1194a09dde'), 'nCIICIdentityCheck': 0, 'months': 12, 'mobileRealnameValidate': 1, 'certificateValidate': 1, 'currentRate': 24.0, 'funding': 0.0, 'creditCode': 'C', 'title': '手机app用户的第19次闪电借款', 'listingId': 123658453, 'borrowerName': 'pdu1****87010', 'bids': 0, 'amount': 6000.0, 'creditValidate': 0, 'statusId': 1, 'isPay': False}\n",
      "{'_id': ObjectId('5b62aeaa94e45f1194a09ddd'), 'nCIICIdentityCheck': 0, 'months': 6, 'mobileRealnameValidate': 1, 'certificateValidate': 0, 'currentRate': 24.0, 'funding': 0.0, 'creditCode': 'C', 'title': '手机app用户的第2次闪电借款', 'listingId': 123657874, 'borrowerName': 'pdu3****80750', 'bids': 0, 'amount': 700.0, 'creditValidate': 0, 'statusId': 1, 'isPay': False}\n",
      "{'_id': ObjectId('5b62aeaa94e45f1194a09ddc'), 'nCIICIdentityCheck': 0, 'months': 6, 'mobileRealnameValidate': 1, 'certificateValidate': 0, 'currentRate': 24.0, 'funding': 0.0, 'creditCode': 'C', 'title': 'pdu4****860第11次借款', 'listingId': 123657458, 'borrowerName': 'pdu****3860', 'bids': 0, 'amount': 3300.0, 'creditValidate': 0, 'statusId': 1, 'isPay': False}\n",
      "{'_id': ObjectId('5b62aea894e45f1194a09ddb'), 'nCIICIdentityCheck': 0, 'months': 12, 'mobileRealnameValidate': 1, 'certificateValidate': 0, 'currentRate': 24.0, 'funding': 0.0, 'creditCode': 'C', 'title': '手机app用户的第15次闪电借款', 'listingId': 123657271, 'borrowerName': 'pdu5****18228', 'bids': 0, 'amount': 1009.0, 'creditValidate': 0, 'statusId': 1, 'isPay': False}\n",
      "{'_id': ObjectId('5b62aea794e45f1194a09dda'), 'nCIICIdentityCheck': 0, 'months': 3, 'mobileRealnameValidate': 1, 'certificateValidate': 0, 'currentRate': 24.0, 'funding': 0.0, 'creditCode': 'C', 'title': 'pdu8****27303第7次借款', 'listingId': 123657016, 'borrowerName': 'pdu8****27303', 'bids': 0, 'amount': 2656.0, 'creditValidate': 0, 'statusId': 1, 'isPay': False}\n",
      "{'_id': ObjectId('5b62aea794e45f1194a09dd9'), 'nCIICIdentityCheck': 0, 'months': 12, 'mobileRealnameValidate': 1, 'certificateValidate': 1, 'currentRate': 24.0, 'funding': 0.0, 'creditCode': 'C', 'title': '手机app用户的第3次闪电借款', 'listingId': 123656815, 'borrowerName': 'pdu8****13555', 'bids': 0, 'amount': 1300.0, 'creditValidate': 0, 'statusId': 1, 'isPay': False}\n",
      "{'_id': ObjectId('5b62aea794e45f1194a09dd8'), 'nCIICIdentityCheck': 0, 'months': 6, 'mobileRealnameValidate': 1, 'certificateValidate': 0, 'currentRate': 24.0, 'funding': 0.0, 'creditCode': 'C', 'title': 'pdu5****84043第4次借款', 'listingId': 123655835, 'borrowerName': 'pdu5****84043', 'bids': 0, 'amount': 2124.0, 'creditValidate': 0, 'statusId': 1, 'isPay': False}\n",
      "{'_id': ObjectId('5b62aea794e45f1194a09dd7'), 'nCIICIdentityCheck': 0, 'months': 6, 'mobileRealnameValidate': 1, 'certificateValidate': 0, 'currentRate': 24.0, 'funding': 0.0, 'creditCode': 'C', 'title': 'pdu7****40652第12次借款', 'listingId': 123655600, 'borrowerName': 'pdu7****40652', 'bids': 0, 'amount': 4000.0, 'creditValidate': 0, 'statusId': 1, 'isPay': False}\n",
      "{'_id': ObjectId('5b62aea794e45f1194a09dd6'), 'nCIICIdentityCheck': 0, 'months': 6, 'mobileRealnameValidate': 1, 'certificateValidate': 0, 'currentRate': 24.0, 'funding': 0.0, 'creditCode': 'C', 'title': 'pdu2****66115第2次借款', 'listingId': 123655438, 'borrowerName': 'pdu2****66115', 'bids': 0, 'amount': 4400.0, 'creditValidate': 0, 'statusId': 1, 'isPay': False}\n",
      "{'_id': ObjectId('5b62aea694e45f1194a09dd5'), 'nCIICIdentityCheck': 0, 'months': 6, 'mobileRealnameValidate': 1, 'certificateValidate': 0, 'currentRate': 24.0, 'funding': 0.0, 'creditCode': 'C', 'title': 'pdu4****626第15次借款', 'listingId': 123655275, 'borrowerName': 'pdu****4626', 'bids': 0, 'amount': 2644.0, 'creditValidate': 0, 'statusId': 1, 'isPay': False}\n",
      "{'_id': ObjectId('5b62aea694e45f1194a09dd4'), 'nCIICIdentityCheck': 0, 'months': 12, 'mobileRealnameValidate': 1, 'certificateValidate': 0, 'currentRate': 24.0, 'funding': 0.0, 'creditCode': 'C', 'title': 'pdu1****36871第13次借款', 'listingId': 123655246, 'borrowerName': 'pdu1****36871', 'bids': 0, 'amount': 2014.0, 'creditValidate': 0, 'statusId': 1, 'isPay': False}\n",
      "{'_id': ObjectId('5b62aea694e45f1194a09dd3'), 'nCIICIdentityCheck': 0, 'months': 6, 'mobileRealnameValidate': 1, 'certificateValidate': 0, 'currentRate': 24.0, 'funding': 0.0, 'creditCode': 'C', 'title': 'pdu2****87213第16次借款', 'listingId': 123654855, 'borrowerName': 'pdu2****87213', 'bids': 0, 'amount': 1714.0, 'creditValidate': 0, 'statusId': 1, 'isPay': False}\n",
      "{'_id': ObjectId('5b62aea694e45f1194a09dd2'), 'nCIICIdentityCheck': 0, 'months': 3, 'mobileRealnameValidate': 1, 'certificateValidate': 0, 'currentRate': 24.0, 'funding': 0.0, 'creditCode': 'C', 'title': '手机app用户的第9次闪电借款', 'listingId': 123654718, 'borrowerName': 'pdu3****35417', 'bids': 0, 'amount': 747.0, 'creditValidate': 0, 'statusId': 1, 'isPay': False}\n",
      "{'_id': ObjectId('5b62aea394e45f1194a09dd1'), 'nCIICIdentityCheck': 0, 'months': 3, 'mobileRealnameValidate': 1, 'certificateValidate': 0, 'currentRate': 20.0, 'funding': 0.0, 'creditCode': 'B', 'title': 'pdu2****54113第7次借款', 'listingId': 123654543, 'borrowerName': 'pdu2****54113', 'bids': 0, 'amount': 664.0, 'creditValidate': 0, 'statusId': 1, 'isPay': False}\n",
      "{'_id': ObjectId('5b62aea394e45f1194a09dd0'), 'nCIICIdentityCheck': 0, 'months': 6, 'mobileRealnameValidate': 1, 'certificateValidate': 0, 'currentRate': 24.0, 'funding': 0.0, 'creditCode': 'C', 'title': 'pdu7****24572第5次借款', 'listingId': 123654511, 'borrowerName': 'pdu7****24572', 'bids': 0, 'amount': 3500.0, 'creditValidate': 0, 'statusId': 1, 'isPay': False}\n",
      "{'_id': ObjectId('5b62aea394e45f1194a09dcf'), 'nCIICIdentityCheck': 0, 'months': 6, 'mobileRealnameValidate': 1, 'certificateValidate': 1, 'currentRate': 24.0, 'funding': 0.0, 'creditCode': 'C', 'title': 'pdu2****73777第7次借款', 'listingId': 123654495, 'borrowerName': 'pdu2****73777', 'bids': 0, 'amount': 4000.0, 'creditValidate': 0, 'statusId': 1, 'isPay': False}\n",
      "{'_id': ObjectId('5b62aea394e45f1194a09dce'), 'nCIICIdentityCheck': 0, 'months': 12, 'mobileRealnameValidate': 1, 'certificateValidate': 0, 'currentRate': 24.0, 'funding': 0.0, 'creditCode': 'C', 'title': '手机app用户的借款', 'listingId': 123654314, 'borrowerName': 'pdu6****23854', 'bids': 0, 'amount': 2500.0, 'creditValidate': 0, 'statusId': 1, 'isPay': False}\n",
      "{'_id': ObjectId('5b62aea294e45f1194a09dcd'), 'nCIICIdentityCheck': 0, 'months': 3, 'mobileRealnameValidate': 1, 'certificateValidate': 0, 'currentRate': 20.0, 'funding': 0.0, 'creditCode': 'B', 'title': '手机app用户的第9次闪电借款', 'listingId': 123653410, 'borrowerName': 'pdu6****52352', 'bids': 0, 'amount': 1321.0, 'creditValidate': 0, 'statusId': 1, 'isPay': False}\n",
      "{'_id': ObjectId('5b62aea294e45f1194a09dcc'), 'nCIICIdentityCheck': 0, 'months': 3, 'mobileRealnameValidate': 1, 'certificateValidate': 0, 'currentRate': 24.0, 'funding': 0.0, 'creditCode': 'C', 'title': 'pdu6****131第8次借款', 'listingId': 123653386, 'borrowerName': 'pdu****6131', 'bids': 0, 'amount': 6060.0, 'creditValidate': 0, 'statusId': 1, 'isPay': False}\n",
      "{'_id': ObjectId('5b62aea294e45f1194a09dcb'), 'nCIICIdentityCheck': 0, 'months': 6, 'mobileRealnameValidate': 1, 'certificateValidate': 0, 'currentRate': 24.0, 'funding': 0.0, 'creditCode': 'C', 'title': 'pdu3****51421第11次借款', 'listingId': 123652726, 'borrowerName': 'pdu3****51421', 'bids': 0, 'amount': 1557.0, 'creditValidate': 0, 'statusId': 1, 'isPay': False}\n",
      "{'_id': ObjectId('5b62ae9f94e45f1194a09dca'), 'nCIICIdentityCheck': 0, 'months': 6, 'mobileRealnameValidate': 1, 'certificateValidate': 0, 'currentRate': 24.0, 'funding': 0.0, 'creditCode': 'C', 'title': 'pdu6****008第16次借款', 'listingId': 123651629, 'borrowerName': 'pdu****8008', 'bids': 0, 'amount': 1800.0, 'creditValidate': 0, 'statusId': 1, 'isPay': False}\n",
      "{'_id': ObjectId('5b62ae9f94e45f1194a09dc9'), 'nCIICIdentityCheck': 0, 'months': 6, 'mobileRealnameValidate': 1, 'certificateValidate': 0, 'currentRate': 20.0, 'funding': 50.0, 'creditCode': 'B', 'title': 'pdu2****30303第5次借款', 'listingId': 123661610, 'borrowerName': 'pdu2****30303', 'bids': 1, 'amount': 8627.0, 'creditValidate': 0, 'statusId': 1, 'isPay': False}\n",
      "{'_id': ObjectId('5b62ae9f94e45f1194a09dc8'), 'nCIICIdentityCheck': 0, 'months': 12, 'mobileRealnameValidate': 1, 'certificateValidate': 0, 'currentRate': 20.0, 'funding': 175.0, 'creditCode': 'B', 'title': '手机app用户的第2次闪电借款', 'listingId': 123660904, 'borrowerName': 'pdu8****17653', 'bids': 3, 'amount': 18700.0, 'creditValidate': 0, 'statusId': 1, 'isPay': False}\n",
      "{'_id': ObjectId('5b62ae9f94e45f1194a09dc7'), 'nCIICIdentityCheck': 0, 'months': 12, 'mobileRealnameValidate': 1, 'certificateValidate': 0, 'currentRate': 24.0, 'funding': 65.0, 'creditCode': 'C', 'title': 'pdu7****676第6次借款', 'listingId': 123659915, 'borrowerName': 'pdu****3676', 'bids': 1, 'amount': 6639.0, 'creditValidate': 0, 'statusId': 1, 'isPay': False}\n",
      "{'_id': ObjectId('5b62ae9e94e45f1194a09dc6'), 'nCIICIdentityCheck': 0, 'months': 6, 'mobileRealnameValidate': 1, 'certificateValidate': 1, 'currentRate': 20.0, 'funding': 50.0, 'creditCode': 'B', 'title': 'pdu2****88461第11次借款', 'listingId': 123664004, 'borrowerName': 'pdu2****88461', 'bids': 1, 'amount': 4975.0, 'creditValidate': 0, 'statusId': 1, 'isPay': False}\n",
      "{'_id': ObjectId('5b62ae9e94e45f1194a09dc5'), 'nCIICIdentityCheck': 0, 'months': 12, 'mobileRealnameValidate': 1, 'certificateValidate': 0, 'currentRate': 20.0, 'funding': 50.0, 'creditCode': 'B', 'title': 'pdu3****82012第10次借款', 'listingId': 123661897, 'borrowerName': 'pdu3****82012', 'bids': 1, 'amount': 4636.0, 'creditValidate': 0, 'statusId': 1, 'isPay': False}\n",
      "{'_id': ObjectId('5b62ae9e94e45f1194a09dc4'), 'nCIICIdentityCheck': 0, 'months': 3, 'mobileRealnameValidate': 1, 'certificateValidate': 0, 'currentRate': 24.0, 'funding': 50.0, 'creditCode': 'C', 'title': 'pdu1****54861第4次借款', 'listingId': 123663261, 'borrowerName': 'pdu1****54861', 'bids': 1, 'amount': 4500.0, 'creditValidate': 0, 'statusId': 1, 'isPay': False}\n",
      "{'_id': ObjectId('5b62ae9994e45f1194a09dc3'), 'nCIICIdentityCheck': 0, 'months': 12, 'mobileRealnameValidate': 1, 'certificateValidate': 1, 'currentRate': 20.0, 'funding': 50.0, 'creditCode': 'B', 'title': 'pdu8****84808第13次借款', 'listingId': 123663529, 'borrowerName': 'pdu8****84808', 'bids': 1, 'amount': 4000.0, 'creditValidate': 0, 'statusId': 1, 'isPay': False}\n",
      "{'_id': ObjectId('5b62ae9994e45f1194a09dc2'), 'nCIICIdentityCheck': 0, 'months': 6, 'mobileRealnameValidate': 1, 'certificateValidate': 1, 'currentRate': 24.0, 'funding': 50.0, 'creditCode': 'C', 'title': 'pdu0****682第10次借款', 'listingId': 123663336, 'borrowerName': 'pdu****2682', 'bids': 1, 'amount': 3979.0, 'creditValidate': 0, 'statusId': 1, 'isPay': False}\n",
      "{'_id': ObjectId('5b62ae9994e45f1194a09dc1'), 'nCIICIdentityCheck': 0, 'months': 12, 'mobileRealnameValidate': 1, 'certificateValidate': 1, 'currentRate': 20.0, 'funding': 210.0, 'creditCode': 'B', 'title': 'pdu2****81406第5次借款', 'listingId': 123663172, 'borrowerName': 'pdu2****81406', 'bids': 4, 'amount': 16500.0, 'creditValidate': 0, 'statusId': 1, 'isPay': False}\n",
      "{'_id': ObjectId('5b62ae9994e45f1194a09dc0'), 'nCIICIdentityCheck': 0, 'months': 6, 'mobileRealnameValidate': 1, 'certificateValidate': 0, 'currentRate': 24.0, 'funding': 65.0, 'creditCode': 'C', 'title': 'pdu8****330第12次借款', 'listingId': 123658557, 'borrowerName': 'pdu****1330', 'bids': 1, 'amount': 5011.0, 'creditValidate': 0, 'statusId': 1, 'isPay': False}\n",
      "{'_id': ObjectId('5b62ae9894e45f1194a09dbf'), 'nCIICIdentityCheck': 0, 'months': 3, 'mobileRealnameValidate': 1, 'certificateValidate': 0, 'currentRate': 20.0, 'funding': 150.0, 'creditCode': 'B', 'title': '手机app用户的第4次闪电借款', 'listingId': 123659049, 'borrowerName': 'pdu7****64530', 'bids': 3, 'amount': 11500.0, 'creditValidate': 0, 'statusId': 1, 'isPay': False}\n",
      "{'_id': ObjectId('5b62ae9894e45f1194a09dbe'), 'nCIICIdentityCheck': 0, 'months': 6, 'mobileRealnameValidate': 1, 'certificateValidate': 0, 'currentRate': 20.0, 'funding': 50.0, 'creditCode': 'B', 'title': 'pdu7****51663第12次借款', 'listingId': 123660846, 'borrowerName': 'pdu7****51663', 'bids': 1, 'amount': 3603.0, 'creditValidate': 0, 'statusId': 1, 'isPay': False}\n",
      "{'_id': ObjectId('5b62ae9894e45f1194a09dbd'), 'nCIICIdentityCheck': 0, 'months': 12, 'mobileRealnameValidate': 1, 'certificateValidate': 0, 'currentRate': 16.0, 'funding': 251.0, 'creditCode': 'A', 'title': 'pdu5****47588第2次借款', 'listingId': 123660636, 'borrowerName': 'pdu5****47588', 'bids': 4, 'amount': 17700.0, 'creditValidate': 0, 'statusId': 1, 'isPay': False}\n",
      "{'_id': ObjectId('5b62ae9894e45f1194a09dbc'), 'nCIICIdentityCheck': 0, 'months': 12, 'mobileRealnameValidate': 1, 'certificateValidate': 0, 'currentRate': 20.0, 'funding': 101.0, 'creditCode': 'B', 'title': '手机app用户的第3次闪电借款', 'listingId': 123659100, 'borrowerName': 'pdu1****63188', 'bids': 2, 'amount': 6847.0, 'creditValidate': 0, 'statusId': 1, 'isPay': False}\n",
      "{'_id': ObjectId('5b62ae9894e45f1194a09dbb'), 'nCIICIdentityCheck': 0, 'months': 12, 'mobileRealnameValidate': 1, 'certificateValidate': 1, 'currentRate': 24.0, 'funding': 50.0, 'creditCode': 'C', 'title': 'pdu7****77812第9次借款', 'listingId': 123662192, 'borrowerName': 'pdu7****77812', 'bids': 1, 'amount': 3280.0, 'creditValidate': 0, 'statusId': 1, 'isPay': False}\n",
      "{'_id': ObjectId('5b62ae9594e45f1194a09dba'), 'nCIICIdentityCheck': 0, 'months': 12, 'mobileRealnameValidate': 1, 'certificateValidate': 1, 'currentRate': 20.0, 'funding': 100.0, 'creditCode': 'B', 'title': '手机app用户的借款', 'listingId': 123664321, 'borrowerName': 'pdu6****66560', 'bids': 1, 'amount': 6000.0, 'creditValidate': 0, 'statusId': 1, 'isPay': False}\n",
      "{'_id': ObjectId('5b62ae9594e45f1194a09db9'), 'nCIICIdentityCheck': 0, 'months': 6, 'mobileRealnameValidate': 1, 'certificateValidate': 0, 'currentRate': 20.0, 'funding': 50.0, 'creditCode': 'B', 'title': 'r****197651第23次借款', 'listingId': 123660930, 'borrowerName': 'ron****7651', 'bids': 1, 'amount': 3000.0, 'creditValidate': 0, 'statusId': 1, 'isPay': False}\n",
      "{'_id': ObjectId('5b62ae9594e45f1194a09db8'), 'nCIICIdentityCheck': 0, 'months': 12, 'mobileRealnameValidate': 1, 'certificateValidate': 0, 'currentRate': 20.0, 'funding': 50.0, 'creditCode': 'B', 'title': 'pdu4****47005第8次借款', 'listingId': 123660843, 'borrowerName': 'pdu4****47005', 'bids': 1, 'amount': 3000.0, 'creditValidate': 0, 'statusId': 1, 'isPay': False}\n",
      "{'_id': ObjectId('5b62ae9594e45f1194a09db7'), 'nCIICIdentityCheck': 0, 'months': 6, 'mobileRealnameValidate': 1, 'certificateValidate': 1, 'currentRate': 20.0, 'funding': 50.0, 'creditCode': 'B', 'title': 'pdu1****17806第13次借款', 'listingId': 123660483, 'borrowerName': 'pdu1****17806', 'bids': 1, 'amount': 3000.0, 'creditValidate': 0, 'statusId': 1, 'isPay': False}\n",
      "{'_id': ObjectId('5b62ae9494e45f1194a09db6'), 'nCIICIdentityCheck': 0, 'months': 12, 'mobileRealnameValidate': 1, 'certificateValidate': 0, 'currentRate': 24.0, 'funding': 50.0, 'creditCode': 'C', 'title': 'pdu6****52431第7次借款', 'listingId': 123653393, 'borrowerName': 'pdu6****52431', 'bids': 1, 'amount': 3000.0, 'creditValidate': 0, 'statusId': 1, 'isPay': False}\n",
      "{'_id': ObjectId('5b62ae9494e45f1194a09db5'), 'nCIICIdentityCheck': 0, 'months': 6, 'mobileRealnameValidate': 1, 'certificateValidate': 0, 'currentRate': 24.0, 'funding': 50.0, 'creditCode': 'C', 'title': '手机app用户的借款', 'listingId': 123658205, 'borrowerName': 'pdu5****00566', 'bids': 1, 'amount': 2958.0, 'creditValidate': 0, 'statusId': 1, 'isPay': False}\n",
      "{'_id': ObjectId('5b62ae9494e45f1194a09db4'), 'nCIICIdentityCheck': 0, 'months': 6, 'mobileRealnameValidate': 1, 'certificateValidate': 0, 'currentRate': 20.0, 'funding': 50.0, 'creditCode': 'B', 'title': 'r****745387第8次借款', 'listingId': 123663011, 'borrowerName': 'ron****5387', 'bids': 1, 'amount': 2939.0, 'creditValidate': 0, 'statusId': 1, 'isPay': False}\n",
      "{'_id': ObjectId('5b62ae9494e45f1194a09db3'), 'nCIICIdentityCheck': 0, 'months': 6, 'mobileRealnameValidate': 1, 'certificateValidate': 0, 'currentRate': 20.0, 'funding': 91.0, 'creditCode': 'B', 'title': '手机app用户的借款', 'listingId': 123664077, 'borrowerName': 'pdu7****32863', 'bids': 1, 'amount': 5000.0, 'creditValidate': 0, 'statusId': 1, 'isPay': False}\n",
      "{'_id': ObjectId('5b62ae9494e45f1194a09db2'), 'nCIICIdentityCheck': 0, 'months': 6, 'mobileRealnameValidate': 1, 'certificateValidate': 0, 'currentRate': 24.0, 'funding': 50.0, 'creditCode': 'C', 'title': '手机app用户的第2次闪电借款', 'listingId': 123660074, 'borrowerName': 'pdu0****20878', 'bids': 1, 'amount': 2600.0, 'creditValidate': 0, 'statusId': 1, 'isPay': False}\n",
      "{'_id': ObjectId('5b62ae9194e45f1194a09db1'), 'nCIICIdentityCheck': 0, 'months': 12, 'mobileRealnameValidate': 1, 'certificateValidate': 0, 'currentRate': 24.0, 'funding': 352.0, 'creditCode': 'C', 'title': 'l****7604199第7次借款', 'listingId': 123649329, 'borrowerName': 'lht4****4199', 'bids': 5, 'amount': 18000.0, 'creditValidate': 0, 'statusId': 1, 'isPay': False}\n",
      "{'_id': ObjectId('5b62ae9194e45f1194a09db0'), 'nCIICIdentityCheck': 0, 'months': 12, 'mobileRealnameValidate': 1, 'certificateValidate': 1, 'currentRate': 16.0, 'funding': 119.0, 'creditCode': 'A', 'title': '手机app用户的借款', 'listingId': 123662037, 'borrowerName': 'pdu3****04802', 'bids': 2, 'amount': 6000.0, 'creditValidate': 0, 'statusId': 1, 'isPay': False}\n",
      "{'_id': ObjectId('5b62ae9194e45f1194a09daf'), 'nCIICIdentityCheck': 0, 'months': 6, 'mobileRealnameValidate': 1, 'certificateValidate': 0, 'currentRate': 20.0, 'funding': 50.0, 'creditCode': 'B', 'title': 'pdu5****07830第9次借款', 'listingId': 123663968, 'borrowerName': 'pdu5****07830', 'bids': 1, 'amount': 2252.0, 'creditValidate': 0, 'statusId': 1, 'isPay': False}\n",
      "{'_id': ObjectId('5b62ae9194e45f1194a09dae'), 'nCIICIdentityCheck': 0, 'months': 6, 'mobileRealnameValidate': 1, 'certificateValidate': 1, 'currentRate': 20.0, 'funding': 50.0, 'creditCode': 'B', 'title': 'pdu2****23250第5次借款', 'listingId': 123659080, 'borrowerName': 'pdu2****23250', 'bids': 1, 'amount': 2200.0, 'creditValidate': 0, 'statusId': 1, 'isPay': False}\n",
      "{'_id': ObjectId('5b62ae9094e45f1194a09dad'), 'nCIICIdentityCheck': 0, 'months': 12, 'mobileRealnameValidate': 1, 'certificateValidate': 0, 'currentRate': 20.0, 'funding': 50.0, 'creditCode': 'B', 'title': 'pdu6****48867第2次借款', 'listingId': 123664444, 'borrowerName': 'pdu6****48867', 'bids': 1, 'amount': 2162.0, 'creditValidate': 0, 'statusId': 1, 'isPay': False}\n",
      "{'_id': ObjectId('5b62ae9094e45f1194a09dac'), 'nCIICIdentityCheck': 0, 'months': 3, 'mobileRealnameValidate': 1, 'certificateValidate': 1, 'currentRate': 24.0, 'funding': 250.0, 'creditCode': 'C', 'title': '手机app用户的借款', 'listingId': 123662193, 'borrowerName': 'pdu5****87048', 'bids': 2, 'amount': 10723.0, 'creditValidate': 0, 'statusId': 1, 'isPay': False}\n",
      "{'_id': ObjectId('5b62ae9094e45f1194a09dab'), 'nCIICIdentityCheck': 0, 'months': 6, 'mobileRealnameValidate': 1, 'certificateValidate': 0, 'currentRate': 20.0, 'funding': 101.0, 'creditCode': 'B', 'title': 'pdu8****45011第8次借款', 'listingId': 123654454, 'borrowerName': 'pdu8****45011', 'bids': 2, 'amount': 4263.0, 'creditValidate': 0, 'statusId': 1, 'isPay': False}\n",
      "{'_id': ObjectId('5b62ae8d94e45f1194a09daa'), 'nCIICIdentityCheck': 0, 'months': 12, 'mobileRealnameValidate': 1, 'certificateValidate': 0, 'currentRate': 20.0, 'funding': 429.0, 'creditCode': 'B', 'title': 'pdu0****16883第11次借款', 'listingId': 123664081, 'borrowerName': 'pdu0****16883', 'bids': 8, 'amount': 18000.0, 'creditValidate': 1, 'statusId': 1, 'isPay': False}\n",
      "{'_id': ObjectId('5b62ae8d94e45f1194a09da9'), 'nCIICIdentityCheck': 0, 'months': 12, 'mobileRealnameValidate': 1, 'certificateValidate': 1, 'currentRate': 24.0, 'funding': 100.0, 'creditCode': 'C', 'title': 'pdu5****75667第15次借款', 'listingId': 123660762, 'borrowerName': 'pdu5****75667', 'bids': 1, 'amount': 4105.0, 'creditValidate': 0, 'statusId': 1, 'isPay': False}\n",
      "{'_id': ObjectId('5b62ae8d94e45f1194a09da8'), 'nCIICIdentityCheck': 0, 'months': 6, 'mobileRealnameValidate': 1, 'certificateValidate': 0, 'currentRate': 20.0, 'funding': 50.0, 'creditCode': 'B', 'title': '手机app用户的第21次闪电借款', 'listingId': 123661684, 'borrowerName': 'pdu3****22562', 'bids': 1, 'amount': 2041.0, 'creditValidate': 0, 'statusId': 1, 'isPay': False}\n",
      "{'_id': ObjectId('5b62ae8d94e45f1194a09da7'), 'nCIICIdentityCheck': 0, 'months': 3, 'mobileRealnameValidate': 1, 'certificateValidate': 1, 'currentRate': 24.0, 'funding': 124.0, 'creditCode': 'C', 'title': 'pdu2****715第5次借款', 'listingId': 123659894, 'borrowerName': 'pdu****6715', 'bids': 2, 'amount': 5000.0, 'creditValidate': 0, 'statusId': 1, 'isPay': False}\n",
      "{'_id': ObjectId('5b62ae8c94e45f1194a09da6'), 'nCIICIdentityCheck': 0, 'months': 6, 'mobileRealnameValidate': 1, 'certificateValidate': 0, 'currentRate': 24.0, 'funding': 50.0, 'creditCode': 'C', 'title': '手机app用户的第4次闪电借款', 'listingId': 123661143, 'borrowerName': 'pdu2****72257', 'bids': 1, 'amount': 1978.0, 'creditValidate': 0, 'statusId': 1, 'isPay': False}\n",
      "{'_id': ObjectId('5b62ae8c94e45f1194a09da5'), 'nCIICIdentityCheck': 0, 'months': 12, 'mobileRealnameValidate': 1, 'certificateValidate': 1, 'currentRate': 24.0, 'funding': 152.0, 'creditCode': 'C', 'title': 'pdu2****15287第14次借款', 'listingId': 123646641, 'borrowerName': 'pdu2****15287', 'bids': 3, 'amount': 6015.0, 'creditValidate': 0, 'statusId': 1, 'isPay': False}\n",
      "{'_id': ObjectId('5b62ae8c94e45f1194a09da4'), 'nCIICIdentityCheck': 0, 'months': 12, 'mobileRealnameValidate': 1, 'certificateValidate': 0, 'currentRate': 20.0, 'funding': 215.0, 'creditCode': 'B', 'title': 'pdu0****02683第3次借款', 'listingId': 123663316, 'borrowerName': 'pdu0****02683', 'bids': 4, 'amount': 8264.0, 'creditValidate': 0, 'statusId': 1, 'isPay': False}\n",
      "{'_id': ObjectId('5b62ae8c94e45f1194a09da3'), 'nCIICIdentityCheck': 0, 'months': 3, 'mobileRealnameValidate': 1, 'certificateValidate': 0, 'currentRate': 24.0, 'funding': 182.0, 'creditCode': 'C', 'title': '手机app用户的第4次闪电借款', 'listingId': 123662588, 'borrowerName': 'pdu8****00148', 'bids': 3, 'amount': 7000.0, 'creditValidate': 0, 'statusId': 1, 'isPay': False}\n",
      "{'_id': ObjectId('5b62ae8c94e45f1194a09da2'), 'nCIICIdentityCheck': 0, 'months': 6, 'mobileRealnameValidate': 1, 'certificateValidate': 0, 'currentRate': 20.0, 'funding': 50.0, 'creditCode': 'B', 'title': 'pdu2****10702第3次借款', 'listingId': 123660282, 'borrowerName': 'pdu2****10702', 'bids': 1, 'amount': 1891.0, 'creditValidate': 0, 'statusId': 1, 'isPay': False}\n",
      "{'_id': ObjectId('5b62ae8994e45f1194a09da1'), 'nCIICIdentityCheck': 0, 'months': 12, 'mobileRealnameValidate': 1, 'certificateValidate': 1, 'currentRate': 16.0, 'funding': 50.0, 'creditCode': 'A', 'title': '手机app用户的第13次闪电借款', 'listingId': 123662826, 'borrowerName': 'pdu5****66607', 'bids': 1, 'amount': 1791.0, 'creditValidate': 0, 'statusId': 1, 'isPay': False}\n",
      "{'_id': ObjectId('5b62ae8894e45f1194a09da0'), 'nCIICIdentityCheck': 0, 'months': 12, 'mobileRealnameValidate': 1, 'certificateValidate': 1, 'currentRate': 20.0, 'funding': 293.0, 'creditCode': 'B', 'title': 'pdu2****20657第11次借款', 'listingId': 123662678, 'borrowerName': 'pdu2****20657', 'bids': 5, 'amount': 10200.0, 'creditValidate': 0, 'statusId': 1, 'isPay': False}\n",
      "{'_id': ObjectId('5b62ae8894e45f1194a09d9f'), 'nCIICIdentityCheck': 0, 'months': 6, 'mobileRealnameValidate': 1, 'certificateValidate': 1, 'currentRate': 24.0, 'funding': 58.0, 'creditCode': 'C', 'title': '手机app用户的第6次闪电借款', 'listingId': 123659564, 'borrowerName': 'pdu5****48551', 'bids': 1, 'amount': 2000.0, 'creditValidate': 0, 'statusId': 1, 'isPay': False}\n",
      "{'_id': ObjectId('5b62ae8894e45f1194a09d9e'), 'nCIICIdentityCheck': 0, 'months': 6, 'mobileRealnameValidate': 1, 'certificateValidate': 0, 'currentRate': 20.0, 'funding': 50.0, 'creditCode': 'B', 'title': 'pdu1****23536第17次借款', 'listingId': 123661185, 'borrowerName': 'pdu1****23536', 'bids': 1, 'amount': 1700.0, 'creditValidate': 0, 'statusId': 1, 'isPay': False}\n",
      "{'_id': ObjectId('5b62ae8894e45f1194a09d9d'), 'nCIICIdentityCheck': 0, 'months': 12, 'mobileRealnameValidate': 1, 'certificateValidate': 0, 'currentRate': 20.0, 'funding': 212.0, 'creditCode': 'B', 'title': '手机app用户的第11次闪电借款', 'listingId': 123662382, 'borrowerName': 'pdu7****12452', 'bids': 4, 'amount': 7000.0, 'creditValidate': 0, 'statusId': 1, 'isPay': False}\n",
      "{'_id': ObjectId('5b62ae8894e45f1194a09d9c'), 'nCIICIdentityCheck': 0, 'months': 12, 'mobileRealnameValidate': 1, 'certificateValidate': 0, 'currentRate': 24.0, 'funding': 50.0, 'creditCode': 'C', 'title': 'pdu6****40081第2次借款', 'listingId': 123647280, 'borrowerName': 'pdu6****40081', 'bids': 1, 'amount': 1636.0, 'creditValidate': 0, 'statusId': 1, 'isPay': False}\n",
      "{'_id': ObjectId('5b62ae8794e45f1194a09d9b'), 'nCIICIdentityCheck': 0, 'months': 6, 'mobileRealnameValidate': 1, 'certificateValidate': 0, 'currentRate': 20.0, 'funding': 50.0, 'creditCode': 'B', 'title': '1****d第13次借款', 'listingId': 123655885, 'borrowerName': '1****d', 'bids': 1, 'amount': 1623.0, 'creditValidate': 0, 'statusId': 1, 'isPay': False}\n",
      "{'_id': ObjectId('5b62ae8794e45f1194a09d9a'), 'nCIICIdentityCheck': 0, 'months': 12, 'mobileRealnameValidate': 1, 'certificateValidate': 0, 'currentRate': 20.0, 'funding': 93.0, 'creditCode': 'B', 'title': 'pdu2****04241第3次借款', 'listingId': 123660539, 'borrowerName': 'pdu2****04241', 'bids': 1, 'amount': 3000.0, 'creditValidate': 0, 'statusId': 1, 'isPay': False}\n",
      "{'_id': ObjectId('5b62ae8794e45f1194a09d99'), 'nCIICIdentityCheck': 0, 'months': 3, 'mobileRealnameValidate': 1, 'certificateValidate': 0, 'currentRate': 20.0, 'funding': 296.0, 'creditCode': 'B', 'title': '手机app用户的第3次闪电借款', 'listingId': 123663768, 'borrowerName': 'pdu2****87622', 'bids': 4, 'amount': 9500.0, 'creditValidate': 0, 'statusId': 1, 'isPay': False}\n",
      "{'_id': ObjectId('5b62ae8794e45f1194a09d98'), 'nCIICIdentityCheck': 0, 'months': 12, 'mobileRealnameValidate': 1, 'certificateValidate': 0, 'currentRate': 20.0, 'funding': 68.0, 'creditCode': 'B', 'title': 'pdu6****45408第5次借款', 'listingId': 123656136, 'borrowerName': 'pdu6****45408', 'bids': 1, 'amount': 2175.0, 'creditValidate': 0, 'statusId': 1, 'isPay': False}\n",
      "{'_id': ObjectId('5b62ae8194e45f1194a09d97'), 'nCIICIdentityCheck': 0, 'months': 12, 'mobileRealnameValidate': 1, 'certificateValidate': 0, 'currentRate': 20.0, 'funding': 59.0, 'creditCode': 'B', 'title': '手机app用户的第10次闪电借款', 'listingId': 123663950, 'borrowerName': 'pdu7****05862', 'bids': 1, 'amount': 1884.0, 'creditValidate': 0, 'statusId': 1, 'isPay': False}\n",
      "{'_id': ObjectId('5b62ae8194e45f1194a09d96'), 'nCIICIdentityCheck': 0, 'months': 6, 'mobileRealnameValidate': 1, 'certificateValidate': 0, 'currentRate': 20.0, 'funding': 101.0, 'creditCode': 'B', 'title': 'pdu4****47000第25次借款', 'listingId': 123655366, 'borrowerName': 'pdu4****47000', 'bids': 2, 'amount': 3100.0, 'creditValidate': 0, 'statusId': 1, 'isPay': False}\n",
      "{'_id': ObjectId('5b62ae8194e45f1194a09d95'), 'nCIICIdentityCheck': 0, 'months': 3, 'mobileRealnameValidate': 1, 'certificateValidate': 1, 'currentRate': 24.0, 'funding': 50.0, 'creditCode': 'C', 'title': 'pdu6****11641第12次借款', 'listingId': 123653710, 'borrowerName': 'pdu6****11641', 'bids': 1, 'amount': 1500.0, 'creditValidate': 0, 'statusId': 1, 'isPay': False}\n",
      "{'_id': ObjectId('5b62ae8194e45f1194a09d94'), 'nCIICIdentityCheck': 0, 'months': 6, 'mobileRealnameValidate': 1, 'certificateValidate': 0, 'currentRate': 16.0, 'funding': 50.0, 'creditCode': 'A', 'title': '手机app用户的第9次闪电借款', 'listingId': 123664104, 'borrowerName': 'pdu0****40477', 'bids': 1, 'amount': 1418.0, 'creditValidate': 0, 'statusId': 1, 'isPay': False}\n",
      "{'_id': ObjectId('5b62ae8194e45f1194a09d93'), 'nCIICIdentityCheck': 0, 'months': 12, 'mobileRealnameValidate': 1, 'certificateValidate': 0, 'currentRate': 20.0, 'funding': 101.0, 'creditCode': 'B', 'title': 'pdu4****50324第2次借款', 'listingId': 123659452, 'borrowerName': 'pdu4****50324', 'bids': 2, 'amount': 2859.0, 'creditValidate': 0, 'statusId': 1, 'isPay': False}\n",
      "{'_id': ObjectId('5b62ae8094e45f1194a09d92'), 'nCIICIdentityCheck': 0, 'months': 6, 'mobileRealnameValidate': 1, 'certificateValidate': 0, 'currentRate': 20.0, 'funding': 56.0, 'creditCode': 'B', 'title': '手机app用户的第6次闪电借款', 'listingId': 123662755, 'borrowerName': 'pdu2****32083', 'bids': 1, 'amount': 1527.0, 'creditValidate': 0, 'statusId': 1, 'isPay': False}\n",
      "{'_id': ObjectId('5b62ae8094e45f1194a09d91'), 'nCIICIdentityCheck': 0, 'months': 12, 'mobileRealnameValidate': 1, 'certificateValidate': 0, 'currentRate': 24.0, 'funding': 102.0, 'creditCode': 'C', 'title': 'pdu8****11512第5次借款', 'listingId': 123649904, 'borrowerName': 'pdu8****11512', 'bids': 2, 'amount': 2721.0, 'creditValidate': 0, 'statusId': 1, 'isPay': False}\n",
      "{'_id': ObjectId('5b62ae8094e45f1194a09d90'), 'nCIICIdentityCheck': 0, 'months': 12, 'mobileRealnameValidate': 1, 'certificateValidate': 1, 'currentRate': 20.0, 'funding': 58.0, 'creditCode': 'B', 'title': 'pdu1****65706第16次借款', 'listingId': 123660791, 'borrowerName': 'pdu1****65706', 'bids': 1, 'amount': 1538.0, 'creditValidate': 0, 'statusId': 1, 'isPay': False}\n",
      "{'_id': ObjectId('5b62ae8094e45f1194a09d8f'), 'nCIICIdentityCheck': 0, 'months': 6, 'mobileRealnameValidate': 1, 'certificateValidate': 0, 'currentRate': 20.0, 'funding': 100.0, 'creditCode': 'B', 'title': 'pdu1****28003第8次借款', 'listingId': 123661122, 'borrowerName': 'pdu1****28003', 'bids': 2, 'amount': 2584.0, 'creditValidate': 0, 'statusId': 1, 'isPay': False}\n",
      "{'_id': ObjectId('5b62ae8094e45f1194a09d8e'), 'nCIICIdentityCheck': 0, 'months': 6, 'mobileRealnameValidate': 1, 'certificateValidate': 0, 'currentRate': 24.0, 'funding': 200.0, 'creditCode': 'C', 'title': 'pdu8****70725第16次借款', 'listingId': 123659555, 'borrowerName': 'pdu8****70725', 'bids': 1, 'amount': 5048.0, 'creditValidate': 0, 'statusId': 1, 'isPay': False}\n",
      "{'_id': ObjectId('5b62ae7d94e45f1194a09d8d'), 'nCIICIdentityCheck': 0, 'months': 3, 'mobileRealnameValidate': 1, 'certificateValidate': 0, 'currentRate': 24.0, 'funding': 100.0, 'creditCode': 'C', 'title': 'pdu0****26347第10次借款', 'listingId': 123654001, 'borrowerName': 'pdu0****26347', 'bids': 2, 'amount': 2500.0, 'creditValidate': 0, 'statusId': 1, 'isPay': False}\n",
      "{'_id': ObjectId('5b62ae7c94e45f1194a09d8c'), 'nCIICIdentityCheck': 0, 'months': 3, 'mobileRealnameValidate': 1, 'certificateValidate': 0, 'currentRate': 24.0, 'funding': 60.0, 'creditCode': 'C', 'title': '手机app用户的第5次闪电借款', 'listingId': 123653810, 'borrowerName': 'pdu7****18425', 'bids': 1, 'amount': 1500.0, 'creditValidate': 0, 'statusId': 1, 'isPay': False}\n",
      "{'_id': ObjectId('5b62ae7c94e45f1194a09d8b'), 'nCIICIdentityCheck': 0, 'months': 6, 'mobileRealnameValidate': 1, 'certificateValidate': 0, 'currentRate': 20.0, 'funding': 100.0, 'creditCode': 'B', 'title': 'pdu0****16173第14次借款', 'listingId': 123659117, 'borrowerName': 'pdu0****16173', 'bids': 2, 'amount': 2491.0, 'creditValidate': 0, 'statusId': 1, 'isPay': False}\n",
      "{'_id': ObjectId('5b62ae7c94e45f1194a09d8a'), 'nCIICIdentityCheck': 0, 'months': 3, 'mobileRealnameValidate': 1, 'certificateValidate': 0, 'currentRate': 20.0, 'funding': 100.0, 'creditCode': 'B', 'title': 'pdu5****61880第14次借款', 'listingId': 123661245, 'borrowerName': 'pdu5****61880', 'bids': 1, 'amount': 2484.0, 'creditValidate': 0, 'statusId': 1, 'isPay': False}\n",
      "{'_id': ObjectId('5b62ae7c94e45f1194a09d89'), 'nCIICIdentityCheck': 0, 'months': 12, 'mobileRealnameValidate': 1, 'certificateValidate': 0, 'currentRate': 24.0, 'funding': 151.0, 'creditCode': 'C', 'title': '手机app用户的第19次闪电借款', 'listingId': 123654843, 'borrowerName': 'pdu4****08181', 'bids': 3, 'amount': 3718.0, 'creditValidate': 0, 'statusId': 1, 'isPay': False}\n",
      "{'_id': ObjectId('5b62ae7c94e45f1194a09d88'), 'nCIICIdentityCheck': 0, 'months': 6, 'mobileRealnameValidate': 1, 'certificateValidate': 0, 'currentRate': 24.0, 'funding': 62.0, 'creditCode': 'C', 'title': '手机app用户的第2次闪电借款', 'listingId': 123660595, 'borrowerName': 'pdu0****53351', 'bids': 1, 'amount': 1500.0, 'creditValidate': 0, 'statusId': 1, 'isPay': False}\n",
      "{'_id': ObjectId('5b62ae7b94e45f1194a09d87'), 'nCIICIdentityCheck': 0, 'months': 12, 'mobileRealnameValidate': 1, 'certificateValidate': 0, 'currentRate': 20.0, 'funding': 151.0, 'creditCode': 'B', 'title': '手机app用户的借款', 'listingId': 123663208, 'borrowerName': 'pdu1****70021', 'bids': 3, 'amount': 3500.0, 'creditValidate': 0, 'statusId': 1, 'isPay': False}\n",
      "{'_id': ObjectId('5b62ae7b94e45f1194a09d86'), 'nCIICIdentityCheck': 0, 'months': 12, 'mobileRealnameValidate': 1, 'certificateValidate': 0, 'currentRate': 20.0, 'funding': 154.0, 'creditCode': 'B', 'title': 'pdu0****05857第2次借款', 'listingId': 123664224, 'borrowerName': 'pdu0****05857', 'bids': 3, 'amount': 3508.0, 'creditValidate': 0, 'statusId': 1, 'isPay': False}\n",
      "{'_id': ObjectId('5b62ae7b94e45f1194a09d85'), 'nCIICIdentityCheck': 0, 'months': 6, 'mobileRealnameValidate': 1, 'certificateValidate': 0, 'currentRate': 20.0, 'funding': 439.0, 'creditCode': 'B', 'title': 'pdu6****56754第10次借款', 'listingId': 123663304, 'borrowerName': 'pdu6****56754', 'bids': 8, 'amount': 10000.0, 'creditValidate': 0, 'statusId': 1, 'isPay': False}\n"
     ]
    }
   ],
   "source": [
    "latest_list = fetch_latest_from_db()\n",
    "\n",
    "def test(latest_list):\n",
    "    for item in latest_list:\n",
    "        yield item\n",
    "\n",
    "for t in test(latest_list):\n",
    "    print(t)"
   ]
  },
  {
   "cell_type": "code",
   "execution_count": 168,
   "metadata": {
    "collapsed": false
   },
   "outputs": [
    {
     "data": {
      "text/plain": [
       "<generator object fib at 0x00000065D7432FC0>"
      ]
     },
     "execution_count": 168,
     "metadata": {},
     "output_type": "execute_result"
    }
   ],
   "source": [
    "def fib():\n",
    "    a, b = 1, 1\n",
    "    while True:\n",
    "        print(a)\n",
    "        yield a\n",
    "        a, b = b, a+b \n",
    "        \n",
    "for x in fib():\n",
    "    print(x)"
   ]
  },
  {
   "cell_type": "code",
   "execution_count": 173,
   "metadata": {
    "collapsed": false
   },
   "outputs": [
    {
     "ename": "AttributeError",
     "evalue": "'generator' object has no attribute 'next'",
     "output_type": "error",
     "traceback": [
      "\u001b[1;31m---------------------------------------------------------------------------\u001b[0m",
      "\u001b[1;31mAttributeError\u001b[0m                            Traceback (most recent call last)",
      "\u001b[1;32m<ipython-input-173-aca8cf3947b9>\u001b[0m in \u001b[0;36m<module>\u001b[1;34m()\u001b[0m\n\u001b[0;32m     55\u001b[0m \u001b[1;33m\u001b[0m\u001b[0m\n\u001b[0;32m     56\u001b[0m \u001b[1;33m\u001b[0m\u001b[0m\n\u001b[1;32m---> 57\u001b[1;33m \u001b[0mdo\u001b[0m\u001b[1;33m(\u001b[0m\u001b[1;36m1\u001b[0m\u001b[1;33m)\u001b[0m\u001b[1;33m\u001b[0m\u001b[0m\n\u001b[0m\u001b[0;32m     58\u001b[0m \u001b[1;31m# for i in range(1, 10):\u001b[0m\u001b[1;33m\u001b[0m\u001b[1;33m\u001b[0m\u001b[0m\n\u001b[0;32m     59\u001b[0m \u001b[1;31m#     print 'simulate a timer, %s seconds passed' % i\u001b[0m\u001b[1;33m\u001b[0m\u001b[1;33m\u001b[0m\u001b[0m\n",
      "\u001b[1;32m<ipython-input-173-aca8cf3947b9>\u001b[0m in \u001b[0;36m_inner_func\u001b[1;34m(*args, **kwargs)\u001b[0m\n\u001b[0;32m     41\u001b[0m         \u001b[0mgen\u001b[0m \u001b[1;33m=\u001b[0m \u001b[0mfunc\u001b[0m\u001b[1;33m(\u001b[0m\u001b[1;33m*\u001b[0m\u001b[0margs\u001b[0m\u001b[1;33m,\u001b[0m \u001b[1;33m**\u001b[0m\u001b[0mkwargs\u001b[0m\u001b[1;33m)\u001b[0m\u001b[1;33m\u001b[0m\u001b[0m\n\u001b[0;32m     42\u001b[0m         \u001b[1;32mif\u001b[0m \u001b[0mtype\u001b[0m\u001b[1;33m(\u001b[0m\u001b[0mgen\u001b[0m\u001b[1;33m)\u001b[0m \u001b[1;32mis\u001b[0m \u001b[0mtypes\u001b[0m\u001b[1;33m.\u001b[0m\u001b[0mGeneratorType\u001b[0m\u001b[1;33m:\u001b[0m\u001b[1;33m\u001b[0m\u001b[0m\n\u001b[1;32m---> 43\u001b[1;33m             \u001b[0mg_yield_mgr\u001b[0m\u001b[1;33m.\u001b[0m\u001b[0mon_generator_excute\u001b[0m\u001b[1;33m(\u001b[0m\u001b[0mgen\u001b[0m\u001b[1;33m)\u001b[0m\u001b[1;33m\u001b[0m\u001b[0m\n\u001b[0m\u001b[0;32m     44\u001b[0m \u001b[1;33m\u001b[0m\u001b[0m\n\u001b[0;32m     45\u001b[0m         \u001b[1;32mreturn\u001b[0m \u001b[0mgen\u001b[0m\u001b[1;33m\u001b[0m\u001b[0m\n",
      "\u001b[1;32m<ipython-input-173-aca8cf3947b9>\u001b[0m in \u001b[0;36mon_generator_excute\u001b[1;34m(self, gen, cur_time)\u001b[0m\n\u001b[0;32m     31\u001b[0m \u001b[1;33m\u001b[0m\u001b[0m\n\u001b[0;32m     32\u001b[0m     \u001b[1;32mdef\u001b[0m \u001b[0mon_generator_excute\u001b[0m\u001b[1;33m(\u001b[0m\u001b[0mself\u001b[0m\u001b[1;33m,\u001b[0m \u001b[0mgen\u001b[0m\u001b[1;33m,\u001b[0m \u001b[0mcur_time\u001b[0m \u001b[1;33m=\u001b[0m \u001b[1;32mNone\u001b[0m\u001b[1;33m)\u001b[0m\u001b[1;33m:\u001b[0m\u001b[1;33m\u001b[0m\u001b[0m\n\u001b[1;32m---> 33\u001b[1;33m         \u001b[0mt\u001b[0m \u001b[1;33m=\u001b[0m \u001b[0mgen\u001b[0m\u001b[1;33m.\u001b[0m\u001b[0mnext\u001b[0m\u001b[1;33m(\u001b[0m\u001b[1;33m)\u001b[0m\u001b[1;33m\u001b[0m\u001b[0m\n\u001b[0m\u001b[0;32m     34\u001b[0m         \u001b[0mcur_time\u001b[0m \u001b[1;33m=\u001b[0m \u001b[0mcur_time\u001b[0m \u001b[1;32mor\u001b[0m \u001b[0mtime\u001b[0m\u001b[1;33m.\u001b[0m\u001b[0mtime\u001b[0m\u001b[1;33m(\u001b[0m\u001b[1;33m)\u001b[0m\u001b[1;33m\u001b[0m\u001b[0m\n\u001b[0;32m     35\u001b[0m         \u001b[0mself\u001b[0m\u001b[1;33m.\u001b[0m\u001b[0madd_generator\u001b[0m\u001b[1;33m(\u001b[0m\u001b[0mgen\u001b[0m\u001b[1;33m,\u001b[0m \u001b[0mt\u001b[0m \u001b[1;33m+\u001b[0m \u001b[0mcur_time\u001b[0m\u001b[1;33m)\u001b[0m\u001b[1;33m\u001b[0m\u001b[0m\n",
      "\u001b[1;31mAttributeError\u001b[0m: 'generator' object has no attribute 'next'"
     ]
    }
   ],
   "source": [
    "import sys\n",
    "# import Timer\n",
    "import types\n",
    "import time\n",
    "\n",
    "class YieldManager(object):\n",
    "    def __init__(self, tick_delta = 0.01):\n",
    "        self.generator_dict = {}\n",
    "        # self._tick_timer = Timer.addRepeatTimer(tick_delta, lambda: self.tick())\n",
    "\n",
    "    def tick(self):\n",
    "        cur = time.time()\n",
    "        for gene, t in self.generator_dict.items():\n",
    "            if cur >= t:\n",
    "                self._do_resume_genetator(gene,cur)\n",
    "\n",
    "    def _do_resume_genetator(self,gene, cur ):\n",
    "        try:\n",
    "            self.on_generator_excute(gene, cur)\n",
    "        except StopIteration as e:\n",
    "            self.remove_generator(gene)\n",
    "        except Exception as e:\n",
    "            print('unexcepet error', type(e))\n",
    "            self.remove_generator(gene)\n",
    "\n",
    "    def add_generator(self, gen, deadline):\n",
    "        self.generator_dict[gen] = deadline\n",
    "\n",
    "    def remove_generator(self, gene):\n",
    "        del self.generator_dict[gene]\n",
    "\n",
    "    def on_generator_excute(self, gen, cur_time = None):\n",
    "        t = gen.next()\n",
    "        cur_time = cur_time or time.time()\n",
    "        self.add_generator(gen, t + cur_time)\n",
    "\n",
    "g_yield_mgr = YieldManager()\n",
    "\n",
    "def yield_dec(func):\n",
    "    def _inner_func(*args, **kwargs):\n",
    "        gen = func(*args, **kwargs)\n",
    "        if type(gen) is types.GeneratorType:\n",
    "            g_yield_mgr.on_generator_excute(gen)\n",
    "\n",
    "        return gen\n",
    "    return _inner_func\n",
    "\n",
    "@yield_dec\n",
    "def do(a):\n",
    "    print('do', a)\n",
    "    yield 2.5\n",
    "    print('post_do', a)\n",
    "    yield 3\n",
    "    print('post_do again', a)\n",
    "\n",
    "\n",
    "do(1)\n",
    "# for i in range(1, 10):\n",
    "#     print 'simulate a timer, %s seconds passed' % i\n",
    "#     time.sleep(1)\n",
    "#     g_yield_mgr.tick()"
   ]
  },
  {
   "cell_type": "code",
   "execution_count": 176,
   "metadata": {
    "collapsed": false
   },
   "outputs": [
    {
     "data": {
      "text/plain": [
       "datetime.datetime(2018, 8, 9, 9, 31, 59, 877575)"
      ]
     },
     "execution_count": 176,
     "metadata": {},
     "output_type": "execute_result"
    }
   ],
   "source": [
    "import datetime\n",
    "datetime.datetime.utcnow()"
   ]
  },
  {
   "cell_type": "code",
   "execution_count": null,
   "metadata": {
    "collapsed": true
   },
   "outputs": [],
   "source": []
  }
 ],
 "metadata": {
  "anaconda-cloud": {},
  "kernelspec": {
   "display_name": "Python [default]",
   "language": "python",
   "name": "python3"
  },
  "language_info": {
   "codemirror_mode": {
    "name": "ipython",
    "version": 3
   },
   "file_extension": ".py",
   "mimetype": "text/x-python",
   "name": "python",
   "nbconvert_exporter": "python",
   "pygments_lexer": "ipython3",
   "version": "3.5.2"
  }
 },
 "nbformat": 4,
 "nbformat_minor": 1
}
